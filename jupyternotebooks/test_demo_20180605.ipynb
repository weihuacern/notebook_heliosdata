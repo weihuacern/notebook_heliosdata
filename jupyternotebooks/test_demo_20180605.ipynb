{
 "cells": [
  {
   "cell_type": "markdown",
   "metadata": {},
   "source": [
    "## Test for Demo\n",
    "- Hash test, input byte, md5, check aok\n",
    "- find common element with 2 set"
   ]
  },
  {
   "cell_type": "code",
   "execution_count": 1,
   "metadata": {
    "collapsed": true
   },
   "outputs": [],
   "source": [
    "import hashlib"
   ]
  },
  {
   "cell_type": "code",
   "execution_count": 2,
   "metadata": {
    "scrolled": true
   },
   "outputs": [
    {
     "name": "stdout",
     "output_type": "stream",
     "text": [
      "273b9ae535de53399c86a9b83148a8ed\n",
      "<class 'str'>\n"
     ]
    }
   ],
   "source": [
    "m = hashlib.md5(b\"female\").hexdigest()\n",
    "print(m)\n",
    "print(type(m))"
   ]
  },
  {
   "cell_type": "code",
   "execution_count": 3,
   "metadata": {},
   "outputs": [
    {
     "name": "stdout",
     "output_type": "stream",
     "text": [
      "True\n",
      "False\n"
     ]
    }
   ],
   "source": [
    "TEST_DB_PIICOLS = set([\"firstname\", \"lastname\", \"gender\", \"phonenumber\", \"email\", \"country\", \"city\", \"stateprovince\"])\n",
    "print(bool(set([\"firstname\", \"tab2col1\"]) & TEST_DB_PIICOLS))\n",
    "print(bool(set([\"tab2col1\", \"tab3col1\"]) & TEST_DB_PIICOLS))"
   ]
  },
  {
   "cell_type": "code",
   "execution_count": 4,
   "metadata": {},
   "outputs": [
    {
     "data": {
      "text/plain": [
       "defaultdict(int,\n",
       "            {'city': 1,\n",
       "             'country': 1,\n",
       "             'email': 1,\n",
       "             'firstname': 1,\n",
       "             'gender': 1,\n",
       "             'lastname': 1,\n",
       "             'phonenumber': 1,\n",
       "             'stateprovince': 1})"
      ]
     },
     "execution_count": 4,
     "metadata": {},
     "output_type": "execute_result"
    }
   ],
   "source": [
    "from collections import defaultdict\n",
    "_hits_per_tab = defaultdict(int)\n",
    "keys = [\"firstname\", \"lastname\", \"gender\", \"phonenumber\", \"email\", \"country\", \"city\", \"stateprovince\"]\n",
    "for key in keys:\n",
    "    _hits_per_tab[key] += 1\n",
    "_hits_per_tab"
   ]
  },
  {
   "cell_type": "code",
   "execution_count": 5,
   "metadata": {},
   "outputs": [
    {
     "name": "stdout",
     "output_type": "stream",
     "text": [
      "Token.Keyword.DML\n",
      "<class 'sqlparse.sql.Token'>\n",
      "select\n",
      "Token.Text.Whitespace\n",
      "<class 'sqlparse.sql.Token'>\n",
      " \n",
      "None\n",
      "<class 'sqlparse.sql.IdentifierList'>\n",
      "city, stateprovince, tab4col1\n",
      "Token.Text.Whitespace\n",
      "<class 'sqlparse.sql.Token'>\n",
      " \n",
      "Token.Keyword\n",
      "<class 'sqlparse.sql.Token'>\n",
      "from\n",
      "Token.Text.Whitespace\n",
      "<class 'sqlparse.sql.Token'>\n",
      " \n",
      "None\n",
      "<class 'sqlparse.sql.Identifier'>\n",
      "pii_4th\n",
      "Token.Text.Whitespace\n",
      "<class 'sqlparse.sql.Token'>\n",
      " \n",
      "None\n",
      "<class 'sqlparse.sql.Where'>\n",
      "where country = 'CHN' and city = 'Beijing\n"
     ]
    }
   ],
   "source": [
    "import sqlparse\n",
    "#from sqlparse.sql import IdentifierList, Identifier\n",
    "#from sqlparse.tokens import Keyword, DML\n",
    "\n",
    "#'''\n",
    "#FIXME, we only consider very simple sql usuage in here\n",
    "def _extract_from_part_simple(sql):\n",
    "    from_seen = False\n",
    "    dict_tokens = {'table':None, 'column':None, 'sel':None}\n",
    "    parsed = sqlparse.parse(sql)[0] #FIXME, only for 1 singel query\n",
    "    \n",
    "    for token in parsed.tokens:\n",
    "        print(token.ttype)\n",
    "        print(type(token))\n",
    "        print(str(token))\n",
    "        if isinstance(token, sqlparse.sql.Identifier) and from_seen:\n",
    "            dict_tokens['table'] = token\n",
    "        \n",
    "        if (isinstance(token, sqlparse.sql.IdentifierList) or isinstance(token, sqlparse.sql.Identifier)) and not from_seen:\n",
    "            dict_tokens['column'] = token\n",
    "        \n",
    "        if isinstance(token, sqlparse.sql.Where):\n",
    "            dict_tokens['sel'] = token\n",
    "                       \n",
    "        if token.ttype is sqlparse.tokens.Keyword and token.value.lower() == 'from':\n",
    "            from_seen = True\n",
    "                      \n",
    "    return dict_tokens\n",
    "\n",
    "'''\n",
    "def _extract_table_identifiers_simple(token_stream):\n",
    "    c_list = []\n",
    "\n",
    "    for entry in token_stream:\n",
    "        if entry is None or entry['table'] is None:\n",
    "            continue\n",
    "        columns = entry['column']\n",
    "        for item in columns or []:\n",
    "            if item is None:\n",
    "                continue\n",
    "            #SQL(\"col check: %s\" % item)\n",
    "            if isinstance(item, IdentifierList):\n",
    "                for identifier in item.get_identifiers():\n",
    "                    c_list.append(identifier.get_name())\n",
    "            elif isinstance(item, Identifier):\n",
    "                c_list.append(item.get_name())\n",
    "        item = entry['table']\n",
    "        if isinstance(item, IdentifierList):\n",
    "            for identifier in item.get_identifiers():\n",
    "                yield {'tables':identifier.get_name(), 'columens':c_list}\n",
    "        elif isinstance(item, Identifier):\n",
    "            yield {'tables':item.get_name(), 'columns':c_list}\n",
    "        elif item.ttype is Keyword:\n",
    "            yield {'tables':item.value, 'columns':c_list}\n",
    "'''\n",
    "\n",
    "sql = \"select city, stateprovince, tab4col1 from pii_4th where country = 'CHN' and city = 'Beijing\"\n",
    "#sql = \"select email, tab3col1, tab3col2 from pii_3rd\"\n",
    "token_stream = _extract_from_part_simple(sql)\n",
    "#print(type(token_stream))\n",
    "#print(str(token_stream['table']))\n",
    "#print(str(token_stream['column']))\n",
    "#print(str(token_stream['sel']))"
   ]
  },
  {
   "cell_type": "code",
   "execution_count": 6,
   "metadata": {},
   "outputs": [
    {
     "name": "stdout",
     "output_type": "stream",
     "text": [
      "gender\n",
      "female\n"
     ]
    }
   ],
   "source": [
    "import re    \n",
    "def _extract_where_regex(sqlsubstr):\n",
    "    if not sqlsubstr:\n",
    "        return \"\", \"\"\n",
    "    selcol = (re.findall(\"(?<=where )(.*?)(?=\\>|\\<|\\=)\", sqlsubstr)[0]).strip()\n",
    "    selval = (re.findall(\"(?<=\\=)(.*?)($)\", sqlsubstr)[0][0]).strip().strip(\"'\")\n",
    "    return selcol, selval\n",
    "    #return \"gender\", \"female\"\n",
    "    \n",
    "selcol, selval = _extract_where_regex(\"where gender = 'female\")\n",
    "print(selcol) \n",
    "print(selval)"
   ]
  },
  {
   "cell_type": "code",
   "execution_count": 7,
   "metadata": {},
   "outputs": [
    {
     "name": "stdout",
     "output_type": "stream",
     "text": [
      "[0, 1, 4]\n"
     ]
    }
   ],
   "source": [
    "def find_indices(this_list, match):\n",
    "    return [i for i, x in enumerate(this_list) if x == match]\n",
    "\n",
    "print(find_indices([\"ab\", \"ab\", \"ac\", \"ad\", \"ab\"], \"ab\"))"
   ]
  },
  {
   "cell_type": "code",
   "execution_count": 8,
   "metadata": {},
   "outputs": [
    {
     "name": "stdout",
     "output_type": "stream",
     "text": [
      "0\n",
      "dict_keys(['192.168.7.114', '192.168.7.14', '192.168.7.15', '192.168.7.16', '192.168.7.17'])\n"
     ]
    }
   ],
   "source": [
    "#test dict of dict\n",
    "from collections import defaultdict\n",
    "\n",
    "_hits_per_querier = defaultdict(defaultdict)\n",
    "host_list = [\"192.168.7.114\", \"192.168.7.14\", \"192.168.7.15\", \"192.168.7.16\", \"192.168.7.17\"]\n",
    "uid_list = [\"cfcd208495d565ef66e7dff9f98764da\",\"c4ca4238a0b923820dcc509a6f75849b\",\"c81e728d9d4c2f636f067f89cc14862c\",\"eccbc87e4b5ce2fe28308fd9f2a7baf3\",\"a87ff679a2f3e71d9181a67b7542122c\",\"e4da3b7fbbce2345d7772b0674a318d5\",\"1679091c5a880faf6fb5e6087eb1b2dc\",\"8f14e45fceea167a5a36dedd4bea2543\",\"c9f0f895fb98ab9159f51fd0297e236d\",\"45c48cce2e2d7fbdea1afc51c7c6ad26\",\"d3d9446802a44259755d38e6d163e820\",\"6512bd43d9caa6e02c990b0a82652dca\",\"c20ad4d76fe97759aa27a0c99bff6710\",\"c51ce410c124a10e0db5e4b97fc2af39\",\"aab3238922bcc25a6f606eb525ffdc56\",\"9bf31c7ff062936a96d3c8bd1f8f2ff3\",\"c74d97b01eae257e44aa9d5bade97baf\",\"70efdf2ec9b086079795c442636b55fb\",\"6f4922f45568161a8cdf4ad2299f6d23\",\"1f0e3dad99908345f7439f8ffabdffc4\",\"98f13708210194c475687be6106a3b84\",\"3c59dc048e8850243be8079a5c74d079\",\"b6d767d2f8ed5d21a44b0e5886680cb9\",\"37693cfc748049e45d87b8c7d8b9aacd\",\"1ff1de774005f8da13f42943881c655f\",\"8e296a067a37563370ded05f5a3bf3ec\",\"4e732ced3463d06de0ca9a15b6153677\",\"02e74f10e0327ad868d138f2b4fdd6f0\",\"33e75ff09dd601bbe69f351039152189\",\"6ea9ab1baa0efb9e19094440c317e21b\",\"34173cb38f07f89ddbebc2ac9128303f\",\"c16a5320fa475530d9583c34fd356ef5\",\"6364d3f0f495b6ab9dcf8d3b5c6e0b01\",\"182be0c5cdcd5072bb1864cdee4d3d6e\",\"e369853df766fa44e1ed0ff613f563bd\",\"1c383cd30b7c298ab50293adfecb7b18\",\"19ca14e7ea6328a42e0eb13d585e4c22\",\"a5bfc9e07964f8dddeb95fc584cd965d\",\"a5771bce93e200c36f7cd9dfd0e5deaa\",\"d67d8ab4f4c10bf22aa353e27879133c\",\"d645920e395fedad7bbbed0eca3fe2e0\",\"3416a75f4cea9109507cacd8e2f2aefc\",\"a1d0c6e83f027327d8461063f4ac58a6\",\"17e62166fc8586dfa4d1bc0e1742c08b\",\"f7177163c833dff4b38fc8d2872f1ec6\",\"6c8349cc7260ae62e3b1396831a8398f\",\"d9d4f495e875a2e075a1a4a6e1b9770f\",\"67c6a1e7ce56d3d6fa748ab6d9af3fd7\",\"642e92efb79421734881b53e1e1b18b6\",\"f457c545a9ded88f18ecee47145a72c0\",\"c0c7c76d30bd3dcaefc96f40275bdc0a\",\"2838023a778dfaecdc212708f721b788\",\"9a1158154dfa42caddbd0694a4e9bdc8\",\"d82c8d1619ad8176d665453cfb2e55f0\",\"a684eceee76fc522773286a895bc8436\",\"b53b3a3d6ab90ce0268229151c9bde11\",\"9f61408e3afb633e50cdf1b20de6f466\",\"72b32a1f754ba1c09b3695e0cb6cde7f\",\"66f041e16a60928b05a7e228a89c3799\",\"093f65e080a295f8076b1c5722a46aa2\",\"072b030ba126b2f4b2374f342be9ed44\",\"7f39f8317fbdb1988ef4c628eba02591\",\"44f683a84163b3523afe57c2e008bc8c\",\"03afdbd66e7929b125f8597834fa83a4\",\"ea5d2f1c4608232e07d3aa3d998e5135\",\"fc490ca45c00b1249bbe3554a4fdf6fb\",\"3295c76acbf4caaed33c36b1b5fc2cb1\",\"735b90b4568125ed6c3f678819b6e058\",\"a3f390d88e4c41f2747bfa2f1b5f87db\",\"14bfa6bb14875e45bba028a21ed38046\",\"7cbbc409ec990f19c78c75bd1e06f215\",\"e2c420d928d4bf8ce0ff2ec19b371514\",\"32bb90e8976aab5298d5da10fe66f21d\",\"d2ddea18f00665ce8623e36bd4e3c7c5\",\"ad61ab143223efbc24c7d2583be69251\",\"d09bf41544a3365a46c9077ebb5e35c3\",\"fbd7939d674997cdb4692d34de8633c4\",\"28dd2c7955ce926456240b2ff0100bde\",\"35f4a8d465e6e1edc05f3d8ab658c551\",\"d1fe173d08e959397adf34b1d77e88d7\",\"f033ab37c30201f73f142449d037028d\",\"43ec517d68b6edd3015b3edc9a11367b\",\"9778d5d219c5080b9a6a17bef029331c\",\"fe9fc289c3ff0af142b6d3bead98a923\",\"68d30a9594728bc39aa24be94b319d21\",\"3ef815416f775098fe977004015c6193\",\"93db85ed909c13838ff95ccfa94cebd9\",\"c7e1249ffc03eb9ded908c236bd1996d\",\"2a38a4a9316c49e5a833517c45d31070\",\"7647966b7343c29048673252e490f736\",\"8613985ec49eb8f757ae6439e879bb2a\",\"54229abfcfa5649e7003b83dd4755294\",\"92cc227532d17e56e07902b254dfad10\",\"98dce83da57b0395e163467c9dae521b\",\"f4b9ec30ad9f68f89b29639786cb62ef\",\"812b4ba287f5ee0bc9d43bbf5bbe87fb\",\"26657d5ff9020d2abefe558796b99584\",\"e2ef524fbf3d9fe611d5a8e90fefdc9c\",\"ed3d2c21991e3bef5e069713af9fa6ca\",\"ac627ab1ccbdb62ec96e702f07f6425b\"]\n",
    "\n",
    "for host in host_list:\n",
    "    for uid in uid_list:\n",
    "        _hits_per_querier[host][uid] = 0\n",
    "        \n",
    "print( _hits_per_querier[\"192.168.7.14\"][\"c4ca4238a0b923820dcc509a6f75849b\"] )\n",
    "print( _hits_per_querier.keys())"
   ]
  },
  {
   "cell_type": "code",
   "execution_count": 2,
   "metadata": {
    "collapsed": true
   },
   "outputs": [],
   "source": [
    "import os\n",
    "import paramiko"
   ]
  },
  {
   "cell_type": "code",
   "execution_count": 8,
   "metadata": {
    "collapsed": true
   },
   "outputs": [],
   "source": [
    "ssh = paramiko.SSHClient()\n",
    "ssh.set_missing_host_key_policy(paramiko.AutoAddPolicy())\n",
    "#ssh.load_host_keys(os.path.expanduser(os.path.join(\"~\", \".ssh\", \"known_hosts\")))\n",
    "ssh.connect(\"192.168.7.5\", username=\"root\", password=\"Helios12$\")\n",
    "sftp = ssh.open_sftp()\n",
    "sftp.put(\"/Users/ustc-weihua/notebook_heliosdata/worknotes/brologs/dns.log\", \"/root/dns.log\")\n",
    "sftp.close()\n",
    "ssh.close()"
   ]
  },
  {
   "cell_type": "code",
   "execution_count": 1,
   "metadata": {
    "collapsed": true
   },
   "outputs": [],
   "source": [
    "import json\n",
    "from collections import defaultdict"
   ]
  },
  {
   "cell_type": "code",
   "execution_count": 7,
   "metadata": {},
   "outputs": [
    {
     "data": {
      "text/plain": [
       "defaultdict(list,\n",
       "            {'0': ['first name', 'last name', 'email', 'county', 'form name']})"
      ]
     },
     "execution_count": 7,
     "metadata": {},
     "output_type": "execute_result"
    }
   ],
   "source": [
    "def _person_colname_dict(colhash):\n",
    "    person_colname_dict = defaultdict(list)\n",
    "    colname_person_dict = json.loads(colhash)\n",
    "    #print(col_person_dict.keys())\n",
    "    for colname in colname_person_dict.keys():\n",
    "        person_dict = colname_person_dict[colname]\n",
    "        #print(person_dict.keys())\n",
    "        for person in person_dict.keys():\n",
    "            #print(person_dict[person])\n",
    "            if person_dict[person] != \"a3d2de7675556553a5f08e4c88d2c228\":\n",
    "                #print(person, colname)\n",
    "                person_colname_dict[person].append(colname)\n",
    "            \n",
    "    return person_colname_dict\n",
    "    \n",
    "    \n",
    "#test_hash = \"{'first name':{'0':'e8315caa4eb8c2a2625d4e97dbba100a'},'last name':{'0':'d93fa92962ddff020707834aac474cfd'},'middle name':{'0':'a3d2de7675556553a5f08e4c88d2c228'},'name':{'0':'a3d2de7675556553a5f08e4c88d2c228'},'date of birth':{'0':'a3d2de7675556553a5f08e4c88d2c228'},'place of birth':{'0':'a3d2de7675556553a5f08e4c88d2c228'},'social security number':{'0':'a3d2de7675556553a5f08e4c88d2c228'},'street number and name':{'0':'a3d2de7675556553a5f08e4c88d2c228'},'city':{'0':'a3d2de7675556553a5f08e4c88d2c228'},'state':{'0':'a3d2de7675556553a5f08e4c88d2c228'},'zip code':{'0':'a3d2de7675556553a5f08e4c88d2c228'},'country':{'0':'a3d2de7675556553a5f08e4c88d2c228'},'phone':{'0':'a3d2de7675556553a5f08e4c88d2c228'},'email':{'0':'39f6eef59c1ec60a73ff255f951b0d78'},'address':{'0':'a3d2de7675556553a5f08e4c88d2c228'},'county':{'0':'ada53304c5b9e4a839615b6e8f908eb6'},'form name':{'0':'da48cac343b32a4e21604212c04f8d27'}}\"\n",
    "test_hash = '{\"first name\":{\"0\":\"e8315caa4eb8c2a2625d4e97dbba100a\"},\"last name\":{\"0\":\"d93fa92962ddff020707834aac474cfd\"},\"middle name\":{\"0\":\"a3d2de7675556553a5f08e4c88d2c228\"},\"name\":{\"0\":\"a3d2de7675556553a5f08e4c88d2c228\"},\"date of birth\":{\"0\":\"a3d2de7675556553a5f08e4c88d2c228\"},\"place of birth\":{\"0\":\"a3d2de7675556553a5f08e4c88d2c228\"},\"social security number\":{\"0\":\"a3d2de7675556553a5f08e4c88d2c228\"},\"street number and name\":{\"0\":\"a3d2de7675556553a5f08e4c88d2c228\"},\"city\":{\"0\":\"a3d2de7675556553a5f08e4c88d2c228\"},\"state\":{\"0\":\"a3d2de7675556553a5f08e4c88d2c228\"},\"zip code\":{\"0\":\"a3d2de7675556553a5f08e4c88d2c228\"},\"country\":{\"0\":\"a3d2de7675556553a5f08e4c88d2c228\"},\"phone\":{\"0\":\"a3d2de7675556553a5f08e4c88d2c228\"},\"email\":{\"0\":\"39f6eef59c1ec60a73ff255f951b0d78\"},\"address\":{\"0\":\"a3d2de7675556553a5f08e4c88d2c228\"},\"county\":{\"0\":\"ada53304c5b9e4a839615b6e8f908eb6\"},\"form name\":{\"0\":\"da48cac343b32a4e21604212c04f8d27\"}}'\n",
    "_person_colname_dict(test_hash)"
   ]
  },
  {
   "cell_type": "code",
   "execution_count": 1,
   "metadata": {
    "collapsed": true
   },
   "outputs": [],
   "source": [
    "import ast\n",
    "from collections import defaultdict\n",
    "import json\n",
    "\n",
    "import consul\n",
    "import pandas as pd"
   ]
  },
  {
   "cell_type": "code",
   "execution_count": 3,
   "metadata": {
    "collapsed": true,
    "scrolled": true
   },
   "outputs": [],
   "source": [
    "dsaggr_dict_test = {\n",
    "    \"('192.168.8.74', 1433)\": {\n",
    "        \"hostname\": \"192.168.8.74:1433\",\n",
    "        \"name\": \"Payroll-West\",\n",
    "        \"badges\": \"fingerprint-bw\",\n",
    "        \"status\": \"Baseline\",\n",
    "        \"connection\": True,\n",
    "        \"_type\": \"MSSQL\",\n",
    "        \"huaPIITest10\": {\n",
    "            \"tabs\": \",pii_2nd,pii_3rd,pii_4th\",\n",
    "            \"cols\": \",tab2col1,gender,firstname,lastname,tab2col2,email,tab3col1,tab3col2,tab4col2,city,country,phonenumber,tab4col1,stateprovince\"\n",
    "        },\n",
    "        \"huaPIITest00\": {\n",
    "            \"tabs\": \",pii_4th,pii_2nd,pii_3rd\",\n",
    "            \"cols\": \",stateprovince,tab4col1,country,tab4col2,email,tab3col1,firstname,tab2col1,lastname,tab2col2,gender,phonenumber,city,tab3col2\"\n",
    "        }\n",
    "    },\n",
    "    \"('192.168.8.73', 80)\": {\n",
    "        \"files\": \"226ffb3cd6a338c67d5dc0a975c70e8bcde9a85f,7ecc4f02bc79bc2fda392ab46e2b3b60c22623a1,f51a69e6a5633677ea70366298ea30452234eef2,9aeb2bda4581b163118125f2c9a259d590f1ff80\",\n",
    "        \"name\": \"Payroll-West\",\n",
    "        \"badges\": \"fingerprint-bw\",\n",
    "        \"status\": \"Baseline\",\n",
    "        \"connection\": True\n",
    "    },\n",
    "    \"('192.168.8.74', 80)\": {\n",
    "        \"files\": \"ea713228184651843e6345d71ab354a77d3a9f8f\",\n",
    "        \"name\": \"Payroll-West\",\n",
    "        \"badges\": \"fingerprint-bw\",\n",
    "        \"status\": \"Baseline\",\n",
    "        \"connection\": True\n",
    "    },\n",
    "    \"('192.168.8.75', 1433)\": {\n",
    "        \"hostname\": \"192.168.8.75:1433\",\n",
    "        \"name\": \"Payroll-West\",\n",
    "        \"badges\": \"fingerprint-bw\",\n",
    "        \"status\": \"Baseline\",\n",
    "        \"connection\": True,\n",
    "        \"_type\": \"MSSQL\",\n",
    "        \"huaPIITest01\": {\n",
    "            \"tabs\": \",pii_2nd,pii_3rd,pii_4th\",\n",
    "            \"cols\": \",gender,tab2col1,tab3col1,phonenumber,tab3col2,tab4col2,country,stateprovince,tab4col1,city,email,tab2col2,firstname,lastname\"\n",
    "        }\n",
    "    }\n",
    "}\n",
    "\n",
    "\n",
    "DSAGGR_TABNAMES = ['hostname', 'name', 'badges', 'status', 'connection', '_type']\n",
    "DSAGGR_SCANNER_KEY = \"frontend/frontend_dsaggr_uuid\""
   ]
  },
  {
   "cell_type": "code",
   "execution_count": 4,
   "metadata": {},
   "outputs": [
    {
     "name": "stdout",
     "output_type": "stream",
     "text": [
      "{\"('192.168.8.74', 1433)\": {'hostname': '192.168.8.74:1433', 'name': 'Payroll-West', 'badges': 'fingerprint-bw', 'status': 'Baseline', 'connection': True, '_type': 'MSSQL', 'huaPIITest10': {'tabs': ',pii_2nd,pii_3rd,pii_4th', 'cols': ',tab2col1,gender,firstname,lastname,tab2col2,email,tab3col1,tab3col2,tab4col2,city,country,phonenumber,tab4col1,stateprovince'}, 'huaPIITest00': {'tabs': ',pii_4th,pii_2nd,pii_3rd', 'cols': ',stateprovince,tab4col1,country,tab4col2,email,tab3col1,firstname,tab2col1,lastname,tab2col2,gender,phonenumber,city,tab3col2'}}, \"('192.168.8.73', 80)\": {'files': '226ffb3cd6a338c67d5dc0a975c70e8bcde9a85f,7ecc4f02bc79bc2fda392ab46e2b3b60c22623a1,f51a69e6a5633677ea70366298ea30452234eef2,9aeb2bda4581b163118125f2c9a259d590f1ff80', 'name': 'Payroll-West', 'badges': 'fingerprint-bw', 'status': 'Baseline', 'connection': True}, \"('192.168.8.74', 80)\": {'files': 'ea713228184651843e6345d71ab354a77d3a9f8f', 'name': 'Payroll-West', 'badges': 'fingerprint-bw', 'status': 'Baseline', 'connection': True}, \"('192.168.8.75', 1433)\": {'hostname': '192.168.8.75:1433', 'name': 'Payroll-West', 'badges': 'fingerprint-bw', 'status': 'Baseline', 'connection': True, '_type': 'MSSQL', 'huaPIITest01': {'tabs': ',pii_2nd,pii_3rd,pii_4th', 'cols': ',gender,tab2col1,tab3col1,phonenumber,tab3col2,tab4col2,country,stateprovince,tab4col1,city,email,tab2col2,firstname,lastname'}}}\n",
      "<class 'dict'>\n"
     ]
    }
   ],
   "source": [
    "c = consul.Consul(host=\"192.168.7.21\", port=8500)\n",
    "#c.kv.put(DSAGGR_SCANNER_KEY, json.dumps(dsaggr_dict_test, separators=(',', ':')))\n",
    "res = json.loads(c.kv.get(DSAGGR_SCANNER_KEY)[1]['Value'].decode())\n",
    "print(res)\n",
    "print(type(res))"
   ]
  },
  {
   "cell_type": "code",
   "execution_count": 7,
   "metadata": {},
   "outputs": [
    {
     "data": {
      "text/html": [
       "<div>\n",
       "<style scoped>\n",
       "    .dataframe tbody tr th:only-of-type {\n",
       "        vertical-align: middle;\n",
       "    }\n",
       "\n",
       "    .dataframe tbody tr th {\n",
       "        vertical-align: top;\n",
       "    }\n",
       "\n",
       "    .dataframe thead th {\n",
       "        text-align: right;\n",
       "    }\n",
       "</style>\n",
       "<table border=\"1\" class=\"dataframe\">\n",
       "  <thead>\n",
       "    <tr style=\"text-align: right;\">\n",
       "      <th></th>\n",
       "      <th>files</th>\n",
       "      <th>hostname</th>\n",
       "      <th>ip</th>\n",
       "      <th>pii</th>\n",
       "      <th>services</th>\n",
       "      <th>tables</th>\n",
       "    </tr>\n",
       "  </thead>\n",
       "  <tbody>\n",
       "    <tr>\n",
       "      <th>0</th>\n",
       "      <td>4</td>\n",
       "      <td>UNKNOWN</td>\n",
       "      <td>192.168.8.73</td>\n",
       "      <td>True</td>\n",
       "      <td>1</td>\n",
       "      <td>0</td>\n",
       "    </tr>\n",
       "    <tr>\n",
       "      <th>1</th>\n",
       "      <td>1</td>\n",
       "      <td>192.168.8.74:1433</td>\n",
       "      <td>192.168.8.74</td>\n",
       "      <td>True</td>\n",
       "      <td>2</td>\n",
       "      <td>6</td>\n",
       "    </tr>\n",
       "    <tr>\n",
       "      <th>2</th>\n",
       "      <td>0</td>\n",
       "      <td>192.168.8.75:1433</td>\n",
       "      <td>192.168.8.75</td>\n",
       "      <td>True</td>\n",
       "      <td>1</td>\n",
       "      <td>3</td>\n",
       "    </tr>\n",
       "  </tbody>\n",
       "</table>\n",
       "</div>"
      ],
      "text/plain": [
       "   files           hostname            ip   pii  services  tables\n",
       "0      4            UNKNOWN  192.168.8.73  True         1       0\n",
       "1      1  192.168.8.74:1433  192.168.8.74  True         2       6\n",
       "2      0  192.168.8.75:1433  192.168.8.75  True         1       3"
      ]
     },
     "execution_count": 7,
     "metadata": {},
     "output_type": "execute_result"
    }
   ],
   "source": [
    "def _get_server_df(dsaggr_dict):\n",
    "    #{\"ip\": \"192.168.8.13\", \"hostname\": \"data-server01-192.168.7.13\", \"services\": 3, \"tables\": 4, \"files\": 5, \"pii\": true}\n",
    "    res_dict_list = []\n",
    "    for key in dsaggr_dict.keys():\n",
    "        res_dict = defaultdict()\n",
    "        ds_ip, ds_port = ast.literal_eval(key)\n",
    "        res_dict[\"ip\"] = ds_ip\n",
    "        res_dict[\"services\"] = ds_port\n",
    "        try:\n",
    "            res_dict[\"hostname\"] = dsaggr_dict[key][\"hostname\"]\n",
    "        except KeyError:\n",
    "            ##FIXME, do we have better option?\n",
    "            res_dict[\"hostname\"] = \"UNKNOWN\"\n",
    "        if \"files\" not in dsaggr_dict[key].keys():\n",
    "            dbname_list = [x for x in dsaggr_dict[key].keys() if x not in DSAGGR_TABNAMES]\n",
    "            res_dict[\"tables\"] = 0\n",
    "            for dbname in dbname_list:\n",
    "                try:\n",
    "                    res_dict[\"tables\"] += len([x for x in dsaggr_dict[key][dbname][\"tabs\"].split(\",\") if x])\n",
    "                except KeyError:\n",
    "                    pass             \n",
    "        try:\n",
    "            res_dict[\"files\"] = len([x for x in dsaggr_dict[key][\"files\"].split(\",\") if x])\n",
    "        except KeyError:\n",
    "            res_dict[\"files\"] = 0\n",
    "        res_dict[\"pii\"] = True\n",
    "        res_dict_list.append(res_dict)\n",
    "    df = pd.DataFrame(res_dict_list)\n",
    "    df = df.fillna(0)\n",
    "    df = df.groupby('ip', as_index=False).aggregate({\"services\": lambda x: x.nunique(), 'hostname': lambda x: x.loc[x.notnull()].iloc[0], 'tables': 'sum', 'files': 'sum', 'pii': lambda x: x.any()}).reindex(columns=df.columns)\n",
    "    #print(df.head())\n",
    "    df.tables = df.tables.astype(int)\n",
    "    return df\n",
    "\n",
    "_get_server_df(dsaggr_dict_test)"
   ]
  },
  {
   "cell_type": "code",
   "execution_count": 8,
   "metadata": {},
   "outputs": [
    {
     "data": {
      "text/html": [
       "<div>\n",
       "<style scoped>\n",
       "    .dataframe tbody tr th:only-of-type {\n",
       "        vertical-align: middle;\n",
       "    }\n",
       "\n",
       "    .dataframe tbody tr th {\n",
       "        vertical-align: top;\n",
       "    }\n",
       "\n",
       "    .dataframe thead th {\n",
       "        text-align: right;\n",
       "    }\n",
       "</style>\n",
       "<table border=\"1\" class=\"dataframe\">\n",
       "  <thead>\n",
       "    <tr style=\"text-align: right;\">\n",
       "      <th></th>\n",
       "      <th>_type</th>\n",
       "      <th>badges</th>\n",
       "      <th>connection</th>\n",
       "      <th>dbs</th>\n",
       "      <th>hostname</th>\n",
       "      <th>ip</th>\n",
       "      <th>name</th>\n",
       "      <th>port</th>\n",
       "      <th>status</th>\n",
       "      <th>tables</th>\n",
       "      <th>selected_db_t_col</th>\n",
       "    </tr>\n",
       "  </thead>\n",
       "  <tbody>\n",
       "    <tr>\n",
       "      <th>0</th>\n",
       "      <td>UNKNOWN</td>\n",
       "      <td>fingerprint-bw</td>\n",
       "      <td>True</td>\n",
       "      <td>0</td>\n",
       "      <td>UNKNOWN</td>\n",
       "      <td>192.168.8.73</td>\n",
       "      <td>Payroll-West</td>\n",
       "      <td>80</td>\n",
       "      <td>Baseline</td>\n",
       "      <td>0</td>\n",
       "      <td>0,0,0</td>\n",
       "    </tr>\n",
       "    <tr>\n",
       "      <th>1</th>\n",
       "      <td>MSSQL</td>\n",
       "      <td>fingerprint-bw</td>\n",
       "      <td>True</td>\n",
       "      <td>2</td>\n",
       "      <td>192.168.8.74:1433</td>\n",
       "      <td>192.168.8.74</td>\n",
       "      <td>Payroll-West</td>\n",
       "      <td>1433</td>\n",
       "      <td>Baseline</td>\n",
       "      <td>3</td>\n",
       "      <td>2,3,14</td>\n",
       "    </tr>\n",
       "    <tr>\n",
       "      <th>2</th>\n",
       "      <td>MSSQL</td>\n",
       "      <td>fingerprint-bw</td>\n",
       "      <td>True</td>\n",
       "      <td>1</td>\n",
       "      <td>192.168.8.75:1433</td>\n",
       "      <td>192.168.8.75</td>\n",
       "      <td>Payroll-West</td>\n",
       "      <td>1433</td>\n",
       "      <td>Baseline</td>\n",
       "      <td>3</td>\n",
       "      <td>1,3,14</td>\n",
       "    </tr>\n",
       "  </tbody>\n",
       "</table>\n",
       "</div>"
      ],
      "text/plain": [
       "     _type          badges  connection  dbs           hostname            ip  \\\n",
       "0  UNKNOWN  fingerprint-bw        True    0            UNKNOWN  192.168.8.73   \n",
       "1    MSSQL  fingerprint-bw        True    2  192.168.8.74:1433  192.168.8.74   \n",
       "2    MSSQL  fingerprint-bw        True    1  192.168.8.75:1433  192.168.8.75   \n",
       "\n",
       "           name  port    status  tables selected_db_t_col  \n",
       "0  Payroll-West    80  Baseline       0             0,0,0  \n",
       "1  Payroll-West  1433  Baseline       3            2,3,14  \n",
       "2  Payroll-West  1433  Baseline       3            1,3,14  "
      ]
     },
     "execution_count": 8,
     "metadata": {},
     "output_type": "execute_result"
    }
   ],
   "source": [
    "def _get_service_df(dsaggr_dict):\n",
    "    #{\"ip\": \"192.168.8.13\", \"hostname\": \"data-server01-192.168.7.13\", \"name\": \"Payroll-West\", \"port\": 1433, \"dbs\": 1, \"tables\": 4, \"_type\": \"MSSQL\", \"badges\": \"fingerprint-bw\", \"selected_db_t_col\": \"2,3,4\", \"status\": \"Baseline\", \"connection\": true}\n",
    "    res_dict_list = []\n",
    "    for key in dsaggr_dict.keys():\n",
    "        res_dict = defaultdict()\n",
    "        ds_ip, ds_port = ast.literal_eval(key)\n",
    "        res_dict[\"ip\"] = ds_ip\n",
    "        res_dict[\"port\"] = ds_port\n",
    "        try:\n",
    "            res_dict[\"hostname\"] = dsaggr_dict[key][\"hostname\"]\n",
    "        except KeyError:\n",
    "            res_dict[\"hostname\"] = \"UNKNOWN\"\n",
    "        try:\n",
    "            res_dict[\"name\"] = dsaggr_dict[key][\"name\"]\n",
    "        except KeyError:\n",
    "            res_dict[\"name\"] = \"UNKNOWN\"\n",
    "        try:\n",
    "            res_dict[\"badges\"] = dsaggr_dict[key][\"badges\"]\n",
    "        except KeyError:\n",
    "            res_dict[\"badges\"] = \"UNKNOWN\"\n",
    "        try:\n",
    "            res_dict[\"status\"] = dsaggr_dict[key][\"status\"]\n",
    "        except KeyError:\n",
    "            res_dict[\"status\"] = \"UNKNOWN\"\n",
    "        try:\n",
    "            res_dict[\"connection\"] = dsaggr_dict[key][\"connection\"]\n",
    "        except KeyError:\n",
    "            res_dict[\"connection\"] = False\n",
    "        try:\n",
    "            res_dict[\"_type\"] = dsaggr_dict[key][\"_type\"]\n",
    "        except KeyError:\n",
    "            res_dict[\"_type\"] = \"UNKNOWN\"\n",
    "\n",
    "        if \"files\" not in dsaggr_dict[key].keys():\n",
    "            dbname_list = [x for x in dsaggr_dict[key].keys() if x not in DSAGGR_TABNAMES]\n",
    "            try:\n",
    "                res_dict[\"dbs\"] = len(dbname_list)\n",
    "            except KeyError:\n",
    "                res_dict[\"dbs\"] = 0\n",
    "            for dbname in dbname_list:\n",
    "                try:\n",
    "                    res_dict[\"tables\"] = len([x for x in dsaggr_dict[key][dbname][\"tabs\"].split(\",\") if x])\n",
    "                except KeyError:\n",
    "                    res_dict[\"tables\"] = 0\n",
    "                try:\n",
    "                    res_dict[\"cols\"] = len([x for x in dsaggr_dict[key][dbname][\"cols\"].split(\",\") if x])\n",
    "                except KeyError:\n",
    "                    res_dict[\"cols\"] = 0\n",
    "        else:\n",
    "            res_dict[\"dbs\"] = 0\n",
    "        res_dict_list.append(res_dict)\n",
    "    df = pd.DataFrame(res_dict_list)\n",
    "    df = df.fillna(0)\n",
    "    #print(df.head())\n",
    "    df = df.groupby('ip', as_index=False).aggregate({'port': 'first', 'hostname': lambda x: x.loc[x.notnull()].iloc[0], 'name': 'first', 'badges': 'first', 'status': 'first', 'connection': 'first', '_type': 'first', 'dbs': 'sum', 'tables': 'sum', 'cols':'sum'}).reindex(columns=df.columns)\n",
    "    df[\"selected_db_t_col\"] = df[['dbs', 'tables', 'cols']].apply(lambda x: ','.join(x.map(int).map(str)), axis=1)\n",
    "    df = df.drop(['cols'], axis=1)\n",
    "    df.tables = df.tables.astype(int)\n",
    "    return df\n",
    "\n",
    "_get_service_df(dsaggr_dict_test)"
   ]
  },
  {
   "cell_type": "code",
   "execution_count": 9,
   "metadata": {
    "scrolled": true
   },
   "outputs": [
    {
     "name": "stderr",
     "output_type": "stream",
     "text": [
      "/Users/ustc-weihua/anaconda/lib/python3.6/site-packages/psycopg2/__init__.py:144: UserWarning: The psycopg2 wheel package will be renamed from release 2.8; in order to keep installing from binary please use \"pip install psycopg2-binary\" instead. For details see: <http://initd.org/psycopg/docs/install.html#binary-install-from-pypi>.\n",
      "  \"\"\")\n"
     ]
    }
   ],
   "source": [
    "### write/update pandas to postgres SQL\n",
    "from sqlalchemy import create_engine\n",
    "import psycopg2"
   ]
  },
  {
   "cell_type": "code",
   "execution_count": 11,
   "metadata": {
    "collapsed": true
   },
   "outputs": [],
   "source": [
    "def _upsert_ds_db(usr, pwd, db_ip, db_port, db_name, db_tabname, df):\n",
    "    conn_str = 'postgresql+psycopg2://' + usr + ':' + pwd + '@' + db_ip + \":\" + str(db_port) + '/' + db_name\n",
    "    #print(conn_str)\n",
    "    engine = create_engine(conn_str)\n",
    "    for index, row in df.iterrows():\n",
    "        #upsert:\n",
    "        #UPDATE table SET field='C', field2='Z' WHERE id=3;\n",
    "        #INSERT INTO table (id, field, field2) SELECT 3, 'C', 'Z' WHERE NOT EXISTS (SELECT 1 FROM table WHERE id=3);\n",
    "        #{\"ip\": \"192.168.8.13\", \"hostname\": \"data-server01-192.168.7.13\", \"services\": 3, \"tables\": 4, \"files\": 5, \"pii\": true}\n",
    "        update_val_list = [x + \"=\" + str(row[x]) for x in df.select_dtypes(include='bool').columns.values]\n",
    "        update_val_list += [x + \"=\" + str(row[x]) for x in df.select_dtypes(include='int').columns.values]\n",
    "        update_val_list += [x + \"='\" + str(row[x]) + \"'\" for x in df.select_dtypes(include='object').columns.values if x != \"ip\"]\n",
    "        update_val_str = \",\".join(update_val_list)\n",
    "        update_sql = \"update \" + db_tabname + \" set \" + update_val_str + \" where ip='\" + str(row[\"ip\"]) + \"'\"\n",
    "        #print(update_sql)\n",
    "        engine.execute(update_sql)\n",
    "        insert_dict = defaultdict()\n",
    "        for x in df.select_dtypes(include='bool').columns.values:\n",
    "            insert_dict[x] = str(row[x])\n",
    "        for x in df.select_dtypes(include='int').columns.values:\n",
    "            insert_dict[x] = str(row[x])\n",
    "        for x in df.select_dtypes(include='object').columns.values:\n",
    "            if x != \"ip\":\n",
    "                insert_dict[x] = \"'\" + str(row[x]) + \"'\"\n",
    "        #print(\",\".join(insert_dict.keys()))\n",
    "        #print(\",\".join(insert_dict.values()))\n",
    "        insert_sql = \"insert into \" + db_tabname + \"(ip,\" + \",\".join(insert_dict.keys()) + \")\" + \" select '\" + row[\"ip\"] + \"',\"  + \",\".join(insert_dict.values()) + \" where not exists (select 1 from \" + db_tabname + \" where ip='\" + row[\"ip\"] + \"')\" \n",
    "        #print(insert_sql)\n",
    "        engine.execute(insert_sql)\n",
    "    #df.to_sql(db_tabname, con=engine, if_exists='append', index=False)\n",
    "    #print(engine.execute(\"select * from \" + db_tabname).fetchall())\n",
    "    return\n",
    "#dsaggr_server_df_test = _get_server_df(dsaggr_dict_test)\n",
    "#_upsert_ds_db(\"helios\", \"Helios12$\", \"192.168.7.143\", 5432, \"smfe\", \"ds_server\", dsaggr_server_df_test)\n",
    "#dsaggr_service_df_test = _get_service_df(dsaggr_dict_test)\n",
    "#_upsert_ds_db(\"helios\", \"Helios12$\", \"192.168.7.143\", 5432, \"smfe\", \"ds_service\", dsaggr_service_df_test)"
   ]
  },
  {
   "cell_type": "code",
   "execution_count": 1,
   "metadata": {
    "collapsed": true
   },
   "outputs": [],
   "source": [
    "def _parse_db_tab_cols_str(db_tab_cols_str):\n",
    "    db_str, tab_str, cols_str = db_tab_cols_str.split(':')\n",
    "    col_list = cols_str.split(',')\n",
    "    return db_str, tab_str, col_list"
   ]
  },
  {
   "cell_type": "code",
   "execution_count": 4,
   "metadata": {
    "scrolled": true
   },
   "outputs": [
    {
     "data": {
      "text/plain": [
       "('db1', 'tab1', ['col1', 'col2', 'col3'])"
      ]
     },
     "execution_count": 4,
     "metadata": {},
     "output_type": "execute_result"
    }
   ],
   "source": [
    "db_tab_cols_str = \"db1:tab1:col1,col2,col3\"\n",
    "_parse_db_tab_cols_str(db_tab_cols_str)"
   ]
  },
  {
   "cell_type": "markdown",
   "metadata": {},
   "source": [
    "### End of the file"
   ]
  }
 ],
 "metadata": {
  "kernelspec": {
   "display_name": "Python 3",
   "language": "python",
   "name": "python3"
  },
  "language_info": {
   "codemirror_mode": {
    "name": "ipython",
    "version": 3
   },
   "file_extension": ".py",
   "mimetype": "text/x-python",
   "name": "python",
   "nbconvert_exporter": "python",
   "pygments_lexer": "ipython3",
   "version": "3.6.1"
  }
 },
 "nbformat": 4,
 "nbformat_minor": 2
}
