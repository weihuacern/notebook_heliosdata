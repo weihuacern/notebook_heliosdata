{
 "cells": [
  {
   "cell_type": "markdown",
   "metadata": {},
   "source": [
    "## Test for Demo\n",
    "- Hash test, input byte, md5, check aok\n",
    "- find common element with 2 set"
   ]
  },
  {
   "cell_type": "code",
   "execution_count": 1,
   "metadata": {
    "collapsed": true
   },
   "outputs": [],
   "source": [
    "import hashlib"
   ]
  },
  {
   "cell_type": "code",
   "execution_count": 2,
   "metadata": {
    "scrolled": true
   },
   "outputs": [
    {
     "name": "stdout",
     "output_type": "stream",
     "text": [
      "273b9ae535de53399c86a9b83148a8ed\n",
      "<class 'str'>\n"
     ]
    }
   ],
   "source": [
    "m = hashlib.md5(b\"female\").hexdigest()\n",
    "print(m)\n",
    "print(type(m))"
   ]
  },
  {
   "cell_type": "code",
   "execution_count": 3,
   "metadata": {},
   "outputs": [
    {
     "name": "stdout",
     "output_type": "stream",
     "text": [
      "True\n",
      "False\n"
     ]
    }
   ],
   "source": [
    "TEST_DB_PIICOLS = set([\"firstname\", \"lastname\", \"gender\", \"phonenumber\", \"email\", \"country\", \"city\", \"stateprovince\"])\n",
    "print(bool(set([\"firstname\", \"tab2col1\"]) & TEST_DB_PIICOLS))\n",
    "print(bool(set([\"tab2col1\", \"tab3col1\"]) & TEST_DB_PIICOLS))"
   ]
  },
  {
   "cell_type": "code",
   "execution_count": 4,
   "metadata": {},
   "outputs": [
    {
     "data": {
      "text/plain": [
       "defaultdict(int,\n",
       "            {'city': 1,\n",
       "             'country': 1,\n",
       "             'email': 1,\n",
       "             'firstname': 1,\n",
       "             'gender': 1,\n",
       "             'lastname': 1,\n",
       "             'phonenumber': 1,\n",
       "             'stateprovince': 1})"
      ]
     },
     "execution_count": 4,
     "metadata": {},
     "output_type": "execute_result"
    }
   ],
   "source": [
    "from collections import defaultdict\n",
    "_hits_per_tab = defaultdict(int)\n",
    "keys = [\"firstname\", \"lastname\", \"gender\", \"phonenumber\", \"email\", \"country\", \"city\", \"stateprovince\"]\n",
    "for key in keys:\n",
    "    _hits_per_tab[key] += 1\n",
    "_hits_per_tab"
   ]
  },
  {
   "cell_type": "code",
   "execution_count": 5,
   "metadata": {},
   "outputs": [
    {
     "name": "stdout",
     "output_type": "stream",
     "text": [
      "Token.Keyword.DML\n",
      "<class 'sqlparse.sql.Token'>\n",
      "select\n",
      "Token.Text.Whitespace\n",
      "<class 'sqlparse.sql.Token'>\n",
      " \n",
      "None\n",
      "<class 'sqlparse.sql.IdentifierList'>\n",
      "city, stateprovince, tab4col1\n",
      "Token.Text.Whitespace\n",
      "<class 'sqlparse.sql.Token'>\n",
      " \n",
      "Token.Keyword\n",
      "<class 'sqlparse.sql.Token'>\n",
      "from\n",
      "Token.Text.Whitespace\n",
      "<class 'sqlparse.sql.Token'>\n",
      " \n",
      "None\n",
      "<class 'sqlparse.sql.Identifier'>\n",
      "pii_4th\n",
      "Token.Text.Whitespace\n",
      "<class 'sqlparse.sql.Token'>\n",
      " \n",
      "None\n",
      "<class 'sqlparse.sql.Where'>\n",
      "where country = 'CHN' and city = 'Beijing\n"
     ]
    }
   ],
   "source": [
    "import sqlparse\n",
    "#from sqlparse.sql import IdentifierList, Identifier\n",
    "#from sqlparse.tokens import Keyword, DML\n",
    "\n",
    "#'''\n",
    "#FIXME, we only consider very simple sql usuage in here\n",
    "def _extract_from_part_simple(sql):\n",
    "    from_seen = False\n",
    "    dict_tokens = {'table':None, 'column':None, 'sel':None}\n",
    "    parsed = sqlparse.parse(sql)[0] #FIXME, only for 1 singel query\n",
    "    \n",
    "    for token in parsed.tokens:\n",
    "        print(token.ttype)\n",
    "        print(type(token))\n",
    "        print(str(token))\n",
    "        if isinstance(token, sqlparse.sql.Identifier) and from_seen:\n",
    "            dict_tokens['table'] = token\n",
    "        \n",
    "        if (isinstance(token, sqlparse.sql.IdentifierList) or isinstance(token, sqlparse.sql.Identifier)) and not from_seen:\n",
    "            dict_tokens['column'] = token\n",
    "        \n",
    "        if isinstance(token, sqlparse.sql.Where):\n",
    "            dict_tokens['sel'] = token\n",
    "                       \n",
    "        if token.ttype is sqlparse.tokens.Keyword and token.value.lower() == 'from':\n",
    "            from_seen = True\n",
    "                      \n",
    "    return dict_tokens\n",
    "\n",
    "'''\n",
    "def _extract_table_identifiers_simple(token_stream):\n",
    "    c_list = []\n",
    "\n",
    "    for entry in token_stream:\n",
    "        if entry is None or entry['table'] is None:\n",
    "            continue\n",
    "        columns = entry['column']\n",
    "        for item in columns or []:\n",
    "            if item is None:\n",
    "                continue\n",
    "            #SQL(\"col check: %s\" % item)\n",
    "            if isinstance(item, IdentifierList):\n",
    "                for identifier in item.get_identifiers():\n",
    "                    c_list.append(identifier.get_name())\n",
    "            elif isinstance(item, Identifier):\n",
    "                c_list.append(item.get_name())\n",
    "        item = entry['table']\n",
    "        if isinstance(item, IdentifierList):\n",
    "            for identifier in item.get_identifiers():\n",
    "                yield {'tables':identifier.get_name(), 'columens':c_list}\n",
    "        elif isinstance(item, Identifier):\n",
    "            yield {'tables':item.get_name(), 'columns':c_list}\n",
    "        elif item.ttype is Keyword:\n",
    "            yield {'tables':item.value, 'columns':c_list}\n",
    "'''\n",
    "\n",
    "sql = \"select city, stateprovince, tab4col1 from pii_4th where country = 'CHN' and city = 'Beijing\"\n",
    "#sql = \"select email, tab3col1, tab3col2 from pii_3rd\"\n",
    "token_stream = _extract_from_part_simple(sql)\n",
    "#print(type(token_stream))\n",
    "#print(str(token_stream['table']))\n",
    "#print(str(token_stream['column']))\n",
    "#print(str(token_stream['sel']))"
   ]
  },
  {
   "cell_type": "code",
   "execution_count": 6,
   "metadata": {},
   "outputs": [
    {
     "name": "stdout",
     "output_type": "stream",
     "text": [
      "gender\n",
      "female\n"
     ]
    }
   ],
   "source": [
    "import re    \n",
    "def _extract_where_regex(sqlsubstr):\n",
    "    if not sqlsubstr:\n",
    "        return \"\", \"\"\n",
    "    selcol = (re.findall(\"(?<=where )(.*?)(?=\\>|\\<|\\=)\", sqlsubstr)[0]).strip()\n",
    "    selval = (re.findall(\"(?<=\\=)(.*?)($)\", sqlsubstr)[0][0]).strip().strip(\"'\")\n",
    "    return selcol, selval\n",
    "    #return \"gender\", \"female\"\n",
    "    \n",
    "selcol, selval = _extract_where_regex(\"where gender = 'female\")\n",
    "print(selcol) \n",
    "print(selval)"
   ]
  },
  {
   "cell_type": "code",
   "execution_count": 7,
   "metadata": {},
   "outputs": [
    {
     "name": "stdout",
     "output_type": "stream",
     "text": [
      "[0, 1, 4]\n"
     ]
    }
   ],
   "source": [
    "def find_indices(this_list, match):\n",
    "    return [i for i, x in enumerate(this_list) if x == match]\n",
    "\n",
    "print(find_indices([\"ab\", \"ab\", \"ac\", \"ad\", \"ab\"], \"ab\"))"
   ]
  },
  {
   "cell_type": "code",
   "execution_count": 8,
   "metadata": {},
   "outputs": [
    {
     "name": "stdout",
     "output_type": "stream",
     "text": [
      "0\n",
      "dict_keys(['192.168.7.114', '192.168.7.14', '192.168.7.15', '192.168.7.16', '192.168.7.17'])\n"
     ]
    }
   ],
   "source": [
    "#test dict of dict\n",
    "from collections import defaultdict\n",
    "\n",
    "_hits_per_querier = defaultdict(defaultdict)\n",
    "host_list = [\"192.168.7.114\", \"192.168.7.14\", \"192.168.7.15\", \"192.168.7.16\", \"192.168.7.17\"]\n",
    "uid_list = [\"cfcd208495d565ef66e7dff9f98764da\",\"c4ca4238a0b923820dcc509a6f75849b\",\"c81e728d9d4c2f636f067f89cc14862c\",\"eccbc87e4b5ce2fe28308fd9f2a7baf3\",\"a87ff679a2f3e71d9181a67b7542122c\",\"e4da3b7fbbce2345d7772b0674a318d5\",\"1679091c5a880faf6fb5e6087eb1b2dc\",\"8f14e45fceea167a5a36dedd4bea2543\",\"c9f0f895fb98ab9159f51fd0297e236d\",\"45c48cce2e2d7fbdea1afc51c7c6ad26\",\"d3d9446802a44259755d38e6d163e820\",\"6512bd43d9caa6e02c990b0a82652dca\",\"c20ad4d76fe97759aa27a0c99bff6710\",\"c51ce410c124a10e0db5e4b97fc2af39\",\"aab3238922bcc25a6f606eb525ffdc56\",\"9bf31c7ff062936a96d3c8bd1f8f2ff3\",\"c74d97b01eae257e44aa9d5bade97baf\",\"70efdf2ec9b086079795c442636b55fb\",\"6f4922f45568161a8cdf4ad2299f6d23\",\"1f0e3dad99908345f7439f8ffabdffc4\",\"98f13708210194c475687be6106a3b84\",\"3c59dc048e8850243be8079a5c74d079\",\"b6d767d2f8ed5d21a44b0e5886680cb9\",\"37693cfc748049e45d87b8c7d8b9aacd\",\"1ff1de774005f8da13f42943881c655f\",\"8e296a067a37563370ded05f5a3bf3ec\",\"4e732ced3463d06de0ca9a15b6153677\",\"02e74f10e0327ad868d138f2b4fdd6f0\",\"33e75ff09dd601bbe69f351039152189\",\"6ea9ab1baa0efb9e19094440c317e21b\",\"34173cb38f07f89ddbebc2ac9128303f\",\"c16a5320fa475530d9583c34fd356ef5\",\"6364d3f0f495b6ab9dcf8d3b5c6e0b01\",\"182be0c5cdcd5072bb1864cdee4d3d6e\",\"e369853df766fa44e1ed0ff613f563bd\",\"1c383cd30b7c298ab50293adfecb7b18\",\"19ca14e7ea6328a42e0eb13d585e4c22\",\"a5bfc9e07964f8dddeb95fc584cd965d\",\"a5771bce93e200c36f7cd9dfd0e5deaa\",\"d67d8ab4f4c10bf22aa353e27879133c\",\"d645920e395fedad7bbbed0eca3fe2e0\",\"3416a75f4cea9109507cacd8e2f2aefc\",\"a1d0c6e83f027327d8461063f4ac58a6\",\"17e62166fc8586dfa4d1bc0e1742c08b\",\"f7177163c833dff4b38fc8d2872f1ec6\",\"6c8349cc7260ae62e3b1396831a8398f\",\"d9d4f495e875a2e075a1a4a6e1b9770f\",\"67c6a1e7ce56d3d6fa748ab6d9af3fd7\",\"642e92efb79421734881b53e1e1b18b6\",\"f457c545a9ded88f18ecee47145a72c0\",\"c0c7c76d30bd3dcaefc96f40275bdc0a\",\"2838023a778dfaecdc212708f721b788\",\"9a1158154dfa42caddbd0694a4e9bdc8\",\"d82c8d1619ad8176d665453cfb2e55f0\",\"a684eceee76fc522773286a895bc8436\",\"b53b3a3d6ab90ce0268229151c9bde11\",\"9f61408e3afb633e50cdf1b20de6f466\",\"72b32a1f754ba1c09b3695e0cb6cde7f\",\"66f041e16a60928b05a7e228a89c3799\",\"093f65e080a295f8076b1c5722a46aa2\",\"072b030ba126b2f4b2374f342be9ed44\",\"7f39f8317fbdb1988ef4c628eba02591\",\"44f683a84163b3523afe57c2e008bc8c\",\"03afdbd66e7929b125f8597834fa83a4\",\"ea5d2f1c4608232e07d3aa3d998e5135\",\"fc490ca45c00b1249bbe3554a4fdf6fb\",\"3295c76acbf4caaed33c36b1b5fc2cb1\",\"735b90b4568125ed6c3f678819b6e058\",\"a3f390d88e4c41f2747bfa2f1b5f87db\",\"14bfa6bb14875e45bba028a21ed38046\",\"7cbbc409ec990f19c78c75bd1e06f215\",\"e2c420d928d4bf8ce0ff2ec19b371514\",\"32bb90e8976aab5298d5da10fe66f21d\",\"d2ddea18f00665ce8623e36bd4e3c7c5\",\"ad61ab143223efbc24c7d2583be69251\",\"d09bf41544a3365a46c9077ebb5e35c3\",\"fbd7939d674997cdb4692d34de8633c4\",\"28dd2c7955ce926456240b2ff0100bde\",\"35f4a8d465e6e1edc05f3d8ab658c551\",\"d1fe173d08e959397adf34b1d77e88d7\",\"f033ab37c30201f73f142449d037028d\",\"43ec517d68b6edd3015b3edc9a11367b\",\"9778d5d219c5080b9a6a17bef029331c\",\"fe9fc289c3ff0af142b6d3bead98a923\",\"68d30a9594728bc39aa24be94b319d21\",\"3ef815416f775098fe977004015c6193\",\"93db85ed909c13838ff95ccfa94cebd9\",\"c7e1249ffc03eb9ded908c236bd1996d\",\"2a38a4a9316c49e5a833517c45d31070\",\"7647966b7343c29048673252e490f736\",\"8613985ec49eb8f757ae6439e879bb2a\",\"54229abfcfa5649e7003b83dd4755294\",\"92cc227532d17e56e07902b254dfad10\",\"98dce83da57b0395e163467c9dae521b\",\"f4b9ec30ad9f68f89b29639786cb62ef\",\"812b4ba287f5ee0bc9d43bbf5bbe87fb\",\"26657d5ff9020d2abefe558796b99584\",\"e2ef524fbf3d9fe611d5a8e90fefdc9c\",\"ed3d2c21991e3bef5e069713af9fa6ca\",\"ac627ab1ccbdb62ec96e702f07f6425b\"]\n",
    "\n",
    "for host in host_list:\n",
    "    for uid in uid_list:\n",
    "        _hits_per_querier[host][uid] = 0\n",
    "        \n",
    "print( _hits_per_querier[\"192.168.7.14\"][\"c4ca4238a0b923820dcc509a6f75849b\"] )\n",
    "print( _hits_per_querier.keys())"
   ]
  },
  {
   "cell_type": "markdown",
   "metadata": {},
   "source": [
    "### End of the file"
   ]
  }
 ],
 "metadata": {
  "kernelspec": {
   "display_name": "Python 3",
   "language": "python",
   "name": "python3"
  },
  "language_info": {
   "codemirror_mode": {
    "name": "ipython",
    "version": 3
   },
   "file_extension": ".py",
   "mimetype": "text/x-python",
   "name": "python",
   "nbconvert_exporter": "python",
   "pygments_lexer": "ipython3",
   "version": "3.6.1"
  }
 },
 "nbformat": 4,
 "nbformat_minor": 2
}
