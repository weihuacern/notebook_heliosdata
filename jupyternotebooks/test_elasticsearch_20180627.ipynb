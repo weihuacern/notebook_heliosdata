{
 "cells": [
  {
   "cell_type": "code",
   "execution_count": 1,
   "metadata": {
    "collapsed": true
   },
   "outputs": [],
   "source": [
    "import os\n",
    "import time\n",
    "import copy\n",
    "import json\n",
    "from datetime import datetime\n",
    "from elasticsearch import Elasticsearch"
   ]
  },
  {
   "cell_type": "code",
   "execution_count": 2,
   "metadata": {},
   "outputs": [
    {
     "name": "stdout",
     "output_type": "stream",
     "text": [
      "2018-06-14T03:46:45\n",
      "1531528460\n",
      "1528948005\n"
     ]
    }
   ],
   "source": [
    "def timestamp_2_utc(src):\n",
    "    return 'T'.join(str(datetime.utcfromtimestamp(int(src))).split(' '))\n",
    "\n",
    "print(timestamp_2_utc(1528948005))\n",
    "\n",
    "def local_2_utctimestamp(*src):\n",
    "    if len(src) == 0:\n",
    "        local = datetime.now().strftime('%Y-%m-%d %H:%M:%S')\n",
    "    else:\n",
    "        local = src[0]\n",
    "    return int(str(time.mktime(datetime.strptime(local, '%Y-%m-%d %H:%M:%S').timetuple()))[:-2])\n",
    "\n",
    "print(local_2_utctimestamp())\n",
    "print(local_2_utctimestamp(\"2018-06-13 20:46:45\"))\n",
    "#print(local_2_utctimestamp(\"2018-06-28T05:01:41.656Z\"))"
   ]
  },
  {
   "cell_type": "code",
   "execution_count": 3,
   "metadata": {
    "collapsed": true
   },
   "outputs": [],
   "source": [
    "ELS_TDS_INDEX = 'helios_data*'\n",
    "\n",
    "SELECT_QUERY_BODY = {\n",
    "    'query': {\n",
    "        'bool': {\n",
    "            'must': [\n",
    "                {\"exists\": {'field': 'sqlbatch'}},\n",
    "                {\"range\": {\n",
    "                    \"@timestamp\": {\n",
    "                        \"gte\": 0,\n",
    "                        \"lte\": 0\n",
    "                    }\n",
    "                }\n",
    "                }\n",
    "            ]\n",
    "        }\n",
    "    }\n",
    "}\n",
    "\n",
    "'''\n",
    "SELECT_OTHER_BODY = {\n",
    "    'query': {\n",
    "        'bool': {\n",
    "            'must': [\n",
    "                {\"range\": {\n",
    "                    \"@timestamp\": {\n",
    "                        \"gte\": 0,\n",
    "                        \"lte\": 0\n",
    "                    }\n",
    "                }\n",
    "                }\n",
    "            ]\n",
    "        }\n",
    "    }\n",
    "}\n",
    "'''\n",
    "\n",
    "SELECT_OTHER_BODY = {\n",
    "  \"query\": {\n",
    "    \"range\": {\n",
    "      \"@timestamp\": {\n",
    "        \"gte\": 0,\n",
    "        \"lte\": 0\n",
    "      }\n",
    "    }\n",
    "  }\n",
    "  #\"sort\": [\n",
    "  #  {\n",
    "  #    \"ts\": {\n",
    "  #      \"order\": \"desc\"\n",
    "  #    }\n",
    "  #  }\n",
    "  #]\n",
    "}\n",
    "#print(type(SELECT_OTHER_BODY['query']))\n",
    "#print(type(SELECT_OTHER_BODY['query']['range']))\n",
    "#print(type(SELECT_OTHER_BODY['query']['range']['@timestamp'][\"lte\"]))"
   ]
  },
  {
   "cell_type": "code",
   "execution_count": 6,
   "metadata": {},
   "outputs": [
    {
     "name": "stdout",
     "output_type": "stream",
     "text": [
      "1528268400\n",
      "1530255600\n",
      "1530082800\n",
      "1530255600\n",
      "query {'query': {'bool': {'must': [{'exists': {'field': 'sqlbatch'}}, {'range': {'@timestamp': {'gte': '2018-06-27T07:00:00', 'lte': '2018-06-29T07:00:00'}}}]}}}, start 1530082800, to 1530255600\n"
     ]
    }
   ],
   "source": [
    "def connect_check_wrapper(func):\n",
    "    def connect_handler(self, *args, **kwargs):\n",
    "        if self._es is None:\n",
    "            try:\n",
    "                self.connect()\n",
    "            except Exception as e:\n",
    "                EXCEPT(e)\n",
    "        return func(self, *args, **kwargs)\n",
    "    return connect_handler\n",
    "\n",
    "class ElasticSearch(object):\n",
    "\n",
    "    def __init__(self, host, port, user, password):\n",
    "        self._els_host = host\n",
    "        self._els_port = port\n",
    "        self._user = user\n",
    "        self._password = password\n",
    "        self._es = None\n",
    "        #INIT(\"ElasticSearch class inited\")\n",
    "\n",
    "    def connect(self):\n",
    "        elastic = ('http://%s:%s@%s:%s' %(self._user, self._password, self._els_host, self._els_port))\n",
    "        self._es = Elasticsearch([elastic])\n",
    "\n",
    "    @connect_check_wrapper\n",
    "    def get_sql_select(self, time_start, time_end):\n",
    "        query_body = copy.copy(SELECT_QUERY_BODY)\n",
    "        for entry in query_body['query']['bool']['must']:\n",
    "            if 'range' in entry.keys() and \"@timestamp\" in entry['range'].keys():\n",
    "                entry['range'][\"@timestamp\"][\"gte\"] = timestamp_2_utc(time_start)\n",
    "                entry['range']['@timestamp'][\"lte\"] = timestamp_2_utc(time_end)\n",
    "        print(\"query %s, start %s, to %s\" % (query_body, time_start, time_end))\n",
    "        return self._es.search(index=ELS_TDS_INDEX, body=query_body)\n",
    "    \n",
    "    @connect_check_wrapper\n",
    "    def get_others_select(self, time_start, time_end, sqlbatch_dict, cut=10):\n",
    "        t0_pcap = sqlbatch_dict.get('ts')\n",
    "        #print(t0_pcap)\n",
    "        query_body = copy.copy(SELECT_OTHER_BODY)\n",
    "        query_body['query']['range'][\"@timestamp\"][\"gte\"] = timestamp_2_utc(time_start)\n",
    "        query_body['query']['range']['@timestamp'][\"lte\"] = timestamp_2_utc(time_end)\n",
    "        print(\"query %s, start %s, to %s\" % (query_body, time_start, time_end))        \n",
    "        res = self._es.search(index=ELS_TDS_INDEX, body=query_body)\n",
    "        \n",
    "        hits = res.get('hits')\n",
    "        all_hits = hits.get('hits')\n",
    "        for i in all_hits:\n",
    "            print(i.get('_source'))\n",
    "            #print(i.get('_source').get('ts'))\n",
    "            diff = i.get('_source').get('ts')-t0_pcap\n",
    "            #if diff < cut and diff > 0:\n",
    "            #    print(i.get('_source'))\n",
    "        return None\n",
    "\n",
    "\n",
    "start_els_str=\"2018-06-06 00:00:00\"\n",
    "end_els_str=\"2018-06-29 00:00:00\"\n",
    "print(local_2_utctimestamp(start_els_str))\n",
    "print(local_2_utctimestamp(end_els_str))\n",
    "start_els_str=\"2018-06-27 00:00:00\"\n",
    "end_els_str=\"2018-06-29 00:00:00\"\n",
    "print(local_2_utctimestamp(start_els_str))\n",
    "print(local_2_utctimestamp(end_els_str))\n",
    "\n",
    "#els = ElasticSearch(\"192.168.7.17\", 9200, \"elastic\", \"helios12$\")\n",
    "els = ElasticSearch(\"192.168.7.25\", 9200, \"elastic\", \"helios12$\")\n",
    "\n",
    "result = els.get_sql_select(local_2_utctimestamp(start_els_str), local_2_utctimestamp(end_els_str))\n",
    "hits = result.get('hits')\n",
    "all_hits = hits.get('hits')\n",
    "for i in all_hits:\n",
    "    source = i.get('_source')\n",
    "    print(source)\n",
    "    print(source.get('ts'))\n",
    "\n",
    "#test_sqlbatch_dict = {'id.resp_p': 1433, 'sqlbatch': '\\x16\\x12\\x02e\\x89u\\x01select * from EXT_ORDER_NEW\\r\\nWhere UPDSTATUS IS NUL', 'id.orig_h': '192.168.3.61', '@version': '1', 'id.orig_p': 61617, 'id.resp_h': '172.16.1.58', 'uid': 'CVdhbP1Hqo0ay9iUfl', 'ts': 1521699510.225344, '@timestamp': '2018-06-14T03:46:44.999Z'}\n",
    "#els.get_others_select(local_2_utctimestamp(start_els_str), local_2_utctimestamp(end_els_str), test_sqlbatch_dict, 1)"
   ]
  },
  {
   "cell_type": "markdown",
   "metadata": {},
   "source": [
    "### End of this file"
   ]
  }
 ],
 "metadata": {
  "kernelspec": {
   "display_name": "Python 3",
   "language": "python",
   "name": "python3"
  },
  "language_info": {
   "codemirror_mode": {
    "name": "ipython",
    "version": 3
   },
   "file_extension": ".py",
   "mimetype": "text/x-python",
   "name": "python",
   "nbconvert_exporter": "python",
   "pygments_lexer": "ipython3",
   "version": "3.6.1"
  }
 },
 "nbformat": 4,
 "nbformat_minor": 2
}
