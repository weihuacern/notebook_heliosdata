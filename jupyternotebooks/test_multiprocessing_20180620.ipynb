{
 "cells": [
  {
   "cell_type": "markdown",
   "metadata": {},
   "source": [
    "https://morvanzhou.github.io/tutorials/python-basic/multiprocessing/"
   ]
  },
  {
   "cell_type": "code",
   "execution_count": 1,
   "metadata": {
    "collapsed": true
   },
   "outputs": [],
   "source": [
    "import threading\n",
    "import multiprocessing"
   ]
  },
  {
   "cell_type": "code",
   "execution_count": 2,
   "metadata": {
    "collapsed": true
   },
   "outputs": [],
   "source": [
    "def job1(a,d):\n",
    "    print('aaaaa')\n",
    "\n",
    "def job2(x):\n",
    "    return x*x"
   ]
  },
  {
   "cell_type": "code",
   "execution_count": 3,
   "metadata": {},
   "outputs": [],
   "source": [
    "t1 = threading.Thread(target=job1,args=(1,2))\n",
    "p1 = multiprocessing.Process(target=job1,args=(1,2))"
   ]
  },
  {
   "cell_type": "code",
   "execution_count": 4,
   "metadata": {},
   "outputs": [
    {
     "name": "stdout",
     "output_type": "stream",
     "text": [
      "aaaaa\n",
      "aaaaa\n"
     ]
    }
   ],
   "source": [
    "t1.start()\n",
    "p1.start()\n",
    "t1.join()\n",
    "p1.join()"
   ]
  },
  {
   "cell_type": "code",
   "execution_count": 5,
   "metadata": {},
   "outputs": [
    {
     "name": "stdout",
     "output_type": "stream",
     "text": [
      "[0, 1, 4, 9, 16, 25, 36, 49, 64, 81]\n",
      "4\n",
      "[0, 1, 4, 9, 16, 25, 36, 49, 64, 81]\n"
     ]
    }
   ],
   "source": [
    "def multicore():\n",
    "    pool = multiprocessing.Pool() \n",
    "    res = pool.map(job2, range(10))\n",
    "    print(res)\n",
    "    res = pool.apply_async(job2, (2,))\n",
    "    print(res.get())\n",
    "    multi_res = [pool.apply_async(job2, (i,)) for i in range(10)]\n",
    "    print([res.get() for res in multi_res])\n",
    "\n",
    "multicore()"
   ]
  },
  {
   "cell_type": "markdown",
   "metadata": {},
   "source": [
    "### Thread\n",
    "Single core with multiple jobs. Global memory\n",
    "### Process\n",
    "Multiple cores with multiple jobs. Shared memory, global memory is not commutable.\n",
    "\n",
    "### Lock\n",
    "In order to avoid the competition of the shared momory, we use multiprocessing.Lock() to lock the shared memory.\n",
    "```python\n",
    "lock = multiprocessing.Lock()\n",
    "lock.acquire()\n",
    "### operations on variables in the shared memory...\n",
    "lock.release()\n",
    "```"
   ]
  },
  {
   "cell_type": "markdown",
   "metadata": {},
   "source": [
    "### End of this file"
   ]
  }
 ],
 "metadata": {
  "kernelspec": {
   "display_name": "Python 3",
   "language": "python",
   "name": "python3"
  },
  "language_info": {
   "codemirror_mode": {
    "name": "ipython",
    "version": 3
   },
   "file_extension": ".py",
   "mimetype": "text/x-python",
   "name": "python",
   "nbconvert_exporter": "python",
   "pygments_lexer": "ipython3",
   "version": "3.6.1"
  }
 },
 "nbformat": 4,
 "nbformat_minor": 2
}
