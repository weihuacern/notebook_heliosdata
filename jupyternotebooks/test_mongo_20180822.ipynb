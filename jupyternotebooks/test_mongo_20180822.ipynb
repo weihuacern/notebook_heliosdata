{
 "cells": [
  {
   "cell_type": "code",
   "execution_count": 1,
   "metadata": {},
   "outputs": [],
   "source": [
    "import base64\n",
    "import datetime\n",
    "import pprint\n",
    "import random\n",
    "import time\n",
    "import uuid\n",
    "\n",
    "import pymongo"
   ]
  },
  {
   "cell_type": "code",
   "execution_count": 2,
   "metadata": {},
   "outputs": [],
   "source": [
    "#FIXME\n",
    "def _parse_mongo_req(bro_mongo_dict):\n",
    "    try:\n",
    "        req_raw = bro_mongo_dict[\"req\"]\n",
    "    except KeyError:\n",
    "        req_raw = None\n",
    "    if req_raw:\n",
    "        res = base64.b64decode(req_raw)\n",
    "        print(res)\n",
    "        print(res.decode(\"utf-8\", errors='ignore'))\n",
    "        return res\n",
    "    return \"\""
   ]
  },
  {
   "cell_type": "code",
   "execution_count": 3,
   "metadata": {},
   "outputs": [],
   "source": [
    "#this_bro_mongo_dict = {\"ts\":1534958665.026891,\"uid\":\"CnO54AD0tBWTPhMp7\",\"id.orig_h\":\"192.168.8.114\",\"id.orig_p\":39672,\"id.resp_h\":\"192.168.8.73\",\"id.resp_p\":27017,\"cmd\":\"query\",\"db\":\"admin\",\"req\":\"ABwBAAAQaXNNYXN0ZXIAAQAAAANjbGllbnQAAQEAAANhcHBsaWNhdGlvbgAdAAAAAm5hbWUADgAAAE1vbmdvREIgU2hlbGwAAANkcml2ZXIAOgAAAAJuYW1lABgAAABNb25nb0RCIEludGVybmFsIENsaWVudAACdmVyc2lvbgAGAAAANC4wLjEAAANvcwCMAAAAAnR5cGUABgAAAExpbnV4AAJuYW1lACYAAABDZW50T1MgTGludXggcmVsZWFzZSA3LjUuMTgwNCAoQ29yZSkgAAJhcmNoaXRlY3R1cmUABwAAAHg4Nl82NAACdmVyc2lvbgAhAAAAS2VybmVsIDMuMTAuMC04NjIuOS4xLmVsNy54ODZfNjQAAAAA\"}\n",
    "#this_bro_mongo_dict = {\"ts\":1534957968.388981,\"uid\":\"CRGJvD2hVTC4cuynNh\",\"id.orig_h\":\"192.168.8.114\",\"id.orig_p\":38590,\"id.resp_h\":\"192.168.8.73\",\"id.resp_p\":27017,\"cmd\":\"\",\"db\":\"test\",\"req\":\"AGlzTWFzdGVyACkAAAABaXNNYXN0ZXIAAAAAAAAA8D8BZm9yU2hlbGwAAAAAAAAA8D8ABQAAAAA=\"}\n",
    "#this_bro_mongo_dict = {\"ts\":1534957959.180368,\"uid\":\"CRGJvD2hVTC4cuynNh\",\"id.orig_h\":\"192.168.8.114\",\"id.orig_p\":38590,\"id.resp_h\":\"192.168.8.73\",\"id.resp_p\":27017,\"cmd\":\"\",\"db\":\"admin\",\"req\":\"AGdldEZyZWVNb25pdG9yaW5nU3RhdHVzACYAAAABZ2V0RnJlZU1vbml0b3JpbmdTdGF0dXMAAAAAAAAA8D8ABQAAAAA=\"}\n",
    "#this_bro_mongo_dict = {\"ts\":1534957977.771858,\"uid\":\"CRGJvD2hVTC4cuynNh\",\"id.orig_h\":\"192.168.8.114\",\"id.orig_p\":38590,\"id.resp_h\":\"192.168.8.73\",\"id.resp_p\":27017,\"cmd\":\"\",\"db\":\"traffice\",\"req\":\"AGlzTWFzdGVyACkAAAABaXNNYXN0ZXIAAAAAAAAA8D8BZm9yU2hlbGwAAAAAAAAA8D8ABQAAAAA=\"}\n",
    "\n",
    "#_parse_mongo_req(this_bro_mongo_dict)"
   ]
  },
  {
   "cell_type": "code",
   "execution_count": 4,
   "metadata": {},
   "outputs": [],
   "source": [
    "class MongoDBTest:\n",
    "    def __init__(self, mongo_host, mongo_port):\n",
    "        self.client = pymongo.MongoClient(mongo_host, mongo_port)\n",
    "        self.db = \"mongo_test\"\n",
    "        self.collection = \"collection_1\"\n",
    "        self.name_list = [\"Hua\", \"Yuming\"]\n",
    "        self.tag_list = [\"mongodb\", \"postgresql\", \"mssql\", \"mysql\", \"samba\", \"nfs\", \"webmail\"]\n",
    "        \n",
    "    def _gen_random_name(self):\n",
    "        return self.name_list[random.randint(0, len(self.name_list)-1)]\n",
    "    \n",
    "    def _gen_random_tag(self):\n",
    "        return self.tag_list[random.randint(0, len(self.tag_list)-1)]\n",
    "\n",
    "    def _gen_doc_dict(self):\n",
    "        doc_dict = {\n",
    "            \"author\": self._gen_random_name(),\n",
    "            \"uuid\": str(uuid.uuid4()),\n",
    "            \"tag\": self._gen_random_tag(),\n",
    "            \"date\": datetime.datetime.utcnow()}\n",
    "        return doc_dict\n",
    "    \n",
    "    def mongo_insert_one(self):\n",
    "        db = self.client[self.db]\n",
    "        collection = db[self.collection]\n",
    "        one_doc = self._gen_doc_dict()\n",
    "        mongo_uid = collection.insert_one(one_doc).inserted_id\n",
    "        #print(mongo_uid)\n",
    "        return\n",
    "    \n",
    "    def mongo_query(self):\n",
    "        db = self.client[self.db]\n",
    "        collection = db[self.collection]\n",
    "        res = collection.find({\"author\": \"Yuming\"})\n",
    "        for r in res:\n",
    "            pprint.pprint(r)\n",
    "        return"
   ]
  },
  {
   "cell_type": "code",
   "execution_count": 5,
   "metadata": {},
   "outputs": [
    {
     "name": "stdout",
     "output_type": "stream",
     "text": [
      "{'_id': ObjectId('5b7de7b35c7e0a2feba389f5'),\n",
      " 'author': 'Yuming',\n",
      " 'date': datetime.datetime(2018, 8, 22, 22, 46, 11, 525000),\n",
      " 'tag': 'webmail',\n",
      " 'uuid': '6677adc6-487e-4442-b475-6cfe26c0dd01'}\n"
     ]
    }
   ],
   "source": [
    "myMongoDBTest = MongoDBTest(\"192.168.7.73\", 27017)\n",
    "#print(myMongoDBTest._gen_random_name())\n",
    "#print(myMongoDBTest._gen_random_tag())\n",
    "#print(myMongoDBTest._gen_doc_dict())\n",
    "#myMongoDBTest.mongo_insert_one()\n",
    "myMongoDBTest.mongo_query()"
   ]
  },
  {
   "cell_type": "markdown",
   "metadata": {},
   "source": [
    "### End of this file"
   ]
  }
 ],
 "metadata": {
  "kernelspec": {
   "display_name": "Python 3",
   "language": "python",
   "name": "python3"
  },
  "language_info": {
   "codemirror_mode": {
    "name": "ipython",
    "version": 3
   },
   "file_extension": ".py",
   "mimetype": "text/x-python",
   "name": "python",
   "nbconvert_exporter": "python",
   "pygments_lexer": "ipython3",
   "version": "3.6.1"
  }
 },
 "nbformat": 4,
 "nbformat_minor": 2
}
