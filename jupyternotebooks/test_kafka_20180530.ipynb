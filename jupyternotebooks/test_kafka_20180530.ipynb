{
 "cells": [
  {
   "cell_type": "markdown",
   "metadata": {},
   "source": [
    "### Kafka\n",
    "Listen to Kafka from the 192.168.7.114, port 9092\n",
    "\n",
    "Em... not working yet...\n",
    "See http://blog.51cto.com/leyex/1958453"
   ]
  },
  {
   "cell_type": "code",
   "execution_count": 1,
   "metadata": {
    "collapsed": true
   },
   "outputs": [],
   "source": [
    "import sys\n",
    "import hashlib\n",
    "import json\n",
    "import random\n",
    "import string\n",
    "from kafka import KafkaProducer\n",
    "from kafka import KafkaConsumer"
   ]
  },
  {
   "cell_type": "code",
   "execution_count": 2,
   "metadata": {},
   "outputs": [
    {
     "data": {
      "text/plain": [
       "'{\"Name\":\"b95ad9d8c1987d671e1c498a5cc60a7a\",\"CtfTp\":\"2da9ccddc25260629a786d3404dbe68d\",\"CtfId\":\"f96b3a7da437858655d4e3fa0fb32bb3\",\"Gender\":\"2423dec0d019f15d93e4239f0c7c15a3\",\"Birthday\":\"85a3222656900c7d202027944dbb679f\",\"Address\":\"8db6e7e006e3cc3d4c0855664beea4dc\",\"Zip\":\"61bbbf80b6d2441cbee6aefe1d579666\",\"District2\":\"f4470b1bb36babaa6b07f2f9a75612e2\",\"District3\":\"71551ab341f8777f483f38960da4671a\",\"District4\":\"bdc53be6b2566510fe02a646ce355b9e\",\"Mobile\":\"540076fbb296dd5ff6eded4936ebda8d\",\"Tel\":\"3b497279bddc1727feb5f90661fc5370\",\"Fax\":\"362ebb5a863d41042d72403e03b428eb\",\"EMail\":\"fe109c59cca04f050cc3c1c3e90552a0\",\"id\":\"663904e154a4d12663141236290955e1\"}'"
      ]
     },
     "execution_count": 2,
     "metadata": {},
     "output_type": "execute_result"
    }
   ],
   "source": [
    "class fakebrologkafka:\n",
    "    \n",
    "    def __init__(self, hostip, port):\n",
    "        self.hostip = hostip\n",
    "        self.port = port\n",
    "\n",
    "    def random_str(self, length):\n",
    "        return ''.join(random.choice(string.ascii_lowercase) for i in range(length))\n",
    "\n",
    "    def fake_fuzzylog(self):\n",
    "        fuzzy_fake_dict = {\n",
    "            \"Name\": hashlib.md5(self.random_str(5).encode()).hexdigest(),\n",
    "            \"CtfTp\": hashlib.md5(self.random_str(5).encode()).hexdigest(),\n",
    "            \"CtfId\": hashlib.md5(self.random_str(5).encode()).hexdigest(),\n",
    "            \"Gender\": hashlib.md5(self.random_str(5).encode()).hexdigest(),\n",
    "            \"Birthday\": hashlib.md5(self.random_str(5).encode()).hexdigest(),\n",
    "            \"Address\": hashlib.md5(self.random_str(5).encode()).hexdigest(),\n",
    "            \"Zip\": hashlib.md5(self.random_str(5).encode()).hexdigest(),\n",
    "            \"District2\": hashlib.md5(self.random_str(5).encode()).hexdigest(),\n",
    "            \"District3\": hashlib.md5(self.random_str(5).encode()).hexdigest(),\n",
    "            \"District4\": hashlib.md5(self.random_str(5).encode()).hexdigest(),\n",
    "            \"Mobile\": hashlib.md5(self.random_str(5).encode()).hexdigest(),\n",
    "            \"Tel\": hashlib.md5(self.random_str(5).encode()).hexdigest(),\n",
    "            \"Fax\": hashlib.md5(self.random_str(5).encode()).hexdigest(),\n",
    "            \"EMail\": hashlib.md5(self.random_str(5).encode()).hexdigest(),\n",
    "            \"id\": hashlib.md5(self.random_str(5).encode()).hexdigest()\n",
    "        }\n",
    "        return json.dumps(fuzzy_fake_dict, separators=(',', ':'))\n",
    "        \n",
    "    def kafka_produce(self, topic, cnt):\n",
    "        producer = KafkaProducer(bootstrap_servers=self.hostip + \":\" + str(self.port))\n",
    "        for i in range(cnt):\n",
    "            i += 1\n",
    "            thislog = self.fake_fuzzylog()\n",
    "            #print(thislog)\n",
    "            #print(type(thislog))\n",
    "            producer.send(topic, value=thislog.encode(), key=None)\n",
    "        return\n",
    "        \n",
    "    def kafka_consume(self, topic):\n",
    "        consumer = KafkaConsumer(topic, bootstrap_servers=self.hostip + \":\" + str(self.port))\n",
    "        for msg in consumer:\n",
    "            print(msg)  \n",
    "        return\n",
    "\n",
    "myfakebrologkafka = fakebrologkafka(\"192.168.7.6\", 9092)\n",
    "myfakebrologkafka.fake_fuzzylog()\n",
    "#myfakebrologkafka.kafka_produce(\"fuzzy\", 500)"
   ]
  },
  {
   "cell_type": "markdown",
   "metadata": {},
   "source": [
    "### End of this file"
   ]
  }
 ],
 "metadata": {
  "kernelspec": {
   "display_name": "Python 3",
   "language": "python",
   "name": "python3"
  },
  "language_info": {
   "codemirror_mode": {
    "name": "ipython",
    "version": 3
   },
   "file_extension": ".py",
   "mimetype": "text/x-python",
   "name": "python",
   "nbconvert_exporter": "python",
   "pygments_lexer": "ipython3",
   "version": "3.6.1"
  }
 },
 "nbformat": 4,
 "nbformat_minor": 2
}
