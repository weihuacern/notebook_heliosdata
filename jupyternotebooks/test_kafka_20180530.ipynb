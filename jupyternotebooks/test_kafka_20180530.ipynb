{
 "cells": [
  {
   "cell_type": "markdown",
   "metadata": {},
   "source": [
    "### Kafka\n",
    "Listen to Kafka from the 192.168.7.114, port 9092\n",
    "\n",
    "Em... not working yet...\n",
    "See http://blog.51cto.com/leyex/1958453"
   ]
  },
  {
   "cell_type": "code",
   "execution_count": 1,
   "metadata": {
    "collapsed": true
   },
   "outputs": [],
   "source": [
    "import sys\n",
    "import hashlib\n",
    "import json\n",
    "import random\n",
    "import string\n",
    "from kafka import KafkaProducer\n",
    "from kafka import KafkaConsumer"
   ]
  },
  {
   "cell_type": "code",
   "execution_count": null,
   "metadata": {},
   "outputs": [
    {
     "name": "stdout",
     "output_type": "stream",
     "text": [
      "{'conn', 'tds_sqlbatch', 'tds', 'ssl', 'dns', 'fuzzy', 'files', 'http'}\n",
      "ConsumerRecord(topic='tds_sqlbatch', partition=0, offset=139698, timestamp=1529370416162, timestamp_type=0, key=None, value=b'{\"ts\":1529370415.249772,\"uid\":\"CHQxgK3L8uZgiKJlJ1\",\"id.orig_h\":\"192.168.7.18\",\"id.orig_p\":54786,\"id.resp_h\":\"192.168.7.134\",\"id.resp_p\":1433,\"sqlbatch\":\"select city, stateprovince from pii_4th where country = \\\\u0027CHN\"}', checksum=2721074777, serialized_key_size=-1, serialized_value_size=220)\n",
      "ConsumerRecord(topic='tds_sqlbatch', partition=0, offset=139699, timestamp=1529370417162, timestamp_type=0, key=None, value=b'{\"ts\":1529370416.265151,\"uid\":\"CHQxgK3L8uZgiKJlJ1\",\"id.orig_h\":\"192.168.7.18\",\"id.orig_p\":54786,\"id.resp_h\":\"192.168.7.134\",\"id.resp_p\":1433,\"sqlbatch\":\"select tab3col1, phonenumber from pii_3r\"}', checksum=956594640, serialized_key_size=-1, serialized_value_size=195)\n",
      "ConsumerRecord(topic='tds_sqlbatch', partition=0, offset=139700, timestamp=1529370418162, timestamp_type=0, key=None, value=b'{\"ts\":1529370417.215173,\"uid\":\"CHQxgK3L8uZgiKJlJ1\",\"id.orig_h\":\"192.168.7.18\",\"id.orig_p\":54786,\"id.resp_h\":\"192.168.7.134\",\"id.resp_p\":1433,\"sqlbatch\":\"select tab4col1, city, tab4col2 from pii_4th where country = \\\\u0027CHN\"}', checksum=4218119152, serialized_key_size=-1, serialized_value_size=225)\n",
      "ConsumerRecord(topic='tds_sqlbatch', partition=0, offset=139701, timestamp=1529370419162, timestamp_type=0, key=None, value=b'{\"ts\":1529370418.27321,\"uid\":\"CHQxgK3L8uZgiKJlJ1\",\"id.orig_h\":\"192.168.7.18\",\"id.orig_p\":54786,\"id.resp_h\":\"192.168.7.134\",\"id.resp_p\":1433,\"sqlbatch\":\"select country, tab4col1, tab4col2 from pii_4th where country = \\\\u0027CHN\"}', checksum=2192657638, serialized_key_size=-1, serialized_value_size=227)\n"
     ]
    }
   ],
   "source": [
    "class fakebrologkafka:\n",
    "    \n",
    "    def __init__(self, hostip, port):\n",
    "        self.hostip = hostip\n",
    "        self.port = port\n",
    "\n",
    "    def random_str(self, length):\n",
    "        return ''.join(random.choice(string.ascii_lowercase) for i in range(length))\n",
    "\n",
    "    def fake_fuzzylog(self):\n",
    "        fuzzy_fake_dict = {\n",
    "            \"Name\": hashlib.md5(self.random_str(5).encode()).hexdigest(),\n",
    "            \"CtfTp\": hashlib.md5(self.random_str(5).encode()).hexdigest(),\n",
    "            \"CtfId\": hashlib.md5(self.random_str(5).encode()).hexdigest(),\n",
    "            \"Gender\": hashlib.md5(self.random_str(5).encode()).hexdigest(),\n",
    "            \"Birthday\": hashlib.md5(self.random_str(5).encode()).hexdigest(),\n",
    "            \"Address\": hashlib.md5(self.random_str(5).encode()).hexdigest(),\n",
    "            \"Zip\": hashlib.md5(self.random_str(5).encode()).hexdigest(),\n",
    "            \"District2\": hashlib.md5(self.random_str(5).encode()).hexdigest(),\n",
    "            \"District3\": hashlib.md5(self.random_str(5).encode()).hexdigest(),\n",
    "            \"District4\": hashlib.md5(self.random_str(5).encode()).hexdigest(),\n",
    "            \"Mobile\": hashlib.md5(self.random_str(5).encode()).hexdigest(),\n",
    "            \"Tel\": hashlib.md5(self.random_str(5).encode()).hexdigest(),\n",
    "            \"Fax\": hashlib.md5(self.random_str(5).encode()).hexdigest(),\n",
    "            \"EMail\": hashlib.md5(self.random_str(5).encode()).hexdigest(),\n",
    "            \"id\": hashlib.md5(self.random_str(5).encode()).hexdigest()\n",
    "        }\n",
    "        return json.dumps(fuzzy_fake_dict, separators=(',', ':'))\n",
    "        \n",
    "    def kafka_produce(self, topic, cnt):\n",
    "        producer = KafkaProducer(bootstrap_servers=self.hostip + \":\" + str(self.port))\n",
    "        for i in range(cnt):\n",
    "            i += 1\n",
    "            thislog = self.fake_fuzzylog()\n",
    "            #print(thislog)\n",
    "            #print(type(thislog))\n",
    "            producer.send(topic, value=thislog.encode(), key=None)\n",
    "        return\n",
    "        \n",
    "    def kafka_consume(self, topic):\n",
    "        consumer = KafkaConsumer(topic, bootstrap_servers=self.hostip + \":\" + str(self.port))\n",
    "        print(consumer.topics())\n",
    "        for msg in consumer:\n",
    "            print(msg)  \n",
    "        return\n",
    "\n",
    "#myfakebrologkafka = fakebrologkafka(\"192.168.7.6\", 9092)\n",
    "myfakebrologkafka = fakebrologkafka(\"192.168.7.15\", 9092)\n",
    "#myfakebrologkafka.fake_fuzzylog()\n",
    "#myfakebrologkafka.kafka_produce(\"fuzzy\", 500)\n",
    "#myfakebrologkafka.kafka_consume(\"http\")\n",
    "myfakebrologkafka.kafka_consume(\"tds_sqlbatch\")"
   ]
  },
  {
   "cell_type": "markdown",
   "metadata": {},
   "source": [
    "### End of this file"
   ]
  }
 ],
 "metadata": {
  "kernelspec": {
   "display_name": "Python 3",
   "language": "python",
   "name": "python3"
  },
  "language_info": {
   "codemirror_mode": {
    "name": "ipython",
    "version": 3
   },
   "file_extension": ".py",
   "mimetype": "text/x-python",
   "name": "python",
   "nbconvert_exporter": "python",
   "pygments_lexer": "ipython3",
   "version": "3.6.1"
  }
 },
 "nbformat": 4,
 "nbformat_minor": 2
}
