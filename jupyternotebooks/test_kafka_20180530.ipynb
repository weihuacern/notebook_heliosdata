{
 "cells": [
  {
   "cell_type": "markdown",
   "metadata": {},
   "source": [
    "### Kafka\n",
    "Listen to Kafka from the 192.168.7.114, port 9092\n",
    "\n",
    "Em... not working yet...\n",
    "See http://blog.51cto.com/leyex/1958453"
   ]
  },
  {
   "cell_type": "code",
   "execution_count": 1,
   "metadata": {
    "collapsed": true
   },
   "outputs": [],
   "source": [
    "import sys\n",
    "import hashlib\n",
    "import json\n",
    "import random\n",
    "import string\n",
    "from kafka import KafkaProducer\n",
    "from kafka import KafkaConsumer"
   ]
  },
  {
   "cell_type": "code",
   "execution_count": 5,
   "metadata": {},
   "outputs": [
    {
     "name": "stdout",
     "output_type": "stream",
     "text": [
      "{'conn', 'files', 'dns', 'fuzzy', 'ssl', 'tds', 'http', 'tds_sqlbatch'}\n",
      "ConsumerRecord(topic='tds', partition=0, offset=440658, timestamp=1529010744495, timestamp_type=0, key=None, value=b'{\"ts\":1529010744.298678,\"uid\":\"CvHGi85sp0kS9nFM1\",\"id.orig_h\":\"192.168.7.147\",\"id.orig_p\":52424,\"id.resp_h\":\"192.168.7.134\",\"id.resp_p\":1433,\"tdstype\":18}', checksum=2116367975, serialized_key_size=-1, serialized_value_size=154)\n",
      "ConsumerRecord(topic='tds', partition=0, offset=440659, timestamp=1529010744495, timestamp_type=0, key=None, value=b'{\"ts\":1529010744.303682,\"uid\":\"CvHGi85sp0kS9nFM1\",\"id.orig_h\":\"192.168.7.147\",\"id.orig_p\":52424,\"id.resp_h\":\"192.168.7.134\",\"id.resp_p\":1433,\"tdstype\":18}', checksum=3278341009, serialized_key_size=-1, serialized_value_size=154)\n",
      "ConsumerRecord(topic='tds', partition=0, offset=440660, timestamp=1529010744495, timestamp_type=0, key=None, value=b'{\"ts\":1529010744.492627,\"uid\":\"CvHGi85sp0kS9nFM1\",\"id.orig_h\":\"192.168.7.147\",\"id.orig_p\":52424,\"id.resp_h\":\"192.168.7.134\",\"id.resp_p\":1433,\"tdstype\":18}', checksum=190553269, serialized_key_size=-1, serialized_value_size=154)\n",
      "ConsumerRecord(topic='tds', partition=0, offset=440661, timestamp=1529010745496, timestamp_type=0, key=None, value=b'{\"ts\":1529010744.501678,\"uid\":\"CvHGi85sp0kS9nFM1\",\"id.orig_h\":\"192.168.7.147\",\"id.orig_p\":52424,\"id.resp_h\":\"192.168.7.134\",\"id.resp_p\":1433,\"tdstype\":23}', checksum=326290534, serialized_key_size=-1, serialized_value_size=154)\n",
      "ConsumerRecord(topic='tds', partition=0, offset=440662, timestamp=1529010745496, timestamp_type=0, key=None, value=b'{\"ts\":1529010744.507662,\"uid\":\"CvHGi85sp0kS9nFM1\",\"id.orig_h\":\"192.168.7.147\",\"id.orig_p\":52424,\"id.resp_h\":\"192.168.7.134\",\"id.resp_p\":1433,\"tdstype\":1}', checksum=3729261784, serialized_key_size=-1, serialized_value_size=153)\n",
      "ConsumerRecord(topic='tds', partition=0, offset=440663, timestamp=1529010745496, timestamp_type=0, key=None, value=b'{\"ts\":1529010744.509564,\"uid\":\"CvHGi85sp0kS9nFM1\",\"id.orig_h\":\"192.168.7.147\",\"id.orig_p\":52424,\"id.resp_h\":\"192.168.7.134\",\"id.resp_p\":1433,\"tdstype\":1}', checksum=2710749594, serialized_key_size=-1, serialized_value_size=153)\n",
      "ConsumerRecord(topic='tds', partition=0, offset=440664, timestamp=1529010745496, timestamp_type=0, key=None, value=b'{\"ts\":1529010744.513658,\"uid\":\"CvHGi85sp0kS9nFM1\",\"id.orig_h\":\"192.168.7.147\",\"id.orig_p\":52424,\"id.resp_h\":\"192.168.7.134\",\"id.resp_p\":1433,\"tdstype\":6}', checksum=3626969271, serialized_key_size=-1, serialized_value_size=153)\n",
      "ConsumerRecord(topic='tds', partition=0, offset=440665, timestamp=1529010745496, timestamp_type=0, key=None, value=b'{\"ts\":1529010744.516259,\"uid\":\"CvHGi85sp0kS9nFM1\",\"id.orig_h\":\"192.168.7.147\",\"id.orig_p\":52424,\"id.resp_h\":\"192.168.7.134\",\"id.resp_p\":1433,\"tdstype\":1}', checksum=639167563, serialized_key_size=-1, serialized_value_size=153)\n",
      "ConsumerRecord(topic='tds', partition=0, offset=440666, timestamp=1529010745496, timestamp_type=0, key=None, value=b'{\"ts\":1529010744.519078,\"uid\":\"CvHGi85sp0kS9nFM1\",\"id.orig_h\":\"192.168.7.147\",\"id.orig_p\":52424,\"id.resp_h\":\"192.168.7.134\",\"id.resp_p\":1433,\"tdstype\":1}', checksum=3005103565, serialized_key_size=-1, serialized_value_size=153)\n",
      "ConsumerRecord(topic='tds', partition=0, offset=440667, timestamp=1529010745496, timestamp_type=0, key=None, value=b'{\"ts\":1529010744.521951,\"uid\":\"CvHGi85sp0kS9nFM1\",\"id.orig_h\":\"192.168.7.147\",\"id.orig_p\":52424,\"id.resp_h\":\"192.168.7.134\",\"id.resp_p\":1433,\"tdstype\":1}', checksum=54524521, serialized_key_size=-1, serialized_value_size=153)\n",
      "ConsumerRecord(topic='tds', partition=0, offset=440668, timestamp=1529010746496, timestamp_type=0, key=None, value=b'{\"ts\":1529010745.946672,\"uid\":\"CvHGi85sp0kS9nFM1\",\"id.orig_h\":\"192.168.7.147\",\"id.orig_p\":52424,\"id.resp_h\":\"192.168.7.134\",\"id.resp_p\":1433,\"tdstype\":6}', checksum=624670539, serialized_key_size=-1, serialized_value_size=153)\n",
      "ConsumerRecord(topic='tds', partition=0, offset=440669, timestamp=1529010746496, timestamp_type=0, key=None, value=b'{\"ts\":1529010745.949657,\"uid\":\"CvHGi85sp0kS9nFM1\",\"id.orig_h\":\"192.168.7.147\",\"id.orig_p\":52424,\"id.resp_h\":\"192.168.7.134\",\"id.resp_p\":1433,\"tdstype\":1}', checksum=2483788363, serialized_key_size=-1, serialized_value_size=153)\n",
      "ConsumerRecord(topic='tds', partition=0, offset=440670, timestamp=1529010747496, timestamp_type=0, key=None, value=b'{\"ts\":1529010746.78872,\"uid\":\"CvHGi85sp0kS9nFM1\",\"id.orig_h\":\"192.168.7.147\",\"id.orig_p\":52424,\"id.resp_h\":\"192.168.7.134\",\"id.resp_p\":1433,\"tdstype\":6}', checksum=2110322574, serialized_key_size=-1, serialized_value_size=152)\n",
      "ConsumerRecord(topic='tds', partition=0, offset=440671, timestamp=1529010747496, timestamp_type=0, key=None, value=b'{\"ts\":1529010746.791026,\"uid\":\"CvHGi85sp0kS9nFM1\",\"id.orig_h\":\"192.168.7.147\",\"id.orig_p\":52424,\"id.resp_h\":\"192.168.7.134\",\"id.resp_p\":1433,\"tdstype\":1}', checksum=473100851, serialized_key_size=-1, serialized_value_size=153)\n"
     ]
    },
    {
     "ename": "KeyboardInterrupt",
     "evalue": "",
     "output_type": "error",
     "traceback": [
      "\u001b[0;31m---------------------------------------------------------------------------\u001b[0m",
      "\u001b[0;31mKeyboardInterrupt\u001b[0m                         Traceback (most recent call last)",
      "\u001b[0;32m<ipython-input-5-e9e6bc39388f>\u001b[0m in \u001b[0;36m<module>\u001b[0;34m()\u001b[0m\n\u001b[1;32m     50\u001b[0m \u001b[0;31m#myfakebrologkafka.kafka_produce(\"fuzzy\", 500)\u001b[0m\u001b[0;34m\u001b[0m\u001b[0;34m\u001b[0m\u001b[0m\n\u001b[1;32m     51\u001b[0m \u001b[0;31m#myfakebrologkafka.kafka_consume(\"http\")\u001b[0m\u001b[0;34m\u001b[0m\u001b[0;34m\u001b[0m\u001b[0m\n\u001b[0;32m---> 52\u001b[0;31m \u001b[0mmyfakebrologkafka\u001b[0m\u001b[0;34m.\u001b[0m\u001b[0mkafka_consume\u001b[0m\u001b[0;34m(\u001b[0m\u001b[0;34m\"tds\"\u001b[0m\u001b[0;34m)\u001b[0m\u001b[0;34m\u001b[0m\u001b[0m\n\u001b[0m",
      "\u001b[0;32m<ipython-input-5-e9e6bc39388f>\u001b[0m in \u001b[0;36mkafka_consume\u001b[0;34m(self, topic)\u001b[0m\n\u001b[1;32m     41\u001b[0m         \u001b[0mconsumer\u001b[0m \u001b[0;34m=\u001b[0m \u001b[0mKafkaConsumer\u001b[0m\u001b[0;34m(\u001b[0m\u001b[0mtopic\u001b[0m\u001b[0;34m,\u001b[0m \u001b[0mbootstrap_servers\u001b[0m\u001b[0;34m=\u001b[0m\u001b[0mself\u001b[0m\u001b[0;34m.\u001b[0m\u001b[0mhostip\u001b[0m \u001b[0;34m+\u001b[0m \u001b[0;34m\":\"\u001b[0m \u001b[0;34m+\u001b[0m \u001b[0mstr\u001b[0m\u001b[0;34m(\u001b[0m\u001b[0mself\u001b[0m\u001b[0;34m.\u001b[0m\u001b[0mport\u001b[0m\u001b[0;34m)\u001b[0m\u001b[0;34m)\u001b[0m\u001b[0;34m\u001b[0m\u001b[0m\n\u001b[1;32m     42\u001b[0m         \u001b[0mprint\u001b[0m\u001b[0;34m(\u001b[0m\u001b[0mconsumer\u001b[0m\u001b[0;34m.\u001b[0m\u001b[0mtopics\u001b[0m\u001b[0;34m(\u001b[0m\u001b[0;34m)\u001b[0m\u001b[0;34m)\u001b[0m\u001b[0;34m\u001b[0m\u001b[0m\n\u001b[0;32m---> 43\u001b[0;31m         \u001b[0;32mfor\u001b[0m \u001b[0mmsg\u001b[0m \u001b[0;32min\u001b[0m \u001b[0mconsumer\u001b[0m\u001b[0;34m:\u001b[0m\u001b[0;34m\u001b[0m\u001b[0m\n\u001b[0m\u001b[1;32m     44\u001b[0m             \u001b[0mprint\u001b[0m\u001b[0;34m(\u001b[0m\u001b[0mmsg\u001b[0m\u001b[0;34m)\u001b[0m\u001b[0;34m\u001b[0m\u001b[0m\n\u001b[1;32m     45\u001b[0m         \u001b[0;32mreturn\u001b[0m\u001b[0;34m\u001b[0m\u001b[0m\n",
      "\u001b[0;32m/Users/ustc-weihua/anaconda/lib/python3.6/site-packages/kafka/consumer/group.py\u001b[0m in \u001b[0;36m__next__\u001b[0;34m(self)\u001b[0m\n\u001b[1;32m   1116\u001b[0m         \u001b[0mself\u001b[0m\u001b[0;34m.\u001b[0m\u001b[0m_set_consumer_timeout\u001b[0m\u001b[0;34m(\u001b[0m\u001b[0;34m)\u001b[0m\u001b[0;34m\u001b[0m\u001b[0m\n\u001b[1;32m   1117\u001b[0m         \u001b[0;32mtry\u001b[0m\u001b[0;34m:\u001b[0m\u001b[0;34m\u001b[0m\u001b[0m\n\u001b[0;32m-> 1118\u001b[0;31m             \u001b[0;32mreturn\u001b[0m \u001b[0mnext\u001b[0m\u001b[0;34m(\u001b[0m\u001b[0mself\u001b[0m\u001b[0;34m.\u001b[0m\u001b[0m_iterator\u001b[0m\u001b[0;34m)\u001b[0m\u001b[0;34m\u001b[0m\u001b[0m\n\u001b[0m\u001b[1;32m   1119\u001b[0m         \u001b[0;32mexcept\u001b[0m \u001b[0mStopIteration\u001b[0m\u001b[0;34m:\u001b[0m\u001b[0;34m\u001b[0m\u001b[0m\n\u001b[1;32m   1120\u001b[0m             \u001b[0mself\u001b[0m\u001b[0;34m.\u001b[0m\u001b[0m_iterator\u001b[0m \u001b[0;34m=\u001b[0m \u001b[0;32mNone\u001b[0m\u001b[0;34m\u001b[0m\u001b[0m\n",
      "\u001b[0;32m/Users/ustc-weihua/anaconda/lib/python3.6/site-packages/kafka/consumer/group.py\u001b[0m in \u001b[0;36m_message_generator\u001b[0;34m(self)\u001b[0m\n\u001b[1;32m   1060\u001b[0m             \u001b[0;32mif\u001b[0m \u001b[0;32mnot\u001b[0m \u001b[0mself\u001b[0m\u001b[0;34m.\u001b[0m\u001b[0m_fetcher\u001b[0m\u001b[0;34m.\u001b[0m\u001b[0min_flight_fetches\u001b[0m\u001b[0;34m(\u001b[0m\u001b[0;34m)\u001b[0m\u001b[0;34m:\u001b[0m\u001b[0;34m\u001b[0m\u001b[0m\n\u001b[1;32m   1061\u001b[0m                 \u001b[0mpoll_ms\u001b[0m \u001b[0;34m=\u001b[0m \u001b[0mmin\u001b[0m\u001b[0;34m(\u001b[0m\u001b[0mpoll_ms\u001b[0m\u001b[0;34m,\u001b[0m \u001b[0mself\u001b[0m\u001b[0;34m.\u001b[0m\u001b[0mconfig\u001b[0m\u001b[0;34m[\u001b[0m\u001b[0;34m'reconnect_backoff_ms'\u001b[0m\u001b[0;34m]\u001b[0m\u001b[0;34m)\u001b[0m\u001b[0;34m\u001b[0m\u001b[0m\n\u001b[0;32m-> 1062\u001b[0;31m             \u001b[0mself\u001b[0m\u001b[0;34m.\u001b[0m\u001b[0m_client\u001b[0m\u001b[0;34m.\u001b[0m\u001b[0mpoll\u001b[0m\u001b[0;34m(\u001b[0m\u001b[0mtimeout_ms\u001b[0m\u001b[0;34m=\u001b[0m\u001b[0mpoll_ms\u001b[0m\u001b[0;34m)\u001b[0m\u001b[0;34m\u001b[0m\u001b[0m\n\u001b[0m\u001b[1;32m   1063\u001b[0m \u001b[0;34m\u001b[0m\u001b[0m\n\u001b[1;32m   1064\u001b[0m             \u001b[0;31m# after the long poll, we should check whether the group needs to rebalance\u001b[0m\u001b[0;34m\u001b[0m\u001b[0;34m\u001b[0m\u001b[0m\n",
      "\u001b[0;32m/Users/ustc-weihua/anaconda/lib/python3.6/site-packages/kafka/client_async.py\u001b[0m in \u001b[0;36mpoll\u001b[0;34m(self, timeout_ms, future)\u001b[0m\n\u001b[1;32m    554\u001b[0m                     \u001b[0mtimeout\u001b[0m \u001b[0;34m=\u001b[0m \u001b[0mmax\u001b[0m\u001b[0;34m(\u001b[0m\u001b[0;36m0\u001b[0m\u001b[0;34m,\u001b[0m \u001b[0mtimeout\u001b[0m \u001b[0;34m/\u001b[0m \u001b[0;36m1000\u001b[0m\u001b[0;34m)\u001b[0m  \u001b[0;31m# avoid negative timeouts\u001b[0m\u001b[0;34m\u001b[0m\u001b[0m\n\u001b[1;32m    555\u001b[0m \u001b[0;34m\u001b[0m\u001b[0m\n\u001b[0;32m--> 556\u001b[0;31m                 \u001b[0mself\u001b[0m\u001b[0;34m.\u001b[0m\u001b[0m_poll\u001b[0m\u001b[0;34m(\u001b[0m\u001b[0mtimeout\u001b[0m\u001b[0;34m)\u001b[0m\u001b[0;34m\u001b[0m\u001b[0m\n\u001b[0m\u001b[1;32m    557\u001b[0m \u001b[0;34m\u001b[0m\u001b[0m\n\u001b[1;32m    558\u001b[0m             \u001b[0;31m# called without the lock to avoid deadlock potential\u001b[0m\u001b[0;34m\u001b[0m\u001b[0;34m\u001b[0m\u001b[0m\n",
      "\u001b[0;32m/Users/ustc-weihua/anaconda/lib/python3.6/site-packages/kafka/client_async.py\u001b[0m in \u001b[0;36m_poll\u001b[0;34m(self, timeout)\u001b[0m\n\u001b[1;32m    572\u001b[0m \u001b[0;34m\u001b[0m\u001b[0m\n\u001b[1;32m    573\u001b[0m         \u001b[0mstart_select\u001b[0m \u001b[0;34m=\u001b[0m \u001b[0mtime\u001b[0m\u001b[0;34m.\u001b[0m\u001b[0mtime\u001b[0m\u001b[0;34m(\u001b[0m\u001b[0;34m)\u001b[0m\u001b[0;34m\u001b[0m\u001b[0m\n\u001b[0;32m--> 574\u001b[0;31m         \u001b[0mready\u001b[0m \u001b[0;34m=\u001b[0m \u001b[0mself\u001b[0m\u001b[0;34m.\u001b[0m\u001b[0m_selector\u001b[0m\u001b[0;34m.\u001b[0m\u001b[0mselect\u001b[0m\u001b[0;34m(\u001b[0m\u001b[0mtimeout\u001b[0m\u001b[0;34m)\u001b[0m\u001b[0;34m\u001b[0m\u001b[0m\n\u001b[0m\u001b[1;32m    575\u001b[0m         \u001b[0mend_select\u001b[0m \u001b[0;34m=\u001b[0m \u001b[0mtime\u001b[0m\u001b[0;34m.\u001b[0m\u001b[0mtime\u001b[0m\u001b[0;34m(\u001b[0m\u001b[0;34m)\u001b[0m\u001b[0;34m\u001b[0m\u001b[0m\n\u001b[1;32m    576\u001b[0m         \u001b[0;32mif\u001b[0m \u001b[0mself\u001b[0m\u001b[0;34m.\u001b[0m\u001b[0m_sensors\u001b[0m\u001b[0;34m:\u001b[0m\u001b[0;34m\u001b[0m\u001b[0m\n",
      "\u001b[0;32m/Users/ustc-weihua/anaconda/lib/python3.6/selectors.py\u001b[0m in \u001b[0;36mselect\u001b[0;34m(self, timeout)\u001b[0m\n\u001b[1;32m    575\u001b[0m             \u001b[0mready\u001b[0m \u001b[0;34m=\u001b[0m \u001b[0;34m[\u001b[0m\u001b[0;34m]\u001b[0m\u001b[0;34m\u001b[0m\u001b[0m\n\u001b[1;32m    576\u001b[0m             \u001b[0;32mtry\u001b[0m\u001b[0;34m:\u001b[0m\u001b[0;34m\u001b[0m\u001b[0m\n\u001b[0;32m--> 577\u001b[0;31m                 \u001b[0mkev_list\u001b[0m \u001b[0;34m=\u001b[0m \u001b[0mself\u001b[0m\u001b[0;34m.\u001b[0m\u001b[0m_kqueue\u001b[0m\u001b[0;34m.\u001b[0m\u001b[0mcontrol\u001b[0m\u001b[0;34m(\u001b[0m\u001b[0;32mNone\u001b[0m\u001b[0;34m,\u001b[0m \u001b[0mmax_ev\u001b[0m\u001b[0;34m,\u001b[0m \u001b[0mtimeout\u001b[0m\u001b[0;34m)\u001b[0m\u001b[0;34m\u001b[0m\u001b[0m\n\u001b[0m\u001b[1;32m    578\u001b[0m             \u001b[0;32mexcept\u001b[0m \u001b[0mInterruptedError\u001b[0m\u001b[0;34m:\u001b[0m\u001b[0;34m\u001b[0m\u001b[0m\n\u001b[1;32m    579\u001b[0m                 \u001b[0;32mreturn\u001b[0m \u001b[0mready\u001b[0m\u001b[0;34m\u001b[0m\u001b[0m\n",
      "\u001b[0;31mKeyboardInterrupt\u001b[0m: "
     ]
    }
   ],
   "source": [
    "class fakebrologkafka:\n",
    "    \n",
    "    def __init__(self, hostip, port):\n",
    "        self.hostip = hostip\n",
    "        self.port = port\n",
    "\n",
    "    def random_str(self, length):\n",
    "        return ''.join(random.choice(string.ascii_lowercase) for i in range(length))\n",
    "\n",
    "    def fake_fuzzylog(self):\n",
    "        fuzzy_fake_dict = {\n",
    "            \"Name\": hashlib.md5(self.random_str(5).encode()).hexdigest(),\n",
    "            \"CtfTp\": hashlib.md5(self.random_str(5).encode()).hexdigest(),\n",
    "            \"CtfId\": hashlib.md5(self.random_str(5).encode()).hexdigest(),\n",
    "            \"Gender\": hashlib.md5(self.random_str(5).encode()).hexdigest(),\n",
    "            \"Birthday\": hashlib.md5(self.random_str(5).encode()).hexdigest(),\n",
    "            \"Address\": hashlib.md5(self.random_str(5).encode()).hexdigest(),\n",
    "            \"Zip\": hashlib.md5(self.random_str(5).encode()).hexdigest(),\n",
    "            \"District2\": hashlib.md5(self.random_str(5).encode()).hexdigest(),\n",
    "            \"District3\": hashlib.md5(self.random_str(5).encode()).hexdigest(),\n",
    "            \"District4\": hashlib.md5(self.random_str(5).encode()).hexdigest(),\n",
    "            \"Mobile\": hashlib.md5(self.random_str(5).encode()).hexdigest(),\n",
    "            \"Tel\": hashlib.md5(self.random_str(5).encode()).hexdigest(),\n",
    "            \"Fax\": hashlib.md5(self.random_str(5).encode()).hexdigest(),\n",
    "            \"EMail\": hashlib.md5(self.random_str(5).encode()).hexdigest(),\n",
    "            \"id\": hashlib.md5(self.random_str(5).encode()).hexdigest()\n",
    "        }\n",
    "        return json.dumps(fuzzy_fake_dict, separators=(',', ':'))\n",
    "        \n",
    "    def kafka_produce(self, topic, cnt):\n",
    "        producer = KafkaProducer(bootstrap_servers=self.hostip + \":\" + str(self.port))\n",
    "        for i in range(cnt):\n",
    "            i += 1\n",
    "            thislog = self.fake_fuzzylog()\n",
    "            #print(thislog)\n",
    "            #print(type(thislog))\n",
    "            producer.send(topic, value=thislog.encode(), key=None)\n",
    "        return\n",
    "        \n",
    "    def kafka_consume(self, topic):\n",
    "        consumer = KafkaConsumer(topic, bootstrap_servers=self.hostip + \":\" + str(self.port))\n",
    "        print(consumer.topics())\n",
    "        for msg in consumer:\n",
    "            print(msg)  \n",
    "        return\n",
    "\n",
    "myfakebrologkafka = fakebrologkafka(\"192.168.7.6\", 9092)\n",
    "#myfakebrologkafka = fakebrologkafka(\"192.168.7.15\", 9092)\n",
    "#myfakebrologkafka.fake_fuzzylog()\n",
    "#myfakebrologkafka.kafka_produce(\"fuzzy\", 500)\n",
    "#myfakebrologkafka.kafka_consume(\"http\")\n",
    "myfakebrologkafka.kafka_consume(\"tds\")"
   ]
  },
  {
   "cell_type": "markdown",
   "metadata": {},
   "source": [
    "### End of this file"
   ]
  }
 ],
 "metadata": {
  "kernelspec": {
   "display_name": "Python 3",
   "language": "python",
   "name": "python3"
  },
  "language_info": {
   "codemirror_mode": {
    "name": "ipython",
    "version": 3
   },
   "file_extension": ".py",
   "mimetype": "text/x-python",
   "name": "python",
   "nbconvert_exporter": "python",
   "pygments_lexer": "ipython3",
   "version": "3.6.1"
  }
 },
 "nbformat": 4,
 "nbformat_minor": 2
}
