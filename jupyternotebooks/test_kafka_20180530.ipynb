{
 "cells": [
  {
   "cell_type": "markdown",
   "metadata": {},
   "source": [
    "### Kafka\n",
    "Listen to Kafka from the 192.168.7.114, port 9092\n",
    "\n",
    "Em... not working yet...\n",
    "See http://blog.51cto.com/leyex/1958453"
   ]
  },
  {
   "cell_type": "code",
   "execution_count": 1,
   "metadata": {
    "collapsed": true
   },
   "outputs": [],
   "source": [
    "import sys\n",
    "import hashlib\n",
    "import json\n",
    "import random\n",
    "import string\n",
    "from kafka import KafkaProducer\n",
    "from kafka import KafkaConsumer"
   ]
  },
  {
   "cell_type": "code",
   "execution_count": 34,
   "metadata": {
    "scrolled": true
   },
   "outputs": [
    {
     "name": "stdout",
     "output_type": "stream",
     "text": [
      "{\"filename\":\"ravhe.pdf\",\"hash\":{\"first name\":{\"0\":\"68d1a652fc9df0a10a9250c6f0c0976e\",\"1\":\"08e5f473e805292eed5db8d83e89e29d\"},\"last name\":{\"0\":\"125eb839ae303916fee13b931227a0b6\",\"1\":\"8e25f72bb4a09263804810217f03c4a6\"},\"middle name\":{\"0\":\"6cfabafe135856c1618571be669c21f5\",\"1\":\"0222d7d86433f407ba08c37fa3073941\"},\"name\":{\"0\":\"7ebcad4cbcea11bcf288a428e850537d\",\"1\":\"c81d9ff4a711f2f76341a483e229085c\"},\"date of brith\":{\"0\":\"0415e33210cfade6543ca3691a084fbb\",\"1\":\"1f275e70710b2b5907e6d7d99919f1fe\"},\"place of brith\":{\"0\":\"5e320a5c655b7c3adc2862a893f2cd51\",\"1\":\"cfd308270826fd6de121300d82936908\"},\"social security number\":{\"0\":\"7f37f2ceb6cbfef1f6b56b072ed74efb\",\"1\":\"01e00814cc4fb2f6e3fcf7bf2cbff6b1\"},\"street number and name\":{\"0\":\"4dd1938f4dde576a4829576aac8a811d\",\"1\":\"59380aa09d920f92a77a3f59eba1889a\"},\"city\":{\"0\":\"f4275bc09f393a994de0e48c6617f9dc\",\"1\":\"41ecffde2ac334760f4aef63ad629c4e\"},\"state\":{\"0\":\"c4045403dd658e216b0f70b04f5a7667\",\"1\":\"9d1bb6388140470e915811d7d6ed3a37\"},\"zip code\":{\"0\":\"03e4bd5a848f8bf1f617321ae6f6b2e8\",\"1\":\"755d041f69962fd86ffbb902a63dd144\"},\"country\":{\"0\":\"ed962661e56c27c81cf33046571d03d5\",\"1\":\"f36b05f07ca41a81949775b74379e94a\"},\"phone\":{\"0\":\"eeae52259b05990538aa3f087f98f890\",\"1\":\"8d810e48f6fbae887c8db0c02c7da69d\"},\"email\":{\"0\":\"cec2bff857477ae6e6c0563ee369e783\",\"1\":\"c41b0ccb36df952de3181db8fda69899\"},\"address\":{\"0\":\"d7b26bafe293096dcd8a44339effc1e1\",\"1\":\"9e6e8a1a322ee528b03fd3d0420802e7\"},\"county\":{\"0\":\"850a11a332576b9d44e06dcc9244e945\",\"1\":\"89876cc9f1365077e1353ed260894974\"},\"form name\":{\"0\":\"30d0031794f8fecb9586b485fce0b73b\",\"1\":\"30d0031794f8fecb9586b485fce0b73b\"}}}\n"
     ]
    }
   ],
   "source": [
    "class fakebrologkafka:\n",
    "    \n",
    "    def __init__(self, hostip, port):\n",
    "        self.hostip = hostip\n",
    "        self.port = port\n",
    "\n",
    "    def random_str(self, length):\n",
    "        return ''.join(random.choice(string.ascii_lowercase) for i in range(length))\n",
    "\n",
    "    def fake_fuzzylog(self):\n",
    "        fname = self.random_str(5) + \".pdf\"\n",
    "        fuzzy_fake_dict = {\n",
    "            \"filename\": fname,\n",
    "            \"hash\": {\n",
    "                \"first name\": {\n",
    "                    \"0\": hashlib.md5(self.random_str(5).encode()).hexdigest(),\n",
    "                    \"1\": hashlib.md5(self.random_str(5).encode()).hexdigest()\n",
    "                },\n",
    "                \"last name\": {\n",
    "                    \"0\": hashlib.md5(self.random_str(5).encode()).hexdigest(),\n",
    "                    \"1\": hashlib.md5(self.random_str(5).encode()).hexdigest()\n",
    "                },\n",
    "                \"middle name\": {\n",
    "                    \"0\": hashlib.md5(self.random_str(5).encode()).hexdigest(),\n",
    "                    \"1\": hashlib.md5(self.random_str(5).encode()).hexdigest()\n",
    "                },\n",
    "                \"name\": {\n",
    "                    \"0\": hashlib.md5(self.random_str(5).encode()).hexdigest(),\n",
    "                    \"1\": hashlib.md5(self.random_str(5).encode()).hexdigest()\n",
    "                },\n",
    "                \"date of brith\": {\n",
    "                    \"0\": hashlib.md5(self.random_str(5).encode()).hexdigest(),\n",
    "                    \"1\": hashlib.md5(self.random_str(5).encode()).hexdigest()\n",
    "                },\n",
    "                \"place of brith\": {\n",
    "                    \"0\": hashlib.md5(self.random_str(5).encode()).hexdigest(),\n",
    "                    \"1\": hashlib.md5(self.random_str(5).encode()).hexdigest()\n",
    "                },\n",
    "                \"social security number\": {\n",
    "                    \"0\": hashlib.md5(self.random_str(5).encode()).hexdigest(),\n",
    "                    \"1\": hashlib.md5(self.random_str(5).encode()).hexdigest()\n",
    "                },\n",
    "                \"street number and name\": {\n",
    "                    \"0\": hashlib.md5(self.random_str(5).encode()).hexdigest(),\n",
    "                    \"1\": hashlib.md5(self.random_str(5).encode()).hexdigest()\n",
    "                },\n",
    "                \"city\": {\n",
    "                    \"0\": hashlib.md5(self.random_str(5).encode()).hexdigest(),\n",
    "                    \"1\": hashlib.md5(self.random_str(5).encode()).hexdigest()\n",
    "                },\n",
    "                \"state\": {\n",
    "                    \"0\": hashlib.md5(self.random_str(5).encode()).hexdigest(),\n",
    "                    \"1\": hashlib.md5(self.random_str(5).encode()).hexdigest()\n",
    "                },\n",
    "                \"zip code\": {\n",
    "                    \"0\": hashlib.md5(self.random_str(5).encode()).hexdigest(),\n",
    "                    \"1\": hashlib.md5(self.random_str(5).encode()).hexdigest()\n",
    "                },\n",
    "                \"country\": {\n",
    "                    \"0\": hashlib.md5(self.random_str(5).encode()).hexdigest(),\n",
    "                    \"1\": hashlib.md5(self.random_str(5).encode()).hexdigest()\n",
    "                },\n",
    "                \"phone\": {\n",
    "                    \"0\": hashlib.md5(self.random_str(5).encode()).hexdigest(),\n",
    "                    \"1\": hashlib.md5(self.random_str(5).encode()).hexdigest()\n",
    "                },\n",
    "                \"email\": {\n",
    "                    \"0\": hashlib.md5(self.random_str(5).encode()).hexdigest(),\n",
    "                    \"1\": hashlib.md5(self.random_str(5).encode()).hexdigest()\n",
    "                },\n",
    "                \"address\": {\n",
    "                    \"0\": hashlib.md5(self.random_str(5).encode()).hexdigest(),\n",
    "                    \"1\": hashlib.md5(self.random_str(5).encode()).hexdigest()\n",
    "                },\n",
    "                \"county\": {\n",
    "                    \"0\": hashlib.md5(self.random_str(5).encode()).hexdigest(),\n",
    "                    \"1\": hashlib.md5(self.random_str(5).encode()).hexdigest()\n",
    "                },\n",
    "                \"form name\": {\n",
    "                    \"0\": hashlib.md5(fname.encode()).hexdigest(),\n",
    "                    \"1\": hashlib.md5(fname.encode()).hexdigest()\n",
    "                }\n",
    "            }\n",
    "        }\n",
    "\n",
    "        return fuzzy_fake_dict\n",
    "        \n",
    "    def kafka_produce(self, topic, cnt):\n",
    "        producer = KafkaProducer(bootstrap_servers=self.hostip + \":\" + str(self.port), value_serializer=lambda m: json.dumps(m).encode('ascii'))\n",
    "        for i in range(cnt):\n",
    "            i += 1\n",
    "            thislog = self.fake_fuzzylog()\n",
    "            print(json.dumps(thislog, separators=(',', ':')))\n",
    "            producer.send(topic, value=thislog, key=None)\n",
    "            producer.flush()\n",
    "        return\n",
    "        \n",
    "    def kafka_consume(self, topic):\n",
    "        consumer = KafkaConsumer(topic, bootstrap_servers=self.hostip + \":\" + str(self.port))\n",
    "        print(consumer.topics())\n",
    "        for msg in consumer:\n",
    "            print(msg)  \n",
    "        return\n",
    "\n",
    "myfakebrologkafka = fakebrologkafka(\"192.168.7.6\", 9092)\n",
    "#myfakebrologkafka = fakebrologkafka(\"192.168.7.15\", 9092)\n",
    "myfakebrologkafka.kafka_produce(\"fuzzy\", 1)\n",
    "#myfakebrologkafka.kafka_consume(\"http\")\n",
    "#myfakebrologkafka.kafka_consume(\"fuzzy\")\n",
    "#myfakebrologkafka.kafka_consume(\"tds_sqlbatch\")"
   ]
  },
  {
   "cell_type": "markdown",
   "metadata": {},
   "source": [
    "### End of this file"
   ]
  }
 ],
 "metadata": {
  "kernelspec": {
   "display_name": "Python 3",
   "language": "python",
   "name": "python3"
  },
  "language_info": {
   "codemirror_mode": {
    "name": "ipython",
    "version": 3
   },
   "file_extension": ".py",
   "mimetype": "text/x-python",
   "name": "python",
   "nbconvert_exporter": "python",
   "pygments_lexer": "ipython3",
   "version": "3.6.1"
  }
 },
 "nbformat": 4,
 "nbformat_minor": 2
}
