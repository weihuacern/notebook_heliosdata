{
 "cells": [
  {
   "cell_type": "code",
   "execution_count": 1,
   "metadata": {},
   "outputs": [
    {
     "name": "stderr",
     "output_type": "stream",
     "text": [
      "/Users/ustc-weihua/anaconda/lib/python3.6/site-packages/psycopg2/__init__.py:144: UserWarning: The psycopg2 wheel package will be renamed from release 2.8; in order to keep installing from binary please use \"pip install psycopg2-binary\" instead. For details see: <http://initd.org/psycopg/docs/install.html#binary-install-from-pypi>.\n",
      "  \"\"\")\n"
     ]
    }
   ],
   "source": [
    "from sshtunnel import SSHTunnelForwarder\n",
    "import psycopg2\n",
    "import sys"
   ]
  },
  {
   "cell_type": "code",
   "execution_count": 2,
   "metadata": {},
   "outputs": [
    {
     "name": "stdout",
     "output_type": "stream",
     "text": [
      "Connecting to database\n",
      " ->host='localhost' dbname='helios' user='helios' password='helios'\n",
      "Connected!\n",
      "\n",
      "[('http',), ('conn',), ('files',), ('dns',)]\n"
     ]
    }
   ],
   "source": [
    "# https://sshtunnel.readthedocs.io/en/latest/\n",
    "def test_conn(hostip = \"192.168.7.114\"):\n",
    "    PORT=5432\n",
    "    with SSHTunnelForwarder(\n",
    "        hostip,\n",
    "        ssh_username=\"root\",\n",
    "        ssh_password=\"Helios12$\",\n",
    "        remote_bind_address=('localhost', PORT),\n",
    "        local_bind_address=('localhost', PORT)\n",
    "    ):\n",
    "        #Define our connection string\n",
    "        conn_string = \"host='localhost' dbname='helios' user='helios' password='helios'\"\n",
    " \n",
    "        # print the connection string we will use to connect\n",
    "        print(\"Connecting to database\\n ->%s\" % (conn_string))\n",
    " \n",
    "        # get a connection, if a connect cannot be made an exception will be raised here\n",
    "        conn = psycopg2.connect(conn_string)\n",
    " \n",
    "        # conn.cursor will return a cursor object, you can use this cursor to perform queries\n",
    "        cursor = conn.cursor()\n",
    "        print(\"Connected!\\n\")\n",
    "\n",
    "        cursor.execute(\"select relname from pg_class where relkind='r' and relname !~ '^(pg_|sql_)';\")\n",
    "        print(cursor.fetchall())\n",
    "\n",
    "test_conn()"
   ]
  },
  {
   "cell_type": "code",
   "execution_count": 3,
   "metadata": {
    "collapsed": true
   },
   "outputs": [],
   "source": [
    "import numpy as np\n",
    "import pandas as pd"
   ]
  },
  {
   "cell_type": "code",
   "execution_count": null,
   "metadata": {
    "collapsed": true
   },
   "outputs": [],
   "source": []
  }
 ],
 "metadata": {
  "kernelspec": {
   "display_name": "Python 3",
   "language": "python",
   "name": "python3"
  },
  "language_info": {
   "codemirror_mode": {
    "name": "ipython",
    "version": 3
   },
   "file_extension": ".py",
   "mimetype": "text/x-python",
   "name": "python",
   "nbconvert_exporter": "python",
   "pygments_lexer": "ipython3",
   "version": "3.6.1"
  }
 },
 "nbformat": 4,
 "nbformat_minor": 2
}
