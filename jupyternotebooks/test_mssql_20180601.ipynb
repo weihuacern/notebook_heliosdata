{
 "cells": [
  {
   "cell_type": "code",
   "execution_count": 1,
   "metadata": {
    "collapsed": true
   },
   "outputs": [],
   "source": [
    "from sqlalchemy.sql import text\n",
    "from sqlalchemy import create_engine\n",
    "import pymssql\n",
    "import pymysql\n",
    "import names\n",
    "import random\n",
    "import time\n",
    "import uuid"
   ]
  },
  {
   "cell_type": "code",
   "execution_count": 2,
   "metadata": {},
   "outputs": [
    {
     "name": "stdout",
     "output_type": "stream",
     "text": [
      "(100, 'Paula', 'Belin', 'female', 10, 54)\n",
      "(100, '493-245-4891', 'eazqgdhmulrgalkqmq@aol.com', 4, 62)\n",
      "(100, 'SOV', 'New York', 'WA', 2, 60)\n",
      "(101, 'Douglas', 'Basel', 'female', 8, 28)\n",
      "(101, '428-649-4500', 'mkhkdxegrledswxm@mail.kz', 5, 32)\n",
      "(101, 'SOV', 'New York', 'WA', 10, 86)\n",
      "(102, 'David', 'Woods', 'female', 1, 66)\n",
      "(102, '247-195-1984', 'jrwlywosomear@yahoo.com', 3, 85)\n",
      "(102, 'JAP', 'Boston', 'IL', 7, 78)\n",
      "(103, 'Judith', 'Williamson', 'female', 2, 13)\n",
      "(103, '731-096-7022', 'oxssihpbbpsdaq@aol.com', 7, 100)\n",
      "(103, 'USA', 'Boston', 'IN', 6, 71)\n",
      "(104, 'Elizabeth', 'Hoffman', 'female', 1, 53)\n",
      "(104, '264-668-9117', 'ynpsvrbejjewt@mail.com', 4, 16)\n",
      "(104, 'SOV', 'Los Angeles', 'IL', 8, 91)\n"
     ]
    }
   ],
   "source": [
    "#firstname, lastname, phone number, email\n",
    "class fakepiientry:\n",
    "\n",
    "    def __init__(self):\n",
    "        self.domains = [\"hotmail.com\", \"gmail.com\", \"aol.com\", \"mail.com\" , \"mail.kz\", \"yahoo.com\"]\n",
    "        self.letters = [\"a\",\"b\",\"c\",\"d\",\"e\",\"f\",\"g\",\"h\",\"i\",\"j\",\"k\",\"l\",\"m\",\"n\",\"o\",\"p\",\"q\",\"r\",\"s\",\"t\",\"u\",\"v\",\"w\",\"x\",\"y\",\"z\"]\n",
    "        self.genders = [\"male\", \"female\"]\n",
    "        self.countries = [\"CHN\", \"USA\", \"SOV\", \"JAP\", \"GER\"]\n",
    "        self.cities = [\"New York\", \"Los Angeles\", \"San Francisco\", \"Boston\", \"Riverside\", \"Seattle\"]\n",
    "        self.stateprovinces = [\"CA\", \"NY\", \"WA\", \"IL\", \"IN\"]\n",
    "        \n",
    "    def generate_phonenumber(self):\n",
    "        first = str(random.randint(100,999))\n",
    "        second = str(random.randint(1,888)).zfill(3)\n",
    "        last = (str(random.randint(1,9998)).zfill(4))\n",
    "        while last in ['1111','2222','3333','4444','5555','6666','7777','8888']:\n",
    "            last = (str(random.randint(1,9998)).zfill(4))\n",
    "        return ('{}-{}-{}'.format(first,second, last))\n",
    "    \n",
    "    def generate_random_email(self):\n",
    "        namelen = random.randint(10,20)\n",
    "        one_name = str(''.join([self.letters[random.randint(0,len(self.letters)-1)] for i in range(namelen)]))         \n",
    "        one_domain = str(self.domains[random.randint(0, len(self.domains)-1)])\n",
    "        return(one_name  + \"@\" + one_domain)\n",
    "\n",
    "    def generate_random_gender(self):\n",
    "        return self.genders[random.randint(0, len(self.genders)-1)]\n",
    "        \n",
    "    def generate_random_country(self):\n",
    "        return self.countries[random.randint(0, len(self.countries)-1)]\n",
    "    \n",
    "    def generate_random_city(self):\n",
    "        return self.cities[random.randint(0, len(self.cities)-1)]\n",
    "    \n",
    "    def generate_random_stateprovince(self):\n",
    "        return self.stateprovinces[random.randint(0, len(self.stateprovinces)-1)]\n",
    "\n",
    "    def pii_2nd_entry_gen(self, uid):\n",
    "        return (uid, names.get_first_name(), names.get_last_name(), self.generate_random_gender(), random.randint(0, 10), random.randint(10, 100))\n",
    "    \n",
    "    def pii_3rd_entry_gen(self, uid):\n",
    "        return (uid, self.generate_phonenumber(), self.generate_random_email(), random.randint(0, 10), random.randint(10, 100))\n",
    "\n",
    "    def pii_4th_entry_gen(self, uid):\n",
    "        return (uid, self.generate_random_country(), self.generate_random_city(), self.generate_random_stateprovince(), random.randint(0, 10), random.randint(10, 100))\n",
    "    \n",
    "myfakepiientry = fakepiientry()\n",
    "for i in range(100, 105):\n",
    "    thispii2nd = myfakepiientry.pii_2nd_entry_gen(i)\n",
    "    thispii3rd = myfakepiientry.pii_3rd_entry_gen(i)\n",
    "    thispii4th = myfakepiientry.pii_4th_entry_gen(i)\n",
    "    print(thispii2nd)\n",
    "    print(thispii3rd)\n",
    "    print(thispii4th)"
   ]
  },
  {
   "cell_type": "code",
   "execution_count": 3,
   "metadata": {
    "collapsed": true
   },
   "outputs": [],
   "source": [
    "#conn = pymssql.connect(\"192.168.7.74\", \"SA\", \"Helios12$\", \"huaPIITest00\")\n",
    "#c1 = conn.cursor()\n",
    "#c1.execute(\"SELECT * FROM INFORMATION_SCHEMA.TABLES\")\n",
    "#c1.execute(\"SELECT * FROM pii_1st\")\n",
    "#print( c1.fetchall() )\n",
    "#c1.execute(\"create table dbo.pii_1st (uid int PRIMARY KEY NOT NULL)\")\n",
    "#c1.execute(\"IF OBJECT_ID('pii_1st', 'U') IS NOT NULL DROP TABLE pii_1st\")\n",
    "#c1.execute(\"CREATE TABLE pii_1st (uid INT NOT NULL)\")\n",
    "#conn.commit()\n",
    "#c1.execute(\"select * from INFORMATION_SCHEMA.COLUMNS where TABLE_NAME='pii_1st'\")\n",
    "#for x in c1.fetchall():\n",
    "#    print(x)\n",
    "#conn.close()"
   ]
  },
  {
   "cell_type": "code",
   "execution_count": 4,
   "metadata": {
    "collapsed": true
   },
   "outputs": [],
   "source": [
    "class mssqldbprocess:\n",
    "\n",
    "    def __init__(self, hostip, usrname, pwd, dbname):\n",
    "        self.hostip = hostip\n",
    "        self.usrname = usrname\n",
    "        self.pwd = pwd\n",
    "        self.dbname = dbname\n",
    "    \n",
    "    def createpii(self):\n",
    "        conn = pymssql.connect(self.hostip, self.usrname, self.pwd, self.dbname)\n",
    "        c1 = conn.cursor()\n",
    "        # table 1 for uid\n",
    "        c1.execute(\"IF OBJECT_ID('pii_1st', 'U') IS NOT NULL DROP TABLE pii_1st\")\n",
    "        c1.execute(\"CREATE TABLE pii_1st (uid INT NOT NULL, tab1col1 INT, tab1col2 INT)\")\n",
    "        c1.execute(\"IF OBJECT_ID('pii_2nd', 'U') IS NOT NULL DROP TABLE pii_2nd\")\n",
    "        c1.execute(\"CREATE TABLE pii_2nd (uid INT NOT NULL, firstname VARCHAR(100), lastname VARCHAR(100), gender VARCHAR(100), tab2col1 INT, tab2col2 INT)\")\n",
    "        c1.execute(\"IF OBJECT_ID('pii_3rd', 'U') IS NOT NULL DROP TABLE pii_3rd\")\n",
    "        c1.execute(\"CREATE TABLE pii_3rd (uid INT NOT NULL, phonenumber VARCHAR(100), email VARCHAR(100), tab3col1 INT, tab3col2 INT)\")\n",
    "        c1.execute(\"IF OBJECT_ID('pii_4th', 'U') IS NOT NULL DROP TABLE pii_4th\")\n",
    "        c1.execute(\"CREATE TABLE pii_4th (uid INT NOT NULL, country VARCHAR(100), city VARCHAR(100), stateprovince VARCHAR(100), tab4col1 INT, tab4col2 INT)\")\n",
    "        conn.commit()\n",
    "        conn.close()\n",
    "        return \n",
    "        \n",
    "    def fillpii(self, uid_beg, uid_end):\n",
    "        conn = pymssql.connect(self.hostip, self.usrname, self.pwd, self.dbname)\n",
    "        \n",
    "        c = conn.cursor()\n",
    "        entries_1st = []\n",
    "        entries_2nd = []\n",
    "        entries_3rd = []\n",
    "        entries_4th = []\n",
    "        \n",
    "        for i in range(uid_beg, uid_end):\n",
    "            #print(i)\n",
    "            entries_1st.append((i, random.randint(0, 10), random.randint(10, 100)))\n",
    "            entries_2nd.append(myfakepiientry.pii_2nd_entry_gen(i))\n",
    "            entries_3rd.append(myfakepiientry.pii_3rd_entry_gen(i))\n",
    "            entries_4th.append(myfakepiientry.pii_4th_entry_gen(i))            \n",
    "        \n",
    "        c.executemany(\"INSERT INTO pii_1st VALUES (%d, %d, %d)\", entries_1st)\n",
    "        c.executemany(\"INSERT INTO pii_2nd VALUES (%d, %s, %s, %s, %d, %d)\", entries_2nd)\n",
    "        c.executemany(\"INSERT INTO pii_3rd VALUES (%d, %s, %s, %d, %d)\", entries_3rd)\n",
    "        c.executemany(\"INSERT INTO pii_4th VALUES (%d, %s, %s, %s, %d, %d)\", entries_4th)\n",
    "        \n",
    "        conn.commit()\n",
    "        conn.close()\n",
    "        return\n",
    "\n",
    "#mymssqldbprocess = mssqldbprocess(\"192.168.7.74\", \"SA\", \"Helios12$\", \"huaPIITest00\")\n",
    "mymssqldbprocess = mssqldbprocess(\"192.168.7.74\", \"SA\", \"Helios12$\", \"huaPIITest10\")\n",
    "#mymssqldbprocess = mssqldbprocess(\"192.168.7.75\", \"SA\", \"Helios12$\", \"huaPIITest01\")\n",
    "mymssqldbprocess.createpii()\n",
    "batch_size = 50\n",
    "for i in range(0, 2):\n",
    "    mymssqldbprocess.fillpii(i*batch_size , (i+1)*batch_size)"
   ]
  },
  {
   "cell_type": "markdown",
   "metadata": {},
   "source": [
    "### End of file"
   ]
  }
 ],
 "metadata": {
  "kernelspec": {
   "display_name": "Python 3",
   "language": "python",
   "name": "python3"
  },
  "language_info": {
   "codemirror_mode": {
    "name": "ipython",
    "version": 3
   },
   "file_extension": ".py",
   "mimetype": "text/x-python",
   "name": "python",
   "nbconvert_exporter": "python",
   "pygments_lexer": "ipython3",
   "version": "3.6.1"
  }
 },
 "nbformat": 4,
 "nbformat_minor": 2
}
