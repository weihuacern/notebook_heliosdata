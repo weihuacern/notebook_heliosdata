{
 "cells": [
  {
   "cell_type": "code",
   "execution_count": 1,
   "metadata": {
    "collapsed": true
   },
   "outputs": [],
   "source": [
    "from neo4j.v1 import GraphDatabase"
   ]
  },
  {
   "cell_type": "code",
   "execution_count": 3,
   "metadata": {},
   "outputs": [
    {
     "name": "stdout",
     "output_type": "stream",
     "text": [
      "Guinevere\n",
      "Lancelot\n",
      "Merlin\n"
     ]
    }
   ],
   "source": [
    "#quick test\n",
    "driver = GraphDatabase.driver(\"bolt://192.168.7.143:7687\", auth=(\"neo4j\", \"Helios12$\"))\n",
    "\n",
    "def add_friends(tx, name, friend_name):\n",
    "    tx.run(\"MERGE (a:Person {name: $name}) \"\n",
    "           \"MERGE (a)-[:KNOWS]->(friend:Person {name: $friend_name})\",\n",
    "           name=name, friend_name=friend_name)\n",
    "\n",
    "def print_friends(tx, name):\n",
    "    for record in tx.run(\"MATCH (a:Person)-[:KNOWS]->(friend) WHERE a.name = $name \"\n",
    "                         \"RETURN friend.name ORDER BY friend.name\", name=name):\n",
    "        print(record[\"friend.name\"])\n",
    "\n",
    "with driver.session() as session:\n",
    "    session.write_transaction(add_friends, \"Arthur\", \"Guinevere\")\n",
    "    session.write_transaction(add_friends, \"Arthur\", \"Lancelot\")\n",
    "    session.write_transaction(add_friends, \"Arthur\", \"Merlin\")\n",
    "    session.read_transaction(print_friends, \"Arthur\")"
   ]
  },
  {
   "cell_type": "markdown",
   "metadata": {},
   "source": [
    "### End of this file"
   ]
  }
 ],
 "metadata": {
  "kernelspec": {
   "display_name": "Python 3",
   "language": "python",
   "name": "python3"
  },
  "language_info": {
   "codemirror_mode": {
    "name": "ipython",
    "version": 3
   },
   "file_extension": ".py",
   "mimetype": "text/x-python",
   "name": "python",
   "nbconvert_exporter": "python",
   "pygments_lexer": "ipython3",
   "version": "3.6.1"
  }
 },
 "nbformat": 4,
 "nbformat_minor": 2
}
