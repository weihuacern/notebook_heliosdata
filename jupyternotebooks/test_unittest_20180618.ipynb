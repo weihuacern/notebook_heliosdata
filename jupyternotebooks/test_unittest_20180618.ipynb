{
 "cells": [
  {
   "cell_type": "code",
   "execution_count": 1,
   "metadata": {},
   "outputs": [],
   "source": [
    "import os, sys\n",
    "lib_path = os.path.abspath(os.path.join('..'))\n",
    "sys.path.append(lib_path)"
   ]
  },
  {
   "cell_type": "code",
   "execution_count": 2,
   "metadata": {},
   "outputs": [],
   "source": [
    "import unittest\n",
    "from unittest.mock import patch\n",
    "from ddt import ddt, data, unpack\n",
    "from script.consulscanner_hash import ConsulScannerHash"
   ]
  },
  {
   "cell_type": "code",
   "execution_count": 3,
   "metadata": {},
   "outputs": [
    {
     "name": "stderr",
     "output_type": "stream",
     "text": [
      "test_consulkv_put_scanner_source_1___192_168_7_5___8500___mssql_uuid_2____mssql_alias____helios_scanner_uuid____mssql_tenant_uuid____pii_1st____uid____pii_2nd_____firstname____lastname____gender___ (__main__.ConsulScannerHashTestCase) ... ok\n",
      "test_consulkv_put_scanner_source_2___192_168_7_5___8500___mssql_uuid_3____mssql_alias____helios_scanner_uuid____mssql_tenant_uuid____pii_1st____uid____pii_3rd_____phonenumber____email___ (__main__.ConsulScannerHashTestCase) ... ok\n",
      "test_consulkv_put_scanner_source_3___192_168_7_5___8500___mssql_uuid_4____mssql_alias____helios_scanner_uuid____mssql_tenant_uuid____pii_1st____uid____pii_4th_____country____city____stateprovince___ (__main__.ConsulScannerHashTestCase) ... ok\n",
      "test_get_scanner_hashed_1___192_168_7_5___8500___pii_2nd____firstname__ (__main__.ConsulScannerHashTestCase) ... ok\n",
      "test_get_scanner_hashed_2___192_168_7_5___8500___pii_2nd____lastname__ (__main__.ConsulScannerHashTestCase) ... ok\n",
      "test_get_scanner_hashed_3___192_168_7_5___8500___pii_2nd____gender__ (__main__.ConsulScannerHashTestCase) ... ok\n",
      "test_get_scanner_hashed_4___192_168_7_5___8500___pii_3rd____phonenumber__ (__main__.ConsulScannerHashTestCase) ... ok\n",
      "test_get_scanner_hashed_5___192_168_7_5___8500___pii_3rd____email__ (__main__.ConsulScannerHashTestCase) ... /Users/ustc-weihua/anaconda/lib/python3.6/site-packages/requests/sessions.py:502: ResourceWarning: unclosed <socket.socket fd=60, family=AddressFamily.AF_INET, type=SocketKind.SOCK_STREAM, proto=6, laddr=('192.168.7.144', 52716), raddr=('192.168.7.5', 8500)>\n",
      "  hooks = hooks,\n",
      "/Users/ustc-weihua/anaconda/lib/python3.6/site-packages/requests/sessions.py:502: ResourceWarning: unclosed <socket.socket fd=61, family=AddressFamily.AF_INET, type=SocketKind.SOCK_STREAM, proto=6, laddr=('192.168.7.144', 52718), raddr=('192.168.7.5', 8500)>\n",
      "  hooks = hooks,\n",
      "/Users/ustc-weihua/anaconda/lib/python3.6/site-packages/requests/sessions.py:502: ResourceWarning: unclosed <socket.socket fd=62, family=AddressFamily.AF_INET, type=SocketKind.SOCK_STREAM, proto=6, laddr=('192.168.7.144', 52720), raddr=('192.168.7.5', 8500)>\n",
      "  hooks = hooks,\n",
      "ok\n",
      "test_get_scanner_hashed_6___192_168_7_5___8500___pii_4th____country__ (__main__.ConsulScannerHashTestCase) ... ok\n",
      "test_get_scanner_hashed_7___192_168_7_5___8500___pii_4th____city__ (__main__.ConsulScannerHashTestCase) ... ok\n",
      "test_get_scanner_hashed_8___192_168_7_5___8500___pii_4th____stateprovince__ (__main__.ConsulScannerHashTestCase) ... ok\n",
      "\n",
      "----------------------------------------------------------------------\n",
      "Ran 11 tests in 2.789s\n",
      "\n",
      "OK\n"
     ]
    }
   ],
   "source": [
    "@ddt\n",
    "class ConsulScannerHashTestCase(unittest.TestCase):\n",
    "    def setUp(self):\n",
    "        self.myConsulScannerHash = ConsulScannerHash(\"mssql\", \"192.168.7.134\", 1433, \"SA\", \"Helios12$\", \"huaPIITest\")\n",
    "\n",
    "    def tearDown(self):\n",
    "        self.myConsulScannerHash.conn.close()\n",
    "        self.myConsulScannerHash = None\n",
    "\n",
    "    @data(\n",
    "        (\"192.168.7.5\", 8500, \"mssql_uuid_2\", 'mssql_alias', \"helios_scanner_uuid\", 'mssql_tenant_uuid', \"pii_1st\", \"uid\", \"pii_2nd\", [\"firstname\", \"lastname\", \"gender\"]),\n",
    "        (\"192.168.7.5\", 8500, \"mssql_uuid_3\", 'mssql_alias', \"helios_scanner_uuid\", 'mssql_tenant_uuid', \"pii_1st\", \"uid\", \"pii_3rd\", [\"phonenumber\", \"email\"]),\n",
    "        (\"192.168.7.5\", 8500, \"mssql_uuid_4\", 'mssql_alias', \"helios_scanner_uuid\", 'mssql_tenant_uuid', \"pii_1st\", \"uid\", \"pii_4th\", [\"country\", \"city\", \"stateprovince\"])\n",
    "    )\n",
    "    @unpack\n",
    "    def test_consulkv_put_scanner_source(self,\n",
    "                                         consul_ip, consul_port,\n",
    "                                         sourceid, alias, scannerid, tenantid,\n",
    "                                         keytabname, keycolname, tabname, colnames):\n",
    "        with patch('script.consulscanner_hash.ConsulScannerHash.consulkv_put_scanner_source', return_value=1) as mock_consulkv_put_scanner_source:\n",
    "            res = mock_consulkv_put_scanner_source(consul_ip, consul_port,\n",
    "                sourceid, alias, scannerid, tenantid,\n",
    "                keytabname, keycolname, tabname, colnames)\n",
    "            self.assertEqual(res, 1)\n",
    "\n",
    "    @data((\"192.168.7.5\", 8500, \"pii_2nd\", \"firstname\"),\n",
    "          (\"192.168.7.5\", 8500, \"pii_2nd\", \"lastname\"),\n",
    "          (\"192.168.7.5\", 8500, \"pii_2nd\", \"gender\"),\n",
    "          (\"192.168.7.5\", 8500, \"pii_3rd\", \"phonenumber\"),\n",
    "          (\"192.168.7.5\", 8500, \"pii_3rd\", \"email\"),\n",
    "          (\"192.168.7.5\", 8500, \"pii_4th\", \"country\"),\n",
    "          (\"192.168.7.5\", 8500, \"pii_4th\", \"city\"),\n",
    "          (\"192.168.7.5\", 8500, \"pii_4th\", \"stateprovince\"))\n",
    "    @unpack\n",
    "    def test_get_scanner_hashed(self, consul_ip, consul_port, tabname, colname):\n",
    "        res = self.myConsulScannerHash.consulkv_get_scanner_hashed(consul_ip, consul_port, tabname, colname)\n",
    "        self.assertTrue(res)\n",
    "        self.assertIsInstance(res, list)\n",
    "        self.assertIsInstance(res[0], str)\n",
    "        \n",
    "if __name__ == '__main__':\n",
    "    unittest.main(argv=['ignored', '-v'], exit=False)"
   ]
  },
  {
   "cell_type": "markdown",
   "metadata": {},
   "source": [
    "### End of this file"
   ]
  }
 ],
 "metadata": {
  "kernelspec": {
   "display_name": "Python 3",
   "language": "python",
   "name": "python3"
  },
  "language_info": {
   "codemirror_mode": {
    "name": "ipython",
    "version": 3
   },
   "file_extension": ".py",
   "mimetype": "text/x-python",
   "name": "python",
   "nbconvert_exporter": "python",
   "pygments_lexer": "ipython3",
   "version": "3.6.1"
  }
 },
 "nbformat": 4,
 "nbformat_minor": 2
}
