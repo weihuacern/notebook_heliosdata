{
 "cells": [
  {
   "cell_type": "code",
   "execution_count": 1,
   "metadata": {
    "collapsed": true
   },
   "outputs": [],
   "source": [
    "import pymysql\n",
    "import names\n",
    "import random\n",
    "import time\n",
    "import uuid"
   ]
  },
  {
   "cell_type": "code",
   "execution_count": 2,
   "metadata": {},
   "outputs": [
    {
     "name": "stdout",
     "output_type": "stream",
     "text": [
      "(('CHARACTER_SETS',), ('COLLATIONS',), ('COLLATION_CHARACTER_SET_APPLICABILITY',), ('COLUMNS',), ('COLUMN_PRIVILEGES',), ('ENGINES',), ('EVENTS',), ('FILES',), ('GLOBAL_STATUS',), ('GLOBAL_VARIABLES',), ('KEY_COLUMN_USAGE',), ('OPTIMIZER_TRACE',), ('PARAMETERS',), ('PARTITIONS',), ('PLUGINS',), ('PROCESSLIST',), ('PROFILING',), ('REFERENTIAL_CONSTRAINTS',), ('ROUTINES',), ('SCHEMATA',), ('SCHEMA_PRIVILEGES',), ('SESSION_STATUS',), ('SESSION_VARIABLES',), ('STATISTICS',), ('TABLES',), ('TABLESPACES',), ('TABLE_CONSTRAINTS',), ('TABLE_PRIVILEGES',), ('TRIGGERS',), ('USER_PRIVILEGES',), ('VIEWS',), ('INNODB_LOCKS',), ('INNODB_TRX',), ('INNODB_SYS_DATAFILES',), ('INNODB_LOCK_WAITS',), ('INNODB_SYS_TABLESTATS',), ('INNODB_CMP',), ('INNODB_METRICS',), ('INNODB_CMP_RESET',), ('INNODB_CMP_PER_INDEX',), ('INNODB_CMPMEM_RESET',), ('INNODB_FT_DELETED',), ('INNODB_BUFFER_PAGE_LRU',), ('INNODB_SYS_FOREIGN',), ('INNODB_SYS_COLUMNS',), ('INNODB_SYS_INDEXES',), ('INNODB_FT_DEFAULT_STOPWORD',), ('INNODB_SYS_FIELDS',), ('INNODB_CMP_PER_INDEX_RESET',), ('INNODB_BUFFER_PAGE',), ('INNODB_CMPMEM',), ('INNODB_FT_INDEX_TABLE',), ('INNODB_FT_BEING_DELETED',), ('INNODB_SYS_TABLESPACES',), ('INNODB_FT_INDEX_CACHE',), ('INNODB_SYS_FOREIGN_COLS',), ('INNODB_SYS_TABLES',), ('INNODB_BUFFER_POOL_STATS',), ('INNODB_FT_CONFIG',), ('columns_priv',), ('db',), ('event',), ('func',), ('general_log',), ('help_category',), ('help_keyword',), ('help_relation',), ('help_topic',), ('innodb_index_stats',), ('innodb_table_stats',), ('ndb_binlog_index',), ('plugin',), ('proc',), ('procs_priv',), ('proxies_priv',), ('servers',), ('slave_master_info',), ('slave_relay_log_info',), ('slave_worker_info',), ('slow_log',), ('tables_priv',), ('time_zone',), ('time_zone_leap_second',), ('time_zone_name',), ('time_zone_transition',), ('time_zone_transition_type',), ('user',), ('accounts',), ('cond_instances',), ('events_stages_current',), ('events_stages_history',), ('events_stages_history_long',), ('events_stages_summary_by_account_by_event_name',), ('events_stages_summary_by_host_by_event_name',), ('events_stages_summary_by_thread_by_event_name',), ('events_stages_summary_by_user_by_event_name',), ('events_stages_summary_global_by_event_name',), ('events_statements_current',), ('events_statements_history',), ('events_statements_history_long',), ('events_statements_summary_by_account_by_event_name',), ('events_statements_summary_by_digest',), ('events_statements_summary_by_host_by_event_name',), ('events_statements_summary_by_thread_by_event_name',), ('events_statements_summary_by_user_by_event_name',), ('events_statements_summary_global_by_event_name',), ('events_waits_current',), ('events_waits_history',), ('events_waits_history_long',), ('events_waits_summary_by_account_by_event_name',), ('events_waits_summary_by_host_by_event_name',), ('events_waits_summary_by_instance',), ('events_waits_summary_by_thread_by_event_name',), ('events_waits_summary_by_user_by_event_name',), ('events_waits_summary_global_by_event_name',), ('file_instances',), ('file_summary_by_event_name',), ('file_summary_by_instance',), ('host_cache',), ('hosts',), ('mutex_instances',), ('objects_summary_global_by_type',), ('performance_timers',), ('rwlock_instances',), ('session_account_connect_attrs',), ('session_connect_attrs',), ('setup_actors',), ('setup_consumers',), ('setup_instruments',), ('setup_objects',), ('setup_timers',), ('socket_instances',), ('socket_summary_by_event_name',), ('socket_summary_by_instance',), ('table_io_waits_summary_by_index_usage',), ('table_io_waits_summary_by_table',), ('table_lock_waits_summary_by_table',), ('threads',), ('users',))\n"
     ]
    }
   ],
   "source": [
    "conn = pymysql.connect(host='192.168.7.21',\n",
    "                             user='root',\n",
    "                             password='Helios123',\n",
    "                             db='testdb')\n",
    "\n",
    "with conn.cursor() as cursor:\n",
    "    sql = \"SELECT table_name FROM information_schema.tables\"\n",
    "    cursor.execute(sql)\n",
    "    result = cursor.fetchall()\n",
    "    print(result)\n",
    "\n",
    "conn.close()"
   ]
  },
  {
   "cell_type": "code",
   "execution_count": 3,
   "metadata": {},
   "outputs": [
    {
     "name": "stdout",
     "output_type": "stream",
     "text": [
      "select street, firstname, rd1, gender, rd2, rd3, stateprovince, birthdate from TBL_1 where gender = 'PA'\n"
     ]
    },
    {
     "data": {
      "text/plain": [
       "\"select street, firstname, rd1, gender, rd2, rd3, stateprovince, birthdate from TBL_1 where gender = 'PA'\""
      ]
     },
     "execution_count": 3,
     "metadata": {},
     "output_type": "execute_result"
    }
   ],
   "source": [
    "class mysqldbfakequery:\n",
    "\n",
    "    def __init__(self, hostip, usrname, pwd, dbname):\n",
    "        self.conn = pymysql.connect(host=hostip, user=usrname, password=pwd, db=dbname)\n",
    "\n",
    "    def fakesql(self, tablename):\n",
    "        colnames = [\"firstname\", \"lastname\", \"birthdate\", \"gender\", \"country\", \"street\", \"city\", \"stateprovince\", \"latitude\", \"rd1\", \"rd2\", \"rd3\"]\n",
    "        selcol = \", \".join(set([colnames[random.randint(0,len(colnames)-1)] for i in range(10)]))\n",
    "        cutopt = [\"gender = 'male'\", \"gender = 'female'\", \"stateprovince = 'USA'\", \"gender = 'PA'\"]\n",
    "        cutstr = \" where \" + cutopt[random.randint(0,len(cutopt)-1)]\n",
    "        sqlstr = \"select \" + selcol + \" from \" + tablename + cutstr\n",
    "        print(sqlstr)\n",
    "        return sqlstr\n",
    "\n",
    "    def fakequerypii(self, cnt):\n",
    "        c = self.conn.cursor()\n",
    "        entries = []\n",
    "        for i in range(cnt):\n",
    "            c.execute(self.fakesql(\"TBL_1\"))\n",
    "        return\n",
    "\n",
    "mymysqldbfakequery = mysqldbfakequery(\"192.168.7.21\", \"root\", \"Helios123\", \"WILFRED\")\n",
    "mymysqldbfakequery.fakesql(\"TBL_1\")\n",
    "#mymssqldbfakequery.fakequerypii(20)"
   ]
  },
  {
   "cell_type": "markdown",
   "metadata": {
    "collapsed": true
   },
   "source": [
    "### End of the file"
   ]
  }
 ],
 "metadata": {
  "kernelspec": {
   "display_name": "Python 3",
   "language": "python",
   "name": "python3"
  },
  "language_info": {
   "codemirror_mode": {
    "name": "ipython",
    "version": 3
   },
   "file_extension": ".py",
   "mimetype": "text/x-python",
   "name": "python",
   "nbconvert_exporter": "python",
   "pygments_lexer": "ipython3",
   "version": "3.6.1"
  }
 },
 "nbformat": 4,
 "nbformat_minor": 2
}
