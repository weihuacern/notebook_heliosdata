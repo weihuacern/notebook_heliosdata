{
 "cells": [
  {
   "cell_type": "code",
   "execution_count": 1,
   "metadata": {
    "collapsed": true
   },
   "outputs": [],
   "source": [
    "import json\n",
    "import re"
   ]
  },
  {
   "cell_type": "code",
   "execution_count": 2,
   "metadata": {
    "collapsed": true
   },
   "outputs": [],
   "source": [
    "def parse_sqlmeta_use(sqlstr):\n",
    "    import re\n",
    "    import unicodedata\n",
    "    sqlstr = \"\".join(c for c in sqlstr if unicodedata.category(c)[0]!=\"C\")\n",
    "    print(sqlstr)\n",
    "    if sqlstr.lower().startswith('use '):\n",
    "        r_match = re.search(r\"(use |USE )(.*)\", sqlstr)\n",
    "        if r_match:            \n",
    "            return r_match.group(2).strip(\"[]\")\n",
    "        else:\n",
    "            return None\n",
    "    else:\n",
    "        return None"
   ]
  },
  {
   "cell_type": "code",
   "execution_count": 4,
   "metadata": {},
   "outputs": [
    {
     "name": "stdout",
     "output_type": "stream",
     "text": [
      "use test_9select * from information_schema.tables\n",
      "<class 'str'>\n",
      "test_9select * from information_schema.tables\n"
     ]
    }
   ],
   "source": [
    "#db_name = parse_sqlmeta_use(\"use [hr_pii]\")\n",
    "#db_name = parse_sqlmeta_use(\"use hr_pii\")\n",
    "#db_name = parse_sqlmeta_use('\\x16\\x12\\x02\\x01use test_103\\n')\n",
    "db_name = parse_sqlmeta_use('\\x16\\x12\\x02\\x01use test_9\\nselect * from information_schema.tables\\n')\n",
    "print(type(db_name))\n",
    "print(db_name)"
   ]
  },
  {
   "cell_type": "code",
   "execution_count": null,
   "metadata": {
    "collapsed": true
   },
   "outputs": [],
   "source": []
  }
 ],
 "metadata": {
  "kernelspec": {
   "display_name": "Python 3",
   "language": "python",
   "name": "python3"
  },
  "language_info": {
   "codemirror_mode": {
    "name": "ipython",
    "version": 3
   },
   "file_extension": ".py",
   "mimetype": "text/x-python",
   "name": "python",
   "nbconvert_exporter": "python",
   "pygments_lexer": "ipython3",
   "version": "3.6.1"
  }
 },
 "nbformat": 4,
 "nbformat_minor": 2
}
