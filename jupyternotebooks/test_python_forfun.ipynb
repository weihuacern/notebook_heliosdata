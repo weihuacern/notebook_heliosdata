{
 "cells": [
  {
   "cell_type": "code",
   "execution_count": 1,
   "metadata": {
    "collapsed": true
   },
   "outputs": [],
   "source": [
    "#copy vs deepcopy\n",
    "import copy"
   ]
  },
  {
   "cell_type": "code",
   "execution_count": 2,
   "metadata": {},
   "outputs": [
    {
     "name": "stdout",
     "output_type": "stream",
     "text": [
      "True\n",
      "True\n",
      "False\n",
      "True\n",
      "False\n",
      "False\n"
     ]
    }
   ],
   "source": [
    "def test_copy():\n",
    "    a = [1, 2, 3]\n",
    "    b = [4, 5, 6]\n",
    "    c = [a, b]\n",
    "    # normal euqal\n",
    "    d = c\n",
    "    print(id(c) == id(d))          # True - d is the same object as c\n",
    "    print(id(c[0]) == id(d[0]))    # True - d[0] is the same object as c[0]\n",
    "    \n",
    "    #copy\n",
    "    d = copy.copy(c)\n",
    "    print(id(c) == id(d))          # False - d is now a new object\n",
    "    print(id(c[0]) == id(d[0]))    # True - d[0] is the same object as c[0]\n",
    "\n",
    "    #deep copy\n",
    "    d = copy.deepcopy(c)\n",
    "    print(id(c) == id(d))         # False - d is now a new object\n",
    "    print(id(c[0]) == id(d[0]))   # False - d[0] is now a new object\n",
    "\n",
    "test_copy()"
   ]
  },
  {
   "cell_type": "markdown",
   "metadata": {},
   "source": [
    "### End of this file"
   ]
  }
 ],
 "metadata": {
  "kernelspec": {
   "display_name": "Python 3",
   "language": "python",
   "name": "python3"
  },
  "language_info": {
   "codemirror_mode": {
    "name": "ipython",
    "version": 3
   },
   "file_extension": ".py",
   "mimetype": "text/x-python",
   "name": "python",
   "nbconvert_exporter": "python",
   "pygments_lexer": "ipython3",
   "version": "3.6.1"
  }
 },
 "nbformat": 4,
 "nbformat_minor": 2
}
