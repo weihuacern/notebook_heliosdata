{
 "cells": [
  {
   "cell_type": "code",
   "execution_count": 1,
   "metadata": {
    "collapsed": true
   },
   "outputs": [],
   "source": [
    "import re\n",
    "import consul"
   ]
  },
  {
   "cell_type": "code",
   "execution_count": 2,
   "metadata": {},
   "outputs": [
    {
     "name": "stdout",
     "output_type": "stream",
     "text": [
      "7\n"
     ]
    }
   ],
   "source": [
    "def consulkv_get_scanner_action_index(consul_ip, consul_port):\n",
    "    c = consul.Consul(host=consul_ip, port=consul_port)\n",
    "    try:\n",
    "        res = c.kv.get(\"scanner/helios_scanner_uuid\")[1]['Value'].decode()\n",
    "        #print(res)\n",
    "        #print(type(res))\n",
    "        return int(re.findall(\"(?<=ActionIndex\\\"\\:)(.*?)(?=\\,\\\")\", res)[0]) + 1\n",
    "    except:\n",
    "        #EXCEPT(e)\n",
    "        return 0\n",
    "\n",
    "action_index = consulkv_get_scanner_action_index(\"192.168.7.21\", 8500)\n",
    "print(action_index)"
   ]
  },
  {
   "cell_type": "code",
   "execution_count": 3,
   "metadata": {},
   "outputs": [],
   "source": [
    "def _get_list_from_kv(key):\n",
    "    c = consul.Consul(host=\"192.168.7.21\")\n",
    "    try:\n",
    "        print(c.kv.get(key))\n",
    "        res = re.sub(\"\\\"\", \"\", re.findall(\"(?<=\\\"Hashes\\\"\\:\\[\\\")(.*?)(?=\\\"\\])\",\n",
    "                                              c.kv.get(key)[1]['Value'].decode())[0]).split(\",\")\n",
    "        return res\n",
    "    except Exception as e:\n",
    "        print(\"Error\")\n",
    "        #EXCEPT(str(e))\n",
    "        return []\n",
    "\n",
    "#_get_list_from_kv(\"locationinfo/192.168.8.74_1433_huaPIITest_pii_1st_uid\")"
   ]
  },
  {
   "cell_type": "markdown",
   "metadata": {},
   "source": [
    "### End of this file"
   ]
  }
 ],
 "metadata": {
  "kernelspec": {
   "display_name": "Python 3",
   "language": "python",
   "name": "python3"
  },
  "language_info": {
   "codemirror_mode": {
    "name": "ipython",
    "version": 3
   },
   "file_extension": ".py",
   "mimetype": "text/x-python",
   "name": "python",
   "nbconvert_exporter": "python",
   "pygments_lexer": "ipython3",
   "version": "3.6.1"
  }
 },
 "nbformat": 4,
 "nbformat_minor": 2
}
