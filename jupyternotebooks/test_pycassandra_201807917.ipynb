{
 "cells": [
  {
   "cell_type": "code",
   "execution_count": 1,
   "metadata": {},
   "outputs": [
    {
     "name": "stdout",
     "output_type": "stream",
     "text": [
      "['192.168.8.71', '80', '/data/form4.pdf', 'HTTP-FsxT6X3DSaAko6L9C1.pdf', 'DATE_OF_BIRTH']\n",
      "['192.168.8.77', '80', '/test/form1.pdf', 'HTTP-F6zvk04Aac5sNnmbvk.pdf', 'SOCIAL_SECURITY_NUMBER']\n",
      "['192.168.8.71', '80', '/data/form8.pdf', 'HTTP-FHb6664ub9zFE1qoQ1.pdf', 'ZIP_CODE']\n",
      "['192.168.8.71', '80', '/data/form7.pdf', 'HTTP-FFhWKCpivhGRyTPPi.pdf', 'SOCIAL_SECURITY_NUMBER']\n",
      "['192.168.8.71', '80', '/data/form8.pdf', 'HTTP-F8IcJc3mvb6klo2zN4.pdf', 'EMAIL']\n"
     ]
    }
   ],
   "source": [
    "import pandas as pd\n",
    "from cassandra.cluster import Cluster\n",
    "\n",
    "cluster = Cluster(['192.168.7.110', '192.168.7.111', '192.168.7.61'])\n",
    "#session = cluster.connect('data.storageinfo')\n",
    "session = cluster.connect()\n",
    "\n",
    "rows = session.execute('select loc from data.storageinfo limit 5')\n",
    "for row in rows:\n",
    "    print(row.loc.split('\\u0001'))\n",
    "    #print(type(row.loc))\n",
    "    #print(row.loc)\n",
    "\n",
    "cluster.shutdown()"
   ]
  },
  {
   "cell_type": "code",
   "execution_count": 13,
   "metadata": {},
   "outputs": [
    {
     "name": "stdout",
     "output_type": "stream",
     "text": [
      "192.168.7.71\u00011433\u0001\n",
      "192.168.7.71\u00011434\u0001\n"
     ]
    },
    {
     "data": {
      "text/plain": [
       "[]"
      ]
     },
     "execution_count": 13,
     "metadata": {},
     "output_type": "execute_result"
    }
   ],
   "source": [
    "from cassandra.cluster import Cluster\n",
    "\n",
    "def cs_select(cs_host_list, csql_str):\n",
    "    cluster = Cluster(cs_host_list)\n",
    "    session = cluster.connect()\n",
    "    res = session.execute(csql_str)\n",
    "    cluster.shutdown()\n",
    "    return res\n",
    "    \n",
    "#rows = cs_select(['192.168.7.110', '192.168.7.111'], \"select * from api.ds_services where ip='192.168.8.74' and port=1433\")\n",
    "#[print(row.ip, type(row.files), type(row.badges), row.connection, row.port) for row in rows]\n",
    "\n",
    "DS_DELIMITER = \"\\u0001\"\n",
    "sel_ip = \"192.168.7.71\"\n",
    "sel_port = 1433\n",
    "sel_l = DS_DELIMITER.join([sel_ip, str(sel_port)]) + DS_DELIMITER\n",
    "print(sel_l)\n",
    "sel_u = DS_DELIMITER.join([sel_ip, str(sel_port+1)]) + DS_DELIMITER\n",
    "print(sel_u)\n",
    "\n",
    "#query = \"select * from scanner.sqlcatalog\"# where loc LIKE '%192.168.7.71%'\"\n",
    "#rows = cs_select(['192.168.7.21', '192.168.7.22'], query)\n",
    "#[':'.join([row.db_name, row.table_name, row.col_name]) for row in rows if sel in row.loc]\n",
    "\n",
    "query = \"select * from scanner.sqlcatalog where loc >= '\" + sel_l + \"' and loc < '\" + sel_u + \"' allow filtering\"\n",
    "rows = cs_select(['192.168.7.110', '192.168.7.111'], query)\n",
    "[':'.join([row.ip, str(row.port), row.db_name, row.table_name, row.col_name]) for row in rows]\n",
    "\n",
    "#rows = cs_select(['192.168.7.110', '192.168.7.111'], 'select sum(dbs) as dbs, sum(tables) as tables, sum(files) as files from api.ds_services')\n",
    "#[row.dbs for row in rows][0]\n",
    "\n",
    "#rows = cs_select(['192.168.7.110', '192.168.7.111'], 'select count(ip) as servers, sum(services) as services from api.ds_servers')\n",
    "#[row.servers for row in rows][0]\n",
    "#servers, services = [(row.servers, row.services) for row in rows][0]\n",
    "#print(servers, services)\n",
    "#[print(type(row.ip)) for row in rows]"
   ]
  },
  {
   "cell_type": "code",
   "execution_count": 31,
   "metadata": {},
   "outputs": [
    {
     "name": "stdout",
     "output_type": "stream",
     "text": [
      "[{'ip': '192.168.8.71', 'port': 1433, 'storage_type': 1}, {'ip': '192.168.7.155', 'port': 1433, 'storage_type': 1}, {'ip': '192.168.8.74', 'port': 3306, 'storage_type': 2}, {'ip': '192.168.8.71', 'port': 3306, 'storage_type': 2}, {'ip': '192.168.7.74', 'port': 3306, 'storage_type': 2}]\n"
     ]
    }
   ],
   "source": [
    "#query = \"select * from api.ds_services where ip='192.168.7.155' and port=1433 allow filtering\"\n",
    "query = \"select * from api.ds_services where storage_type in (1,2)\"\n",
    "\n",
    "rows = cs_select(['192.168.7.110', '192.168.7.111'], query)\n",
    "cs_data = [{\"ip\": row.ip,\n",
    "            \"port\": row.port,\n",
    "            \"storage_type\": row.storage_type} for row in rows]\n",
    "print(cs_data)"
   ]
  },
  {
   "cell_type": "code",
   "execution_count": 3,
   "metadata": {},
   "outputs": [
    {
     "name": "stdout",
     "output_type": "stream",
     "text": [
      "[{'md5': '82161242827b703e6acf9c726942a1e4', 'source_uuid': '9eae4195-b2ae-4d76-83c5-38d29aa1ec83', 'loc': '{\"LastScanTime\":\"0001-01-01T00:00:00Z\",\"Table\":\"userinfo9\",\"Column\":\"uid\",\"NormalizedColumn\":\"uid\"}'}, {'md5': '0a09c8844ba8f0936c20bd791130d6b6', 'source_uuid': '9eae4195-b2ae-4d76-83c5-38d29aa1ec83', 'loc': '{\"LastScanTime\":\"0001-01-01T00:00:00Z\",\"Table\":\"userinfo9\",\"Column\":\"uid\",\"NormalizedColumn\":\"uid\"}'}, {'md5': 'c4b31ce7d95c75ca70d50c19aef08bf1', 'source_uuid': '9eae4195-b2ae-4d76-83c5-38d29aa1ec83', 'loc': '{\"LastScanTime\":\"0001-01-01T00:00:00Z\",\"Table\":\"userinfo9\",\"Column\":\"uid\",\"NormalizedColumn\":\"uid\"}'}, {'md5': '08ced3df2d196884401c4535cae59722', 'source_uuid': '7bc4ef46-93ab-489a-a575-d84da4a72cc9', 'loc': '{\"LastScanTime\":\"0001-01-01T00:00:00Z\",\"Table\":\"employee\",\"Column\":\"mail\",\"NormalizedColumn\":\"email\"}'}, {'md5': 'bfc628eb1dc363d228e8d1e9e1e56bfa', 'source_uuid': '7bc4ef46-93ab-489a-a575-d84da4a72cc9', 'loc': '{\"LastScanTime\":\"0001-01-01T00:00:00Z\",\"Table\":\"employee\",\"Column\":\"name\",\"NormalizedColumn\":\"full_name\"}'}]\n"
     ]
    }
   ],
   "source": [
    "query = \"select md5, source_uuid, loc from scanner.hashinfo limit 5\"\n",
    "rows = cs_select(['192.168.7.110', '192.168.7.111'], query)\n",
    "cs_data = [{\"md5\": row.md5,\n",
    "            \"source_uuid\": row.source_uuid,\n",
    "            \"loc\": row.loc} for row in rows]\n",
    "print(cs_data)"
   ]
  },
  {
   "cell_type": "code",
   "execution_count": 15,
   "metadata": {},
   "outputs": [
    {
     "name": "stdout",
     "output_type": "stream",
     "text": [
      "[]\n",
      "[{'ddn_name': '290c332d1efec714faa4bb975a075ae8', 'content': 'San Francisco,US', 'value': 3}, {'ddn_name': '54d752f95f5627ffbf66731317db0d20', 'content': 'internal,internal', 'value': 6}, {'ddn_name': '290c332d1efec714faa4bb975a075ae8', 'content': 'internal,internal', 'value': 5}, {'ddn_name': '54d752f95f5627ffbf66731317db0d20', 'content': 'San Francisco,US', 'value': 2}]\n",
      "{'Beijing': {'value': 27}, 'Shanghai': {'value': 5}, 'Nanjing': {'value': 1}, 'Tianjin': {'value': 1}}\n",
      "<class 'dict'>\n"
     ]
    },
    {
     "data": {
      "text/plain": [
       "[{'content': 'Beijing', 'value': 27},\n",
       " {'content': 'Shanghai', 'value': 5},\n",
       " {'content': 'Nanjing', 'value': 1},\n",
       " {'content': 'Tianjin', 'value': 1}]"
      ]
     },
     "execution_count": 15,
     "metadata": {},
     "output_type": "execute_result"
    }
   ],
   "source": [
    "#query = \"select ddn_name, city, count(pii_record) as value from api.content_locations group by ddn_name, city\"\n",
    "query = \"select ddn_id, city, count(last_seen_time) as value from api.access_locations group by ddn_id, city\"\n",
    "#query = \"select city, pii_record from api.content_locations where ddn_name = 'aaa' allow filtering\"\n",
    "rows = cs_select(['192.168.7.110', '192.168.7.111'], query)\n",
    "print(cs_data)\n",
    "cs_data = [{\"ddn_name\": row.ddn_id,\n",
    "            \"content\": row.city,\n",
    "            \"value\": row.value} for row in rows]\n",
    "print(cs_data)\n",
    "#print(cs_data)\n",
    "#if cs_data:\n",
    "#    print(\"aaa\")\n",
    "#else:\n",
    "#    print(\"bbb\")\n",
    "cs_data = [\n",
    "    {\"ddn_name\": \"hr\", \"content\": \"Beijing\", \"value\": 5},\n",
    "    {\"ddn_name\": \"hr\", \"content\": \"Tianjin\", \"value\": 1},\n",
    "    {\"ddn_name\": \"sales\", \"content\": \"Shanghai\", \"value\": 5},\n",
    "    {\"ddn_name\": \"sales\", \"content\": \"Beijing\", \"value\": 22},\n",
    "    {\"ddn_name\": \"hr\", \"content\": \"Nanjing\", \"value\": 1},\n",
    "]\n",
    "\n",
    "df = pd.DataFrame(cs_data)\n",
    "d = df.groupby(['content'])['value'].sum().reset_index().sort_values(by='value', ascending=False).set_index('content').T.to_dict()\n",
    "#d = d.sort_values(by='value', ascending=False)\n",
    "print(d)\n",
    "print(type(d))\n",
    "\n",
    "#.sort_values(by='value', ascending=False).to_dict()\n",
    "cs_data = [{\"content\": k, \"value\": v['value']} for k, v in d.items()]\n",
    "cs_data"
   ]
  },
  {
   "cell_type": "code",
   "execution_count": 5,
   "metadata": {},
   "outputs": [
    {
     "data": {
      "text/plain": [
       "[]"
      ]
     },
     "execution_count": 5,
     "metadata": {},
     "output_type": "execute_result"
    }
   ],
   "source": [
    "query = \"select ddn_name, feature_name as content, feature_value as value from api.pii_special\"\n",
    "cs_data = [{\"content\": row.content,\n",
    "            \"value\": row.value} for row in rows]\n",
    "cs_data"
   ]
  },
  {
   "cell_type": "code",
   "execution_count": 43,
   "metadata": {},
   "outputs": [
    {
     "name": "stdout",
     "output_type": "stream",
     "text": [
      "[{'content': 2, 'x': 697436667904.0, 'y': 8973680}, {'content': 2, 'x': 1097005793280.0, 'y': 14114748}]\n"
     ]
    }
   ],
   "source": [
    "#query = \"select ddn_id as content, bytes as x, frequency as y from api.ddn_vol_freq\"\n",
    "#query = \"select ddn_id, ddn_name as content, bytes as x, frequency as y from api.ddn_vol_freq limit 5000\"\n",
    "query = \"select ddn_id, tf_loc, storage_type as content, sum(bytes) as x, sum(frequency) as y from api.ddn_vol_freq group by ddn_id, tf_loc, storage_type\"\n",
    "\n",
    "rows = cs_select(['192.168.7.110', '192.168.7.111'], query)\n",
    "cs_data = [{\"content\": row.content,\n",
    "            \"x\": row.x,\n",
    "            \"y\": row.y} for row in rows]\n",
    "#cs_data = [{\"content\": row.content,\n",
    "#            \"value\": row.value} for row in rows]\n",
    "print(cs_data)\n",
    "#cs_data = [\n",
    "#    {\"content\": \"hr\", \"x\": 5, \"y\": 5},\n",
    "#    {\"content\": \"hr\", \"x\": 1, \"y\": 5},\n",
    "#    {\"content\": \"sales\", \"x\": 5, \"y\": 5},\n",
    "#    {\"content\": \"sales\", \"x\": 2, \"y\": 5},\n",
    "#    {\"content\": \"hr\", \"x\": 1, \"y\": 5},\n",
    "#]\n",
    "#df = pd.DataFrame(cs_data)\n",
    "#dx = df.groupby(['content'])['x'].sum().to_dict()\n",
    "#dx\n",
    "#dy = df.groupby(['content'])['y'].sum().to_dict()\n",
    "#dy\n",
    "#d = df.groupby(['content'])['x', 'y'].sum().to_dict()\n",
    "#d\n",
    "#{'x': {'hr': 7, 'sales': 7}, 'y': {'hr': 15, 'sales': 10}}\n",
    "#keys = list(d['x'].keys())\n",
    "#keys\n",
    "#cs_data = [{\"content\": k, \"value\": v} for k, v in d.items()]\n",
    "\n",
    "#cs_data = [{\"content\": key, \"x\": d['x'][key], \"y\": d['y'][key]} for key in keys]\n",
    "#cs_data"
   ]
  },
  {
   "cell_type": "code",
   "execution_count": 9,
   "metadata": {},
   "outputs": [
    {
     "name": "stdout",
     "output_type": "stream",
     "text": [
      "192.168.8.71 80\n",
      "192.168.7.71 80\n"
     ]
    },
    {
     "data": {
      "text/plain": [
       "[None, None]"
      ]
     },
     "execution_count": 9,
     "metadata": {},
     "output_type": "execute_result"
    }
   ],
   "source": [
    "#query = \"select ip, port from api.ds_services where ip='192.168.7.71' and port=80\"\n",
    "query = \"select ip, port from api.ds_services where port=80 allow filtering\"\n",
    "rows = cs_select(['192.168.7.110', '192.168.7.111'], query)\n",
    "[print(row.ip, row.port) for row in rows]"
   ]
  },
  {
   "cell_type": "code",
   "execution_count": 10,
   "metadata": {},
   "outputs": [
    {
     "name": "stdout",
     "output_type": "stream",
     "text": [
      "update api.ds_services set connection=False,status='Pending' where ip='192.168.7.71' and port=80\n"
     ]
    },
    {
     "data": {
      "text/plain": [
       "<cassandra.cluster.ResultSet at 0x10911d0f0>"
      ]
     },
     "execution_count": 10,
     "metadata": {},
     "output_type": "execute_result"
    }
   ],
   "source": [
    "def cs_update(cs_host_list, tab_n, upg_d, sel_d):\n",
    "    cluster = Cluster(cs_host_list)\n",
    "    session = cluster.connect()\n",
    "    upg_str = \",\".join(\n",
    "        [k + \"='\" + v + \"'\" if isinstance(v, str) \\\n",
    "         else k + \"=\" + str(v) if isinstance(v, int) \\\n",
    "         else k + \"=\" + str(v) \\\n",
    "         for k, v in upg_d.items()])\n",
    "    sel_str = \" and \".join(\n",
    "        [k + \"='\" + v + \"'\" if isinstance(v, str) \\\n",
    "         else k + \"=\" + str(v) if isinstance(v, int) \\\n",
    "         else k + \"=\" + str(v) \\\n",
    "         for k, v in sel_d.items()])\n",
    "    csql_str = \"update \" + tab_n + \" set \" + upg_str + \" where \" + sel_str\n",
    "    print(csql_str)\n",
    "    res = session.execute(csql_str)\n",
    "    session.shutdown()\n",
    "    cluster.shutdown()\n",
    "    return res\n",
    "\n",
    "cs_update(['192.168.7.110', '192.168.7.111', '192.168.7.61'], \n",
    "          \"api.ds_services\", \n",
    "          {\"connection\": False, \"status\": \"Pending\"}, \n",
    "          {\"ip\": \"192.168.7.71\", \"port\": 80})"
   ]
  }
 ],
 "metadata": {
  "kernelspec": {
   "display_name": "Python 3",
   "language": "python",
   "name": "python3"
  },
  "language_info": {
   "codemirror_mode": {
    "name": "ipython",
    "version": 3
   },
   "file_extension": ".py",
   "mimetype": "text/x-python",
   "name": "python",
   "nbconvert_exporter": "python",
   "pygments_lexer": "ipython3",
   "version": "3.6.1"
  }
 },
 "nbformat": 4,
 "nbformat_minor": 2
}
