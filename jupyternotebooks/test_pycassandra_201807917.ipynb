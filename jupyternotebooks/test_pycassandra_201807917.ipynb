{
 "cells": [
  {
   "cell_type": "code",
   "execution_count": 28,
   "metadata": {},
   "outputs": [
    {
     "name": "stdout",
     "output_type": "stream",
     "text": [
      "['192.168.7.71', '80', '/baseline_20181012/form10.pdf', 'HTTP-F5yME82fRLXCROAPsa.pdf', 'DATE_OF_BIRTH']\n",
      "['192.168.7.71', '80', '/baseline_20181012/form6.pdf', 'HTTP-Frv0wK3ezzMAzGyU39.pdf', 'SOCIAL_SECURITY_NUMBER']\n",
      "['192.168.8.71', '80', '/PIIFormTest/blank_form1.pdf', 'HTTP-FAVen34Mq8fv2iY4Y.pdf', 'STREET_NUMBER_AND_NAME']\n",
      "['192.168.7.71', '80', '/baseline_20181012/form6.pdf', 'HTTP-FqOYpu10gI4KtX0dBc.pdf', 'EMAIL']\n",
      "['192.168.8.71', '8080', '/form1.pdf', 'HTTP-FSknBM1IoeT9f0FHIa.pdf', 'DATE_OF_BIRTH']\n"
     ]
    }
   ],
   "source": [
    "import pandas as pd\n",
    "from cassandra.cluster import Cluster\n",
    "\n",
    "cluster = Cluster(['192.168.7.110', '192.168.7.111'])\n",
    "#session = cluster.connect('data.storageinfo')\n",
    "session = cluster.connect()\n",
    "\n",
    "rows = session.execute('select loc from data.storageinfo limit 5')\n",
    "for row in rows:\n",
    "    print(row.loc.split('\\u0001'))\n",
    "    #print(type(row.loc))\n",
    "    #print(row.loc)\n",
    "\n",
    "cluster.shutdown()"
   ]
  },
  {
   "cell_type": "code",
   "execution_count": 3,
   "metadata": {},
   "outputs": [
    {
     "name": "stdout",
     "output_type": "stream",
     "text": [
      "192.168.7.71\u00011433\u0001\n",
      "192.168.7.71\u00011434\u0001\n"
     ]
    },
    {
     "data": {
      "text/plain": [
       "[]"
      ]
     },
     "execution_count": 3,
     "metadata": {},
     "output_type": "execute_result"
    }
   ],
   "source": [
    "from cassandra.cluster import Cluster\n",
    "\n",
    "def cs_select(cs_host_list, csql_str):\n",
    "    cluster = Cluster(cs_host_list)\n",
    "    session = cluster.connect()\n",
    "    res = session.execute(csql_str)\n",
    "    cluster.shutdown()\n",
    "    return res\n",
    "    \n",
    "#rows = cs_select(['192.168.7.110', '192.168.7.111'], \"select * from api.ds_services where ip='192.168.8.74' and port=1433\")\n",
    "#[print(row.ip, type(row.files), type(row.badges), row.connection, row.port) for row in rows]\n",
    "\n",
    "DS_DELIMITER = \"\\u0001\"\n",
    "sel_ip = \"192.168.7.71\"\n",
    "sel_port = 1433\n",
    "sel_l = DS_DELIMITER.join([sel_ip, str(sel_port)]) + DS_DELIMITER\n",
    "print(sel_l)\n",
    "sel_u = DS_DELIMITER.join([sel_ip, str(sel_port+1)]) + DS_DELIMITER\n",
    "print(sel_u)\n",
    "\n",
    "#query = \"select * from scanner.sqlcatalog\"# where loc LIKE '%192.168.7.71%'\"\n",
    "#rows = cs_select(['192.168.7.21', '192.168.7.22'], query)\n",
    "#[':'.join([row.db_name, row.table_name, row.col_name]) for row in rows if sel in row.loc]\n",
    "\n",
    "query = \"select * from scanner.sqlcatalog where loc >= '\" + sel_l + \"' and loc < '\" + sel_u + \"' allow filtering\"\n",
    "rows = cs_select(['192.168.7.21', '192.168.7.22'], query)\n",
    "[':'.join([row.ip, str(row.port), row.db_name, row.table_name, row.col_name]) for row in rows]\n",
    "\n",
    "#rows = cs_select(['192.168.7.110', '192.168.7.111'], 'select sum(dbs) as dbs, sum(tables) as tables, sum(files) as files from api.ds_services')\n",
    "#[row.dbs for row in rows][0]\n",
    "\n",
    "#rows = cs_select(['192.168.7.110', '192.168.7.111'], 'select count(ip) as servers, sum(services) as services from api.ds_servers')\n",
    "#[row.servers for row in rows][0]\n",
    "#servers, services = [(row.servers, row.services) for row in rows][0]\n",
    "#print(servers, services)\n",
    "#[print(type(row.ip)) for row in rows]"
   ]
  },
  {
   "cell_type": "code",
   "execution_count": 49,
   "metadata": {},
   "outputs": [
    {
     "data": {
      "text/plain": [
       "[{'content': 'Beijing', 'value': 27},\n",
       " {'content': 'Nanjing', 'value': 1},\n",
       " {'content': 'Shanghai', 'value': 5},\n",
       " {'content': 'Tianjin', 'value': 1}]"
      ]
     },
     "execution_count": 49,
     "metadata": {},
     "output_type": "execute_result"
    }
   ],
   "source": [
    "query = \"select ddn_name, city, count(pii_record) as value from api.content_locations group by ddn_name, city\"\n",
    "query = \"select ddn_name, city, count(last_seen_time) as value from api.access_locations group by ddn_name, city\"\n",
    "#query = \"select city, pii_record from api.content_locations where ddn_name = 'aaa' allow filtering\"\n",
    "rows = cs_select(['192.168.7.110', '192.168.7.111'], query)\n",
    "cs_data = [{\"ddn_name\": row.ddn_name,\n",
    "            \"content\": row.city,\n",
    "            \"value\": row.value} for row in rows]\n",
    "#print(cs_data)\n",
    "#if cs_data:\n",
    "#    print(\"aaa\")\n",
    "#else:\n",
    "#    print(\"bbb\")\n",
    "cs_data = [\n",
    "    {\"ddn_name\": \"hr\", \"content\": \"Beijing\", \"value\": 5},\n",
    "    {\"ddn_name\": \"hr\", \"content\": \"Tianjin\", \"value\": 1},\n",
    "    {\"ddn_name\": \"sales\", \"content\": \"Shanghai\", \"value\": 5},\n",
    "    {\"ddn_name\": \"sales\", \"content\": \"Beijing\", \"value\": 22},\n",
    "    {\"ddn_name\": \"hr\", \"content\": \"Nanjing\", \"value\": 1},\n",
    "]\n",
    "\n",
    "df = pd.DataFrame(cs_data)\n",
    "d = df.groupby(['content'])['value'].sum().to_dict()\n",
    "cs_data = [{\"content\": k, \"value\": v} for k, v in d.items()]\n",
    "cs_data"
   ]
  },
  {
   "cell_type": "code",
   "execution_count": null,
   "metadata": {
    "collapsed": true
   },
   "outputs": [],
   "source": []
  }
 ],
 "metadata": {
  "kernelspec": {
   "display_name": "Python 3",
   "language": "python",
   "name": "python3"
  },
  "language_info": {
   "codemirror_mode": {
    "name": "ipython",
    "version": 3
   },
   "file_extension": ".py",
   "mimetype": "text/x-python",
   "name": "python",
   "nbconvert_exporter": "python",
   "pygments_lexer": "ipython3",
   "version": "3.6.1"
  }
 },
 "nbformat": 4,
 "nbformat_minor": 2
}
