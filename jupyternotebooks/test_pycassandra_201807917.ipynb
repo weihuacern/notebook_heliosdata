{
 "cells": [
  {
   "cell_type": "code",
   "execution_count": 1,
   "metadata": {},
   "outputs": [
    {
     "name": "stdout",
     "output_type": "stream",
     "text": [
      "['192.168.8.71', '80', '/data/form8.pdf', 'HTTP-FHb6664ub9zFE1qoQ1.pdf', 'ZIP_CODE']\n",
      "['192.168.8.71', '80', '/data/form7.pdf', 'HTTP-FFhWKCpivhGRyTPPi.pdf', 'SOCIAL_SECURITY_NUMBER']\n",
      "['192.168.8.71', '80', '/data/form8.pdf', 'HTTP-F8IcJc3mvb6klo2zN4.pdf', 'EMAIL']\n",
      "['192.168.8.71', '80', '/data/form5.pdf', 'HTTP-FPWn9wZTh42ocyY9c.pdf', 'EMAIL']\n",
      "['192.168.8.71', '80', '/data/form5.pdf', 'HTTP-F2CqYm2O3noXW4Awyb.pdf', 'ADDRESS']\n"
     ]
    }
   ],
   "source": [
    "import pandas as pd\n",
    "from cassandra.cluster import Cluster\n",
    "\n",
    "cluster = Cluster(['192.168.7.110', '192.168.7.111', '192.168.7.61'])\n",
    "#session = cluster.connect('data.storageinfo')\n",
    "session = cluster.connect()\n",
    "\n",
    "rows = session.execute('select loc from data.storageinfo limit 5')\n",
    "for row in rows:\n",
    "    print(row.loc.split('\\u0001'))\n",
    "    #print(type(row.loc))\n",
    "    #print(row.loc)\n",
    "\n",
    "cluster.shutdown()"
   ]
  },
  {
   "cell_type": "code",
   "execution_count": 2,
   "metadata": {},
   "outputs": [
    {
     "name": "stdout",
     "output_type": "stream",
     "text": [
      "192.168.7.71\u00011433\u0001\n",
      "192.168.7.71\u00011434\u0001\n"
     ]
    },
    {
     "data": {
      "text/plain": [
       "[]"
      ]
     },
     "execution_count": 2,
     "metadata": {},
     "output_type": "execute_result"
    }
   ],
   "source": [
    "from cassandra.cluster import Cluster\n",
    "\n",
    "def cs_select(cs_host_list, csql_str):\n",
    "    cluster = Cluster(cs_host_list)\n",
    "    session = cluster.connect()\n",
    "    res = session.execute(csql_str)\n",
    "    cluster.shutdown()\n",
    "    return res\n",
    "    \n",
    "#rows = cs_select(['192.168.7.110', '192.168.7.111'], \"select * from api.ds_services where ip='192.168.8.74' and port=1433\")\n",
    "#[print(row.ip, type(row.files), type(row.badges), row.connection, row.port) for row in rows]\n",
    "\n",
    "DS_DELIMITER = \"\\u0001\"\n",
    "sel_ip = \"192.168.7.71\"\n",
    "sel_port = 1433\n",
    "sel_l = DS_DELIMITER.join([sel_ip, str(sel_port)]) + DS_DELIMITER\n",
    "print(sel_l)\n",
    "sel_u = DS_DELIMITER.join([sel_ip, str(sel_port+1)]) + DS_DELIMITER\n",
    "print(sel_u)\n",
    "\n",
    "#query = \"select * from scanner.sqlcatalog\"# where loc LIKE '%192.168.7.71%'\"\n",
    "#rows = cs_select(['192.168.7.21', '192.168.7.22'], query)\n",
    "#[':'.join([row.db_name, row.table_name, row.col_name]) for row in rows if sel in row.loc]\n",
    "\n",
    "query = \"select * from scanner.sqlcatalog where loc >= '\" + sel_l + \"' and loc < '\" + sel_u + \"' allow filtering\"\n",
    "rows = cs_select(['192.168.7.21', '192.168.7.22'], query)\n",
    "[':'.join([row.ip, str(row.port), row.db_name, row.table_name, row.col_name]) for row in rows]\n",
    "\n",
    "#rows = cs_select(['192.168.7.110', '192.168.7.111'], 'select sum(dbs) as dbs, sum(tables) as tables, sum(files) as files from api.ds_services')\n",
    "#[row.dbs for row in rows][0]\n",
    "\n",
    "#rows = cs_select(['192.168.7.110', '192.168.7.111'], 'select count(ip) as servers, sum(services) as services from api.ds_servers')\n",
    "#[row.servers for row in rows][0]\n",
    "#servers, services = [(row.servers, row.services) for row in rows][0]\n",
    "#print(servers, services)\n",
    "#[print(type(row.ip)) for row in rows]"
   ]
  },
  {
   "cell_type": "code",
   "execution_count": 3,
   "metadata": {},
   "outputs": [
    {
     "name": "stdout",
     "output_type": "stream",
     "text": [
      "[{'md5': '82161242827b703e6acf9c726942a1e4', 'source_uuid': '', 'loc': '{\"LastScanTime\":\"0001-01-01T00:00:00Z\",\"Table\":\"testtable\",\"Column\":\"id\",\"NormalizedColumn\":\"date_of_birth\"}'}, {'md5': '25a293d9a8fbeda4b73d6ab1dfb97453', 'source_uuid': '', 'loc': '{\"LastScanTime\":\"0001-01-01T00:00:00Z\",\"Table\":\"testtable\",\"Column\":\"item2\",\"NormalizedColumn\":\"contact_number\"}'}, {'md5': 'a3638bb998ce345d64ee7546d72253a3', 'source_uuid': '', 'loc': '{\"LastScanTime\":\"0001-01-01T00:00:00Z\",\"Table\":\"testtable\",\"Column\":\"item2\",\"NormalizedColumn\":\"contact_number\"}'}, {'md5': 'cfbac67a6a6fe4c0fa70aee3bd242c12', 'source_uuid': '', 'loc': '{\"LastScanTime\":\"0001-01-01T00:00:00Z\",\"Table\":\"testtable\",\"Column\":\"item1\",\"NormalizedColumn\":\"item1\"}'}, {'md5': '42e659478f4f047edd2c001595cd58fc', 'source_uuid': '', 'loc': '{\"LastScanTime\":\"0001-01-01T00:00:00Z\",\"Table\":\"testtable\",\"Column\":\"item3\",\"NormalizedColumn\":\"road\"}'}]\n"
     ]
    }
   ],
   "source": [
    "query = \"select md5, source_uuid, loc from scanner.hashinfo limit 5\"\n",
    "rows = cs_select(['192.168.7.110', '192.168.7.111'], query)\n",
    "cs_data = [{\"md5\": row.md5,\n",
    "            \"source_uuid\": row.source_uuid,\n",
    "            \"loc\": row.loc} for row in rows]\n",
    "print(cs_data)"
   ]
  },
  {
   "cell_type": "code",
   "execution_count": 4,
   "metadata": {},
   "outputs": [
    {
     "data": {
      "text/plain": [
       "[{'content': 'Beijing', 'value': 27},\n",
       " {'content': 'Nanjing', 'value': 1},\n",
       " {'content': 'Shanghai', 'value': 5},\n",
       " {'content': 'Tianjin', 'value': 1}]"
      ]
     },
     "execution_count": 4,
     "metadata": {},
     "output_type": "execute_result"
    }
   ],
   "source": [
    "query = \"select ddn_name, city, count(pii_record) as value from api.content_locations group by ddn_name, city\"\n",
    "query = \"select ddn_name, city, count(last_seen_time) as value from api.access_locations group by ddn_name, city\"\n",
    "#query = \"select city, pii_record from api.content_locations where ddn_name = 'aaa' allow filtering\"\n",
    "rows = cs_select(['192.168.7.110', '192.168.7.111'], query)\n",
    "cs_data = [{\"ddn_name\": row.ddn_name,\n",
    "            \"content\": row.city,\n",
    "            \"value\": row.value} for row in rows]\n",
    "#print(cs_data)\n",
    "#if cs_data:\n",
    "#    print(\"aaa\")\n",
    "#else:\n",
    "#    print(\"bbb\")\n",
    "cs_data = [\n",
    "    {\"ddn_name\": \"hr\", \"content\": \"Beijing\", \"value\": 5},\n",
    "    {\"ddn_name\": \"hr\", \"content\": \"Tianjin\", \"value\": 1},\n",
    "    {\"ddn_name\": \"sales\", \"content\": \"Shanghai\", \"value\": 5},\n",
    "    {\"ddn_name\": \"sales\", \"content\": \"Beijing\", \"value\": 22},\n",
    "    {\"ddn_name\": \"hr\", \"content\": \"Nanjing\", \"value\": 1},\n",
    "]\n",
    "\n",
    "df = pd.DataFrame(cs_data)\n",
    "d = df.groupby(['content'])['value'].sum().to_dict()\n",
    "cs_data = [{\"content\": k, \"value\": v} for k, v in d.items()]\n",
    "cs_data"
   ]
  },
  {
   "cell_type": "code",
   "execution_count": 5,
   "metadata": {},
   "outputs": [
    {
     "data": {
      "text/plain": [
       "[]"
      ]
     },
     "execution_count": 5,
     "metadata": {},
     "output_type": "execute_result"
    }
   ],
   "source": [
    "query = \"select ddn_name, feature_name as content, feature_value as value from api.pii_special\"\n",
    "cs_data = [{\"content\": row.content,\n",
    "            \"value\": row.value} for row in rows]\n",
    "cs_data"
   ]
  },
  {
   "cell_type": "code",
   "execution_count": 6,
   "metadata": {},
   "outputs": [
    {
     "data": {
      "text/plain": [
       "[{'content': 'hr', 'x': 7, 'y': 15}, {'content': 'sales', 'x': 7, 'y': 10}]"
      ]
     },
     "execution_count": 6,
     "metadata": {},
     "output_type": "execute_result"
    }
   ],
   "source": [
    "query = \"select ddn_name as content, bytes as x, frequency as y from api.ddn_vol_freq\"\n",
    "cs_data = [{\"content\": row.content,\n",
    "            \"x\": row.x,\n",
    "            \"y\": row.y} for row in rows]\n",
    "cs_data = [\n",
    "    {\"content\": \"hr\", \"x\": 5, \"y\": 5},\n",
    "    {\"content\": \"hr\", \"x\": 1, \"y\": 5},\n",
    "    {\"content\": \"sales\", \"x\": 5, \"y\": 5},\n",
    "    {\"content\": \"sales\", \"x\": 2, \"y\": 5},\n",
    "    {\"content\": \"hr\", \"x\": 1, \"y\": 5},\n",
    "]\n",
    "df = pd.DataFrame(cs_data)\n",
    "dx = df.groupby(['content'])['x'].sum().to_dict()\n",
    "dx\n",
    "dy = df.groupby(['content'])['y'].sum().to_dict()\n",
    "dy\n",
    "d = df.groupby(['content'])['x', 'y'].sum().to_dict()\n",
    "d\n",
    "#{'x': {'hr': 7, 'sales': 7}, 'y': {'hr': 15, 'sales': 10}}\n",
    "keys = list(d['x'].keys())\n",
    "keys\n",
    "#cs_data = [{\"content\": k, \"value\": v} for k, v in d.items()]\n",
    "\n",
    "cs_data = [{\"content\": key, \"x\": d['x'][key], \"y\": d['y'][key]} for key in keys]\n",
    "cs_data"
   ]
  },
  {
   "cell_type": "code",
   "execution_count": 9,
   "metadata": {},
   "outputs": [
    {
     "name": "stdout",
     "output_type": "stream",
     "text": [
      "192.168.8.71 80\n",
      "192.168.7.71 80\n"
     ]
    },
    {
     "data": {
      "text/plain": [
       "[None, None]"
      ]
     },
     "execution_count": 9,
     "metadata": {},
     "output_type": "execute_result"
    }
   ],
   "source": [
    "#query = \"select ip, port from api.ds_services where ip='192.168.7.71' and port=80\"\n",
    "query = \"select ip, port from api.ds_services where port=80 allow filtering\"\n",
    "rows = cs_select(['192.168.7.110', '192.168.7.111'], query)\n",
    "[print(row.ip, row.port) for row in rows]"
   ]
  },
  {
   "cell_type": "code",
   "execution_count": 10,
   "metadata": {},
   "outputs": [
    {
     "name": "stdout",
     "output_type": "stream",
     "text": [
      "update api.ds_services set connection=False,status='Pending' where ip='192.168.7.71' and port=80\n"
     ]
    },
    {
     "data": {
      "text/plain": [
       "<cassandra.cluster.ResultSet at 0x10911d0f0>"
      ]
     },
     "execution_count": 10,
     "metadata": {},
     "output_type": "execute_result"
    }
   ],
   "source": [
    "def cs_update(cs_host_list, tab_n, upg_d, sel_d):\n",
    "    cluster = Cluster(cs_host_list)\n",
    "    session = cluster.connect()\n",
    "    upg_str = \",\".join(\n",
    "        [k + \"='\" + v + \"'\" if isinstance(v, str) \\\n",
    "         else k + \"=\" + str(v) if isinstance(v, int) \\\n",
    "         else k + \"=\" + str(v) \\\n",
    "         for k, v in upg_d.items()])\n",
    "    sel_str = \" and \".join(\n",
    "        [k + \"='\" + v + \"'\" if isinstance(v, str) \\\n",
    "         else k + \"=\" + str(v) if isinstance(v, int) \\\n",
    "         else k + \"=\" + str(v) \\\n",
    "         for k, v in sel_d.items()])\n",
    "    csql_str = \"update \" + tab_n + \" set \" + upg_str + \" where \" + sel_str\n",
    "    print(csql_str)\n",
    "    res = session.execute(csql_str)\n",
    "    session.shutdown()\n",
    "    cluster.shutdown()\n",
    "    return res\n",
    "\n",
    "cs_update(['192.168.7.110', '192.168.7.111', '192.168.7.61'], \n",
    "          \"api.ds_services\", \n",
    "          {\"connection\": False, \"status\": \"Pending\"}, \n",
    "          {\"ip\": \"192.168.7.71\", \"port\": 80})"
   ]
  },
  {
   "cell_type": "code",
   "execution_count": null,
   "metadata": {
    "collapsed": true
   },
   "outputs": [],
   "source": []
  }
 ],
 "metadata": {
  "kernelspec": {
   "display_name": "Python 3",
   "language": "python",
   "name": "python3"
  },
  "language_info": {
   "codemirror_mode": {
    "name": "ipython",
    "version": 3
   },
   "file_extension": ".py",
   "mimetype": "text/x-python",
   "name": "python",
   "nbconvert_exporter": "python",
   "pygments_lexer": "ipython3",
   "version": "3.6.1"
  }
 },
 "nbformat": 4,
 "nbformat_minor": 2
}
